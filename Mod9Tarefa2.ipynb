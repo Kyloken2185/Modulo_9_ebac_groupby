{
 "cells": [
  {
   "cell_type": "markdown",
   "metadata": {
    "id": "eYvCczy6lTt7"
   },
   "source": [
    "# Livro para consulta:\n",
    "- https://jakevdp.github.io/PythonDataScienceHandbook/03.08-aggregation-and-grouping.html\n",
    "- https://jakevdp.github.io/PythonDataScienceHandbook/03.09-pivot-tables.html\n",
    "    "
   ]
  },
  {
   "cell_type": "markdown",
   "metadata": {
    "id": "oeWprAfnlTt-"
   },
   "source": [
    "# 1. Importando bibliotecas <a name=\"import\"></a>\n",
    "\n",
    "<div style=\"text-align: right\"\n",
    "     \n",
    "[Voltar ao índice](#Contents)"
   ]
  },
  {
   "cell_type": "code",
   "execution_count": 1,
   "metadata": {
    "ExecuteTime": {
     "end_time": "2021-06-06T21:12:37.298706Z",
     "start_time": "2021-06-06T21:12:36.656481Z"
    },
    "id": "y_9gYudilTt_"
   },
   "outputs": [],
   "source": [
    "# Importamos as bibliotecas nescessárias para as nossas análises:\n",
    "import numpy as np\n",
    "import pandas as pd\n",
    "import seaborn as sns\n",
    "import matplotlib.pyplot as plt\n",
    "\n",
    "# Escrevemos esta linha de código para que os gráficos sejam criados abaixo de nossa linha de código e não em outra plataforma ou janela para\n",
    "# que possamos visualizar com mais facilidade:\n",
    "%matplotlib inline"
   ]
  },
  {
   "cell_type": "markdown",
   "metadata": {
    "id": "-cpxC-IBlTuA"
   },
   "source": [
    "# 2. Carregando o dataframe SINASC <a name=\"read\"></a>\n",
    "<div style=\"text-align: right\"\n",
    "     \n",
    "[Voltar ao índice](#Contents)"
   ]
  },
  {
   "cell_type": "code",
   "execution_count": 2,
   "metadata": {
    "ExecuteTime": {
     "end_time": "2021-06-06T21:12:37.762376Z",
     "start_time": "2021-06-06T21:12:37.728383Z"
    },
    "id": "nQZn7u4DlTuB",
    "outputId": "74b44036-69d9-4139-b291-621d77ed331b",
    "scrolled": true
   },
   "outputs": [
    {
     "data": {
      "text/html": [
       "<div>\n",
       "<style scoped>\n",
       "    .dataframe tbody tr th:only-of-type {\n",
       "        vertical-align: middle;\n",
       "    }\n",
       "\n",
       "    .dataframe tbody tr th {\n",
       "        vertical-align: top;\n",
       "    }\n",
       "\n",
       "    .dataframe thead th {\n",
       "        text-align: right;\n",
       "    }\n",
       "</style>\n",
       "<table border=\"1\" class=\"dataframe\">\n",
       "  <thead>\n",
       "    <tr style=\"text-align: right;\">\n",
       "      <th></th>\n",
       "      <th>ORIGEM</th>\n",
       "      <th>CODESTAB</th>\n",
       "      <th>CODMUNNASC</th>\n",
       "      <th>LOCNASC</th>\n",
       "      <th>IDADEMAE</th>\n",
       "      <th>ESTCIVMAE</th>\n",
       "      <th>ESCMAE</th>\n",
       "      <th>CODOCUPMAE</th>\n",
       "      <th>QTDFILVIVO</th>\n",
       "      <th>QTDFILMORT</th>\n",
       "      <th>...</th>\n",
       "      <th>KOTELCHUCK</th>\n",
       "      <th>CONTADOR</th>\n",
       "      <th>munResStatus</th>\n",
       "      <th>munResTipo</th>\n",
       "      <th>munResNome</th>\n",
       "      <th>munResUf</th>\n",
       "      <th>munResLat</th>\n",
       "      <th>munResLon</th>\n",
       "      <th>munResAlt</th>\n",
       "      <th>munResArea</th>\n",
       "    </tr>\n",
       "  </thead>\n",
       "  <tbody>\n",
       "    <tr>\n",
       "      <th>0</th>\n",
       "      <td>1</td>\n",
       "      <td>2679477.0</td>\n",
       "      <td>110001</td>\n",
       "      <td>1</td>\n",
       "      <td>19</td>\n",
       "      <td>5.0</td>\n",
       "      <td>8 a 11 anos</td>\n",
       "      <td>NaN</td>\n",
       "      <td>0.0</td>\n",
       "      <td>0.0</td>\n",
       "      <td>...</td>\n",
       "      <td>5</td>\n",
       "      <td>1</td>\n",
       "      <td>ATIVO</td>\n",
       "      <td>MUNIC</td>\n",
       "      <td>Alta Floresta D'Oeste</td>\n",
       "      <td>Rondônia</td>\n",
       "      <td>-11.93554</td>\n",
       "      <td>-61.99982</td>\n",
       "      <td>338.0</td>\n",
       "      <td>7067.025</td>\n",
       "    </tr>\n",
       "    <tr>\n",
       "      <th>1</th>\n",
       "      <td>1</td>\n",
       "      <td>2679477.0</td>\n",
       "      <td>110001</td>\n",
       "      <td>1</td>\n",
       "      <td>29</td>\n",
       "      <td>2.0</td>\n",
       "      <td>8 a 11 anos</td>\n",
       "      <td>999992.0</td>\n",
       "      <td>1.0</td>\n",
       "      <td>0.0</td>\n",
       "      <td>...</td>\n",
       "      <td>5</td>\n",
       "      <td>2</td>\n",
       "      <td>ATIVO</td>\n",
       "      <td>MUNIC</td>\n",
       "      <td>Alta Floresta D'Oeste</td>\n",
       "      <td>Rondônia</td>\n",
       "      <td>-11.93554</td>\n",
       "      <td>-61.99982</td>\n",
       "      <td>338.0</td>\n",
       "      <td>7067.025</td>\n",
       "    </tr>\n",
       "    <tr>\n",
       "      <th>2</th>\n",
       "      <td>1</td>\n",
       "      <td>2679477.0</td>\n",
       "      <td>110001</td>\n",
       "      <td>1</td>\n",
       "      <td>37</td>\n",
       "      <td>9.0</td>\n",
       "      <td>8 a 11 anos</td>\n",
       "      <td>513205.0</td>\n",
       "      <td>2.0</td>\n",
       "      <td>0.0</td>\n",
       "      <td>...</td>\n",
       "      <td>5</td>\n",
       "      <td>3</td>\n",
       "      <td>ATIVO</td>\n",
       "      <td>MUNIC</td>\n",
       "      <td>Alta Floresta D'Oeste</td>\n",
       "      <td>Rondônia</td>\n",
       "      <td>-11.93554</td>\n",
       "      <td>-61.99982</td>\n",
       "      <td>338.0</td>\n",
       "      <td>7067.025</td>\n",
       "    </tr>\n",
       "    <tr>\n",
       "      <th>3</th>\n",
       "      <td>1</td>\n",
       "      <td>2516500.0</td>\n",
       "      <td>110001</td>\n",
       "      <td>1</td>\n",
       "      <td>30</td>\n",
       "      <td>5.0</td>\n",
       "      <td>12 anos ou mais</td>\n",
       "      <td>231205.0</td>\n",
       "      <td>0.0</td>\n",
       "      <td>0.0</td>\n",
       "      <td>...</td>\n",
       "      <td>4</td>\n",
       "      <td>4</td>\n",
       "      <td>ATIVO</td>\n",
       "      <td>MUNIC</td>\n",
       "      <td>Alto Alegre dos Parecis</td>\n",
       "      <td>Rondônia</td>\n",
       "      <td>-12.13178</td>\n",
       "      <td>-61.85308</td>\n",
       "      <td>397.0</td>\n",
       "      <td>3958.273</td>\n",
       "    </tr>\n",
       "    <tr>\n",
       "      <th>4</th>\n",
       "      <td>1</td>\n",
       "      <td>2516500.0</td>\n",
       "      <td>110001</td>\n",
       "      <td>1</td>\n",
       "      <td>30</td>\n",
       "      <td>2.0</td>\n",
       "      <td>8 a 11 anos</td>\n",
       "      <td>999992.0</td>\n",
       "      <td>1.0</td>\n",
       "      <td>0.0</td>\n",
       "      <td>...</td>\n",
       "      <td>5</td>\n",
       "      <td>5</td>\n",
       "      <td>ATIVO</td>\n",
       "      <td>MUNIC</td>\n",
       "      <td>Alta Floresta D'Oeste</td>\n",
       "      <td>Rondônia</td>\n",
       "      <td>-11.93554</td>\n",
       "      <td>-61.99982</td>\n",
       "      <td>338.0</td>\n",
       "      <td>7067.025</td>\n",
       "    </tr>\n",
       "  </tbody>\n",
       "</table>\n",
       "<p>5 rows × 69 columns</p>\n",
       "</div>"
      ],
      "text/plain": [
       "   ORIGEM   CODESTAB  CODMUNNASC  LOCNASC  IDADEMAE  ESTCIVMAE  \\\n",
       "0       1  2679477.0      110001        1        19        5.0   \n",
       "1       1  2679477.0      110001        1        29        2.0   \n",
       "2       1  2679477.0      110001        1        37        9.0   \n",
       "3       1  2516500.0      110001        1        30        5.0   \n",
       "4       1  2516500.0      110001        1        30        2.0   \n",
       "\n",
       "            ESCMAE  CODOCUPMAE  QTDFILVIVO  QTDFILMORT  ...  KOTELCHUCK  \\\n",
       "0      8 a 11 anos         NaN         0.0         0.0  ...           5   \n",
       "1      8 a 11 anos    999992.0         1.0         0.0  ...           5   \n",
       "2      8 a 11 anos    513205.0         2.0         0.0  ...           5   \n",
       "3  12 anos ou mais    231205.0         0.0         0.0  ...           4   \n",
       "4      8 a 11 anos    999992.0         1.0         0.0  ...           5   \n",
       "\n",
       "  CONTADOR munResStatus munResTipo               munResNome  munResUf  \\\n",
       "0        1        ATIVO      MUNIC    Alta Floresta D'Oeste  Rondônia   \n",
       "1        2        ATIVO      MUNIC    Alta Floresta D'Oeste  Rondônia   \n",
       "2        3        ATIVO      MUNIC    Alta Floresta D'Oeste  Rondônia   \n",
       "3        4        ATIVO      MUNIC  Alto Alegre dos Parecis  Rondônia   \n",
       "4        5        ATIVO      MUNIC    Alta Floresta D'Oeste  Rondônia   \n",
       "\n",
       "   munResLat munResLon  munResAlt  munResArea  \n",
       "0  -11.93554 -61.99982      338.0    7067.025  \n",
       "1  -11.93554 -61.99982      338.0    7067.025  \n",
       "2  -11.93554 -61.99982      338.0    7067.025  \n",
       "3  -12.13178 -61.85308      397.0    3958.273  \n",
       "4  -11.93554 -61.99982      338.0    7067.025  \n",
       "\n",
       "[5 rows x 69 columns]"
      ]
     },
     "execution_count": 2,
     "metadata": {},
     "output_type": "execute_result"
    }
   ],
   "source": [
    "# Carregamos a nossa base de dados que usaremos em nossa análise:\n",
    "sinasc_raw = pd.read_csv('Profissão_Cientista_de_Dados_M9_A1_SINASC_RO_2019.csv')\n",
    "\n",
    "# Mostramos o DataFrame para verificação e visualização de dados;\n",
    "sinasc_raw.head()"
   ]
  },
  {
   "cell_type": "code",
   "execution_count": 3,
   "metadata": {},
   "outputs": [
    {
     "data": {
      "text/plain": [
       "Index(['ORIGEM', 'CODESTAB', 'CODMUNNASC', 'LOCNASC', 'IDADEMAE', 'ESTCIVMAE',\n",
       "       'ESCMAE', 'CODOCUPMAE', 'QTDFILVIVO', 'QTDFILMORT', 'CODMUNRES',\n",
       "       'GESTACAO', 'GRAVIDEZ', 'PARTO', 'CONSULTAS', 'DTNASC', 'HORANASC',\n",
       "       'SEXO', 'APGAR1', 'APGAR5', 'RACACOR', 'PESO', 'IDANOMAL', 'DTCADASTRO',\n",
       "       'CODANOMAL', 'NUMEROLOTE', 'VERSAOSIST', 'DTRECEBIM', 'DIFDATA',\n",
       "       'DTRECORIGA', 'NATURALMAE', 'CODMUNNATU', 'CODUFNATU', 'ESCMAE2010',\n",
       "       'SERIESCMAE', 'DTNASCMAE', 'RACACORMAE', 'QTDGESTANT', 'QTDPARTNOR',\n",
       "       'QTDPARTCES', 'IDADEPAI', 'DTULTMENST', 'SEMAGESTAC', 'TPMETESTIM',\n",
       "       'CONSPRENAT', 'MESPRENAT', 'TPAPRESENT', 'STTRABPART', 'STCESPARTO',\n",
       "       'TPNASCASSI', 'TPFUNCRESP', 'TPDOCRESP', 'DTDECLARAC', 'ESCMAEAGR1',\n",
       "       'STDNEPIDEM', 'STDNNOVA', 'CODPAISRES', 'TPROBSON', 'PARIDADE',\n",
       "       'KOTELCHUCK', 'CONTADOR', 'munResStatus', 'munResTipo', 'munResNome',\n",
       "       'munResUf', 'munResLat', 'munResLon', 'munResAlt', 'munResArea'],\n",
       "      dtype='object')"
      ]
     },
     "execution_count": 3,
     "metadata": {},
     "output_type": "execute_result"
    }
   ],
   "source": [
    "# Vamos verificar as colunas existentes em nosso DataFrame de modo mais explícito para que possamos fazer as nossas análises:\n",
    "sinasc_raw.columns"
   ]
  },
  {
   "cell_type": "markdown",
   "metadata": {
    "id": "9GOoel3-lTuD"
   },
   "source": [
    "# Tarefa 2"
   ]
  },
  {
   "cell_type": "markdown",
   "metadata": {
    "id": "iNNeWswTlTuD"
   },
   "source": [
    "### 1. Crie 2 faixas de Latitude do município (munResLat) sendo uma acima e outra abaixo de -10.5 e aplique o groupby usando essas faixas como chave e realize operações de soma, media, minimo, maximo, mediana, desvio padrao, variancia para pelo menos 2 variáveis numéricas ainda não utilizadas"
   ]
  },
  {
   "cell_type": "code",
   "execution_count": 4,
   "metadata": {
    "id": "HXtelNbnlTuE"
   },
   "outputs": [
    {
     "data": {
      "text/html": [
       "<div>\n",
       "<style scoped>\n",
       "    .dataframe tbody tr th:only-of-type {\n",
       "        vertical-align: middle;\n",
       "    }\n",
       "\n",
       "    .dataframe tbody tr th {\n",
       "        vertical-align: top;\n",
       "    }\n",
       "\n",
       "    .dataframe thead th {\n",
       "        text-align: right;\n",
       "    }\n",
       "</style>\n",
       "<table border=\"1\" class=\"dataframe\">\n",
       "  <thead>\n",
       "    <tr style=\"text-align: right;\">\n",
       "      <th></th>\n",
       "      <th>munResLat</th>\n",
       "      <th>SEMAGESTAC</th>\n",
       "    </tr>\n",
       "  </thead>\n",
       "  <tbody>\n",
       "    <tr>\n",
       "      <th>0</th>\n",
       "      <td>-11.93554</td>\n",
       "      <td>39.0</td>\n",
       "    </tr>\n",
       "    <tr>\n",
       "      <th>1</th>\n",
       "      <td>-11.93554</td>\n",
       "      <td>38.0</td>\n",
       "    </tr>\n",
       "    <tr>\n",
       "      <th>2</th>\n",
       "      <td>-11.93554</td>\n",
       "      <td>40.0</td>\n",
       "    </tr>\n",
       "    <tr>\n",
       "      <th>3</th>\n",
       "      <td>-12.13178</td>\n",
       "      <td>38.0</td>\n",
       "    </tr>\n",
       "    <tr>\n",
       "      <th>4</th>\n",
       "      <td>-11.93554</td>\n",
       "      <td>38.0</td>\n",
       "    </tr>\n",
       "  </tbody>\n",
       "</table>\n",
       "</div>"
      ],
      "text/plain": [
       "   munResLat  SEMAGESTAC\n",
       "0  -11.93554        39.0\n",
       "1  -11.93554        38.0\n",
       "2  -11.93554        40.0\n",
       "3  -12.13178        38.0\n",
       "4  -11.93554        38.0"
      ]
     },
     "execution_count": 4,
     "metadata": {},
     "output_type": "execute_result"
    }
   ],
   "source": [
    "# Construiremos um novo DataFrame com as colunas 'munResLat' e 'SEMAGESTAC' para que possamos começar a nossa primeira análise:\n",
    "sinasc_1 = sinasc_raw[['munResLat', 'SEMAGESTAC']]\n",
    "\n",
    "# Mostramos a nossa base de dados para visualização e verificação:\n",
    "sinasc_1.head(5)"
   ]
  },
  {
   "cell_type": "code",
   "execution_count": 5,
   "metadata": {},
   "outputs": [
    {
     "name": "stderr",
     "output_type": "stream",
     "text": [
      "/tmp/ipykernel_6355/1827266541.py:2: SettingWithCopyWarning: \n",
      "A value is trying to be set on a copy of a slice from a DataFrame.\n",
      "Try using .loc[row_indexer,col_indexer] = value instead\n",
      "\n",
      "See the caveats in the documentation: https://pandas.pydata.org/pandas-docs/stable/user_guide/indexing.html#returning-a-view-versus-a-copy\n",
      "  sinasc_1['lat_categoria'] = sinasc_1['munResLat'].map(lambda x: 'Mais ao Sul' if x <= -10.5 else 'Mais ao Norte')\n"
     ]
    },
    {
     "data": {
      "text/html": [
       "<div>\n",
       "<style scoped>\n",
       "    .dataframe tbody tr th:only-of-type {\n",
       "        vertical-align: middle;\n",
       "    }\n",
       "\n",
       "    .dataframe tbody tr th {\n",
       "        vertical-align: top;\n",
       "    }\n",
       "\n",
       "    .dataframe thead th {\n",
       "        text-align: right;\n",
       "    }\n",
       "</style>\n",
       "<table border=\"1\" class=\"dataframe\">\n",
       "  <thead>\n",
       "    <tr style=\"text-align: right;\">\n",
       "      <th></th>\n",
       "      <th>munResLat</th>\n",
       "      <th>SEMAGESTAC</th>\n",
       "      <th>lat_categoria</th>\n",
       "    </tr>\n",
       "  </thead>\n",
       "  <tbody>\n",
       "    <tr>\n",
       "      <th>0</th>\n",
       "      <td>-11.93554</td>\n",
       "      <td>39.0</td>\n",
       "      <td>Mais ao Sul</td>\n",
       "    </tr>\n",
       "    <tr>\n",
       "      <th>1</th>\n",
       "      <td>-11.93554</td>\n",
       "      <td>38.0</td>\n",
       "      <td>Mais ao Sul</td>\n",
       "    </tr>\n",
       "    <tr>\n",
       "      <th>2</th>\n",
       "      <td>-11.93554</td>\n",
       "      <td>40.0</td>\n",
       "      <td>Mais ao Sul</td>\n",
       "    </tr>\n",
       "    <tr>\n",
       "      <th>3</th>\n",
       "      <td>-12.13178</td>\n",
       "      <td>38.0</td>\n",
       "      <td>Mais ao Sul</td>\n",
       "    </tr>\n",
       "    <tr>\n",
       "      <th>4</th>\n",
       "      <td>-11.93554</td>\n",
       "      <td>38.0</td>\n",
       "      <td>Mais ao Sul</td>\n",
       "    </tr>\n",
       "  </tbody>\n",
       "</table>\n",
       "</div>"
      ],
      "text/plain": [
       "   munResLat  SEMAGESTAC lat_categoria\n",
       "0  -11.93554        39.0   Mais ao Sul\n",
       "1  -11.93554        38.0   Mais ao Sul\n",
       "2  -11.93554        40.0   Mais ao Sul\n",
       "3  -12.13178        38.0   Mais ao Sul\n",
       "4  -11.93554        38.0   Mais ao Sul"
      ]
     },
     "execution_count": 5,
     "metadata": {},
     "output_type": "execute_result"
    }
   ],
   "source": [
    "# Agora vamos aplicar o método Mapping para separar a coluna 'munResLat' em duas faixas de valores: uma abaixo de -10.5 e outra acima.\n",
    "sinasc_1['lat_categoria'] = sinasc_1['munResLat'].map(lambda x: 'Mais ao Sul' if x <= -10.5 else 'Mais ao Norte')\n",
    "\n",
    "# Mostramos o DataFrame para visualização e verificação:\n",
    "sinasc_1.head()"
   ]
  },
  {
   "cell_type": "code",
   "execution_count": 6,
   "metadata": {},
   "outputs": [
    {
     "data": {
      "text/html": [
       "<div>\n",
       "<style scoped>\n",
       "    .dataframe tbody tr th:only-of-type {\n",
       "        vertical-align: middle;\n",
       "    }\n",
       "\n",
       "    .dataframe tbody tr th {\n",
       "        vertical-align: top;\n",
       "    }\n",
       "\n",
       "    .dataframe thead tr th {\n",
       "        text-align: left;\n",
       "    }\n",
       "\n",
       "    .dataframe thead tr:last-of-type th {\n",
       "        text-align: right;\n",
       "    }\n",
       "</style>\n",
       "<table border=\"1\" class=\"dataframe\">\n",
       "  <thead>\n",
       "    <tr>\n",
       "      <th></th>\n",
       "      <th colspan=\"7\" halign=\"left\">SEMAGESTAC</th>\n",
       "    </tr>\n",
       "    <tr>\n",
       "      <th></th>\n",
       "      <th>soma</th>\n",
       "      <th>média</th>\n",
       "      <th>mínimo</th>\n",
       "      <th>máximo</th>\n",
       "      <th>mediana</th>\n",
       "      <th>desvio-padrão</th>\n",
       "      <th>variância</th>\n",
       "    </tr>\n",
       "    <tr>\n",
       "      <th>lat_categoria</th>\n",
       "      <th></th>\n",
       "      <th></th>\n",
       "      <th></th>\n",
       "      <th></th>\n",
       "      <th></th>\n",
       "      <th></th>\n",
       "      <th></th>\n",
       "    </tr>\n",
       "  </thead>\n",
       "  <tbody>\n",
       "    <tr>\n",
       "      <th>Mais ao Norte</th>\n",
       "      <td>511987.0</td>\n",
       "      <td>38.588107</td>\n",
       "      <td>21.0</td>\n",
       "      <td>45.0</td>\n",
       "      <td>39.0</td>\n",
       "      <td>2.020771</td>\n",
       "      <td>4.083516</td>\n",
       "    </tr>\n",
       "    <tr>\n",
       "      <th>Mais ao Sul</th>\n",
       "      <td>482665.0</td>\n",
       "      <td>38.545360</td>\n",
       "      <td>19.0</td>\n",
       "      <td>45.0</td>\n",
       "      <td>39.0</td>\n",
       "      <td>2.012435</td>\n",
       "      <td>4.049895</td>\n",
       "    </tr>\n",
       "  </tbody>\n",
       "</table>\n",
       "</div>"
      ],
      "text/plain": [
       "              SEMAGESTAC                                                 \\\n",
       "                    soma      média mínimo máximo mediana desvio-padrão   \n",
       "lat_categoria                                                             \n",
       "Mais ao Norte   511987.0  38.588107   21.0   45.0    39.0      2.020771   \n",
       "Mais ao Sul     482665.0  38.545360   19.0   45.0    39.0      2.012435   \n",
       "\n",
       "                         \n",
       "              variância  \n",
       "lat_categoria            \n",
       "Mais ao Norte  4.083516  \n",
       "Mais ao Sul    4.049895  "
      ]
     },
     "execution_count": 6,
     "metadata": {},
     "output_type": "execute_result"
    }
   ],
   "source": [
    "# Finalmente, vamos agrupar segunndo a nova coluna 'lat_categoria', aplicamos o método de agregação de funções e aplicamos as funções\n",
    "# 'sum', 'mean', 'min', 'max', 'median', 'std' e 'var':\n",
    "sinasc_1.groupby(['lat_categoria']).agg({'SEMAGESTAC' : [('soma','sum'), \n",
    "                                                         ('média','mean'), \n",
    "                                                         ('mínimo','min'), \n",
    "                                                         ('máximo','max'), \n",
    "                                                         ('mediana','median'),\n",
    "                                                         ('desvio-padrão','std'), \n",
    "                                                         ('variância','var')]\n",
    "                                        })"
   ]
  },
  {
   "cell_type": "code",
   "execution_count": 7,
   "metadata": {},
   "outputs": [
    {
     "data": {
      "text/html": [
       "<div>\n",
       "<style scoped>\n",
       "    .dataframe tbody tr th:only-of-type {\n",
       "        vertical-align: middle;\n",
       "    }\n",
       "\n",
       "    .dataframe tbody tr th {\n",
       "        vertical-align: top;\n",
       "    }\n",
       "\n",
       "    .dataframe thead th {\n",
       "        text-align: right;\n",
       "    }\n",
       "</style>\n",
       "<table border=\"1\" class=\"dataframe\">\n",
       "  <thead>\n",
       "    <tr style=\"text-align: right;\">\n",
       "      <th></th>\n",
       "      <th>munResLat</th>\n",
       "      <th>CONSPRENAT</th>\n",
       "    </tr>\n",
       "  </thead>\n",
       "  <tbody>\n",
       "    <tr>\n",
       "      <th>0</th>\n",
       "      <td>-11.93554</td>\n",
       "      <td>8.0</td>\n",
       "    </tr>\n",
       "    <tr>\n",
       "      <th>1</th>\n",
       "      <td>-11.93554</td>\n",
       "      <td>10.0</td>\n",
       "    </tr>\n",
       "    <tr>\n",
       "      <th>2</th>\n",
       "      <td>-11.93554</td>\n",
       "      <td>8.0</td>\n",
       "    </tr>\n",
       "    <tr>\n",
       "      <th>3</th>\n",
       "      <td>-12.13178</td>\n",
       "      <td>6.0</td>\n",
       "    </tr>\n",
       "    <tr>\n",
       "      <th>4</th>\n",
       "      <td>-11.93554</td>\n",
       "      <td>8.0</td>\n",
       "    </tr>\n",
       "  </tbody>\n",
       "</table>\n",
       "</div>"
      ],
      "text/plain": [
       "   munResLat  CONSPRENAT\n",
       "0  -11.93554         8.0\n",
       "1  -11.93554        10.0\n",
       "2  -11.93554         8.0\n",
       "3  -12.13178         6.0\n",
       "4  -11.93554         8.0"
      ]
     },
     "execution_count": 7,
     "metadata": {},
     "output_type": "execute_result"
    }
   ],
   "source": [
    "# Construiremos um novo DataFrame com as colunas 'munResLat' e 'CONSPRENAT' para que possamos começar a nossa primeira análise:\n",
    "sinasc_2 = sinasc_raw[['munResLat', 'CONSPRENAT']]\n",
    "\n",
    "# Mostramos a nossa base de dados para visualização e verificação:\n",
    "sinasc_2.head(5)"
   ]
  },
  {
   "cell_type": "code",
   "execution_count": 8,
   "metadata": {},
   "outputs": [
    {
     "name": "stderr",
     "output_type": "stream",
     "text": [
      "/tmp/ipykernel_6355/1286587953.py:2: SettingWithCopyWarning: \n",
      "A value is trying to be set on a copy of a slice from a DataFrame.\n",
      "Try using .loc[row_indexer,col_indexer] = value instead\n",
      "\n",
      "See the caveats in the documentation: https://pandas.pydata.org/pandas-docs/stable/user_guide/indexing.html#returning-a-view-versus-a-copy\n",
      "  sinasc_2['lat_categoria'] = sinasc_2['munResLat'].map(lambda x: 'Mais ao Sul' if x <= -10.5 else 'Mais ao Norte')\n"
     ]
    },
    {
     "data": {
      "text/html": [
       "<div>\n",
       "<style scoped>\n",
       "    .dataframe tbody tr th:only-of-type {\n",
       "        vertical-align: middle;\n",
       "    }\n",
       "\n",
       "    .dataframe tbody tr th {\n",
       "        vertical-align: top;\n",
       "    }\n",
       "\n",
       "    .dataframe thead th {\n",
       "        text-align: right;\n",
       "    }\n",
       "</style>\n",
       "<table border=\"1\" class=\"dataframe\">\n",
       "  <thead>\n",
       "    <tr style=\"text-align: right;\">\n",
       "      <th></th>\n",
       "      <th>munResLat</th>\n",
       "      <th>CONSPRENAT</th>\n",
       "      <th>lat_categoria</th>\n",
       "    </tr>\n",
       "  </thead>\n",
       "  <tbody>\n",
       "    <tr>\n",
       "      <th>0</th>\n",
       "      <td>-11.93554</td>\n",
       "      <td>8.0</td>\n",
       "      <td>Mais ao Sul</td>\n",
       "    </tr>\n",
       "    <tr>\n",
       "      <th>1</th>\n",
       "      <td>-11.93554</td>\n",
       "      <td>10.0</td>\n",
       "      <td>Mais ao Sul</td>\n",
       "    </tr>\n",
       "    <tr>\n",
       "      <th>2</th>\n",
       "      <td>-11.93554</td>\n",
       "      <td>8.0</td>\n",
       "      <td>Mais ao Sul</td>\n",
       "    </tr>\n",
       "    <tr>\n",
       "      <th>3</th>\n",
       "      <td>-12.13178</td>\n",
       "      <td>6.0</td>\n",
       "      <td>Mais ao Sul</td>\n",
       "    </tr>\n",
       "    <tr>\n",
       "      <th>4</th>\n",
       "      <td>-11.93554</td>\n",
       "      <td>8.0</td>\n",
       "      <td>Mais ao Sul</td>\n",
       "    </tr>\n",
       "  </tbody>\n",
       "</table>\n",
       "</div>"
      ],
      "text/plain": [
       "   munResLat  CONSPRENAT lat_categoria\n",
       "0  -11.93554         8.0   Mais ao Sul\n",
       "1  -11.93554        10.0   Mais ao Sul\n",
       "2  -11.93554         8.0   Mais ao Sul\n",
       "3  -12.13178         6.0   Mais ao Sul\n",
       "4  -11.93554         8.0   Mais ao Sul"
      ]
     },
     "execution_count": 8,
     "metadata": {},
     "output_type": "execute_result"
    }
   ],
   "source": [
    "# Agora vamos aplicar o método Mapping para separar a coluna 'munResLat' em duas faixas de valores: uma abaixo de -10.5 e outra acima.\n",
    "sinasc_2['lat_categoria'] = sinasc_2['munResLat'].map(lambda x: 'Mais ao Sul' if x <= -10.5 else 'Mais ao Norte')\n",
    "\n",
    "# Mostramos o DataFrame para visualização e verificação:\n",
    "sinasc_2.head()"
   ]
  },
  {
   "cell_type": "code",
   "execution_count": 9,
   "metadata": {},
   "outputs": [
    {
     "data": {
      "text/html": [
       "<div>\n",
       "<style scoped>\n",
       "    .dataframe tbody tr th:only-of-type {\n",
       "        vertical-align: middle;\n",
       "    }\n",
       "\n",
       "    .dataframe tbody tr th {\n",
       "        vertical-align: top;\n",
       "    }\n",
       "\n",
       "    .dataframe thead tr th {\n",
       "        text-align: left;\n",
       "    }\n",
       "\n",
       "    .dataframe thead tr:last-of-type th {\n",
       "        text-align: right;\n",
       "    }\n",
       "</style>\n",
       "<table border=\"1\" class=\"dataframe\">\n",
       "  <thead>\n",
       "    <tr>\n",
       "      <th></th>\n",
       "      <th colspan=\"7\" halign=\"left\">CONSPRENAT</th>\n",
       "    </tr>\n",
       "    <tr>\n",
       "      <th></th>\n",
       "      <th>soma</th>\n",
       "      <th>média</th>\n",
       "      <th>mínimo</th>\n",
       "      <th>máximo</th>\n",
       "      <th>mediana</th>\n",
       "      <th>desvio-padrão</th>\n",
       "      <th>variância</th>\n",
       "    </tr>\n",
       "    <tr>\n",
       "      <th>lat_categoria</th>\n",
       "      <th></th>\n",
       "      <th></th>\n",
       "      <th></th>\n",
       "      <th></th>\n",
       "      <th></th>\n",
       "      <th></th>\n",
       "      <th></th>\n",
       "    </tr>\n",
       "  </thead>\n",
       "  <tbody>\n",
       "    <tr>\n",
       "      <th>Mais ao Norte</th>\n",
       "      <td>105365.0</td>\n",
       "      <td>7.930528</td>\n",
       "      <td>0.0</td>\n",
       "      <td>99.0</td>\n",
       "      <td>8.0</td>\n",
       "      <td>5.863848</td>\n",
       "      <td>34.384710</td>\n",
       "    </tr>\n",
       "    <tr>\n",
       "      <th>Mais ao Sul</th>\n",
       "      <td>110072.0</td>\n",
       "      <td>8.591321</td>\n",
       "      <td>0.0</td>\n",
       "      <td>99.0</td>\n",
       "      <td>8.0</td>\n",
       "      <td>4.243102</td>\n",
       "      <td>18.003915</td>\n",
       "    </tr>\n",
       "  </tbody>\n",
       "</table>\n",
       "</div>"
      ],
      "text/plain": [
       "              CONSPRENAT                                                \\\n",
       "                    soma     média mínimo máximo mediana desvio-padrão   \n",
       "lat_categoria                                                            \n",
       "Mais ao Norte   105365.0  7.930528    0.0   99.0     8.0      5.863848   \n",
       "Mais ao Sul     110072.0  8.591321    0.0   99.0     8.0      4.243102   \n",
       "\n",
       "                          \n",
       "               variância  \n",
       "lat_categoria             \n",
       "Mais ao Norte  34.384710  \n",
       "Mais ao Sul    18.003915  "
      ]
     },
     "execution_count": 9,
     "metadata": {},
     "output_type": "execute_result"
    }
   ],
   "source": [
    "# Finalmente, vamos agrupar segunndo a nova coluna 'lat_categoria', aplicamos o método de agregação de funções e aplicamos as funções\n",
    "# 'sum', 'mean', 'min', 'max', 'median', 'std' e 'var':\n",
    "sinasc_2.groupby(['lat_categoria']).agg({'CONSPRENAT' : [('soma','sum'), \n",
    "                                                         ('média','mean'), \n",
    "                                                         ('mínimo','min'), \n",
    "                                                         ('máximo','max'), \n",
    "                                                         ('mediana','median'),\n",
    "                                                         ('desvio-padrão','std'), \n",
    "                                                         ('variância','var')]\n",
    "                                        })"
   ]
  },
  {
   "cell_type": "markdown",
   "metadata": {
    "id": "AK33D0mdlTuE"
   },
   "source": [
    "### 2. Crie 2 faixas da área dos municípios (munResArea) sendo uma acima e outra abaixo de 3000 e aplique o groupby usando essas faixas como chave e realize operações de soma, media, minimo, maximo, mediana, desvio padrao, variancia para pelo menos 2 variáveis numéricas ainda não utilizadas\n"
   ]
  },
  {
   "cell_type": "code",
   "execution_count": 10,
   "metadata": {
    "id": "qqCXJtYIlTuE"
   },
   "outputs": [
    {
     "data": {
      "text/html": [
       "<div>\n",
       "<style scoped>\n",
       "    .dataframe tbody tr th:only-of-type {\n",
       "        vertical-align: middle;\n",
       "    }\n",
       "\n",
       "    .dataframe tbody tr th {\n",
       "        vertical-align: top;\n",
       "    }\n",
       "\n",
       "    .dataframe thead th {\n",
       "        text-align: right;\n",
       "    }\n",
       "</style>\n",
       "<table border=\"1\" class=\"dataframe\">\n",
       "  <thead>\n",
       "    <tr style=\"text-align: right;\">\n",
       "      <th></th>\n",
       "      <th>munResArea</th>\n",
       "      <th>SEMAGESTAC</th>\n",
       "    </tr>\n",
       "  </thead>\n",
       "  <tbody>\n",
       "    <tr>\n",
       "      <th>0</th>\n",
       "      <td>7067.025</td>\n",
       "      <td>39.0</td>\n",
       "    </tr>\n",
       "    <tr>\n",
       "      <th>1</th>\n",
       "      <td>7067.025</td>\n",
       "      <td>38.0</td>\n",
       "    </tr>\n",
       "    <tr>\n",
       "      <th>2</th>\n",
       "      <td>7067.025</td>\n",
       "      <td>40.0</td>\n",
       "    </tr>\n",
       "    <tr>\n",
       "      <th>3</th>\n",
       "      <td>3958.273</td>\n",
       "      <td>38.0</td>\n",
       "    </tr>\n",
       "    <tr>\n",
       "      <th>4</th>\n",
       "      <td>7067.025</td>\n",
       "      <td>38.0</td>\n",
       "    </tr>\n",
       "  </tbody>\n",
       "</table>\n",
       "</div>"
      ],
      "text/plain": [
       "   munResArea  SEMAGESTAC\n",
       "0    7067.025        39.0\n",
       "1    7067.025        38.0\n",
       "2    7067.025        40.0\n",
       "3    3958.273        38.0\n",
       "4    7067.025        38.0"
      ]
     },
     "execution_count": 10,
     "metadata": {},
     "output_type": "execute_result"
    }
   ],
   "source": [
    "# Construiremos um novo DataFrame com as colunas 'munResArea' e 'SEMAGESTAC' para que possamos começar a nossa primeira análise:\n",
    "sinasc_3 = sinasc_raw[['munResArea', 'SEMAGESTAC']]\n",
    "\n",
    "# Mostramos a nossa base de dados para visualização e verificação:\n",
    "sinasc_3.head(5)"
   ]
  },
  {
   "cell_type": "code",
   "execution_count": 11,
   "metadata": {},
   "outputs": [
    {
     "name": "stderr",
     "output_type": "stream",
     "text": [
      "/tmp/ipykernel_6355/3208218514.py:2: SettingWithCopyWarning: \n",
      "A value is trying to be set on a copy of a slice from a DataFrame.\n",
      "Try using .loc[row_indexer,col_indexer] = value instead\n",
      "\n",
      "See the caveats in the documentation: https://pandas.pydata.org/pandas-docs/stable/user_guide/indexing.html#returning-a-view-versus-a-copy\n",
      "  sinasc_3['area_categoria'] = sinasc_3['munResArea'].map(lambda x: 'Mais abaixo' if x <= 3000 else 'Mais acima')\n"
     ]
    },
    {
     "data": {
      "text/html": [
       "<div>\n",
       "<style scoped>\n",
       "    .dataframe tbody tr th:only-of-type {\n",
       "        vertical-align: middle;\n",
       "    }\n",
       "\n",
       "    .dataframe tbody tr th {\n",
       "        vertical-align: top;\n",
       "    }\n",
       "\n",
       "    .dataframe thead th {\n",
       "        text-align: right;\n",
       "    }\n",
       "</style>\n",
       "<table border=\"1\" class=\"dataframe\">\n",
       "  <thead>\n",
       "    <tr style=\"text-align: right;\">\n",
       "      <th></th>\n",
       "      <th>munResArea</th>\n",
       "      <th>SEMAGESTAC</th>\n",
       "      <th>area_categoria</th>\n",
       "    </tr>\n",
       "  </thead>\n",
       "  <tbody>\n",
       "    <tr>\n",
       "      <th>0</th>\n",
       "      <td>7067.025</td>\n",
       "      <td>39.0</td>\n",
       "      <td>Mais acima</td>\n",
       "    </tr>\n",
       "    <tr>\n",
       "      <th>1</th>\n",
       "      <td>7067.025</td>\n",
       "      <td>38.0</td>\n",
       "      <td>Mais acima</td>\n",
       "    </tr>\n",
       "    <tr>\n",
       "      <th>2</th>\n",
       "      <td>7067.025</td>\n",
       "      <td>40.0</td>\n",
       "      <td>Mais acima</td>\n",
       "    </tr>\n",
       "    <tr>\n",
       "      <th>3</th>\n",
       "      <td>3958.273</td>\n",
       "      <td>38.0</td>\n",
       "      <td>Mais acima</td>\n",
       "    </tr>\n",
       "    <tr>\n",
       "      <th>4</th>\n",
       "      <td>7067.025</td>\n",
       "      <td>38.0</td>\n",
       "      <td>Mais acima</td>\n",
       "    </tr>\n",
       "  </tbody>\n",
       "</table>\n",
       "</div>"
      ],
      "text/plain": [
       "   munResArea  SEMAGESTAC area_categoria\n",
       "0    7067.025        39.0     Mais acima\n",
       "1    7067.025        38.0     Mais acima\n",
       "2    7067.025        40.0     Mais acima\n",
       "3    3958.273        38.0     Mais acima\n",
       "4    7067.025        38.0     Mais acima"
      ]
     },
     "execution_count": 11,
     "metadata": {},
     "output_type": "execute_result"
    }
   ],
   "source": [
    "# Agora vamos aplicar o método Mapping para separar a coluna 'munResArea' em duas faixas de valores: uma abaixo de 3000 e outra acima.\n",
    "sinasc_3['area_categoria'] = sinasc_3['munResArea'].map(lambda x: 'Mais abaixo' if x <= 3000 else 'Mais acima')\n",
    "\n",
    "# Mostramos o DataFrame para visualização e verificação:\n",
    "sinasc_3.head()"
   ]
  },
  {
   "cell_type": "code",
   "execution_count": 12,
   "metadata": {},
   "outputs": [
    {
     "data": {
      "text/html": [
       "<div>\n",
       "<style scoped>\n",
       "    .dataframe tbody tr th:only-of-type {\n",
       "        vertical-align: middle;\n",
       "    }\n",
       "\n",
       "    .dataframe tbody tr th {\n",
       "        vertical-align: top;\n",
       "    }\n",
       "\n",
       "    .dataframe thead tr th {\n",
       "        text-align: left;\n",
       "    }\n",
       "\n",
       "    .dataframe thead tr:last-of-type th {\n",
       "        text-align: right;\n",
       "    }\n",
       "</style>\n",
       "<table border=\"1\" class=\"dataframe\">\n",
       "  <thead>\n",
       "    <tr>\n",
       "      <th></th>\n",
       "      <th colspan=\"7\" halign=\"left\">SEMAGESTAC</th>\n",
       "    </tr>\n",
       "    <tr>\n",
       "      <th></th>\n",
       "      <th>soma</th>\n",
       "      <th>média</th>\n",
       "      <th>mínimo</th>\n",
       "      <th>máximo</th>\n",
       "      <th>mediana</th>\n",
       "      <th>desvio-padrão</th>\n",
       "      <th>variância</th>\n",
       "    </tr>\n",
       "    <tr>\n",
       "      <th>area_categoria</th>\n",
       "      <th></th>\n",
       "      <th></th>\n",
       "      <th></th>\n",
       "      <th></th>\n",
       "      <th></th>\n",
       "      <th></th>\n",
       "      <th></th>\n",
       "    </tr>\n",
       "  </thead>\n",
       "  <tbody>\n",
       "    <tr>\n",
       "      <th>Mais abaixo</th>\n",
       "      <td>197469.0</td>\n",
       "      <td>38.470485</td>\n",
       "      <td>21.0</td>\n",
       "      <td>45.0</td>\n",
       "      <td>39.0</td>\n",
       "      <td>1.874927</td>\n",
       "      <td>3.515350</td>\n",
       "    </tr>\n",
       "    <tr>\n",
       "      <th>Mais acima</th>\n",
       "      <td>797183.0</td>\n",
       "      <td>38.591422</td>\n",
       "      <td>19.0</td>\n",
       "      <td>45.0</td>\n",
       "      <td>39.0</td>\n",
       "      <td>2.049867</td>\n",
       "      <td>4.201956</td>\n",
       "    </tr>\n",
       "  </tbody>\n",
       "</table>\n",
       "</div>"
      ],
      "text/plain": [
       "               SEMAGESTAC                                                 \\\n",
       "                     soma      média mínimo máximo mediana desvio-padrão   \n",
       "area_categoria                                                             \n",
       "Mais abaixo      197469.0  38.470485   21.0   45.0    39.0      1.874927   \n",
       "Mais acima       797183.0  38.591422   19.0   45.0    39.0      2.049867   \n",
       "\n",
       "                          \n",
       "               variância  \n",
       "area_categoria            \n",
       "Mais abaixo     3.515350  \n",
       "Mais acima      4.201956  "
      ]
     },
     "execution_count": 12,
     "metadata": {},
     "output_type": "execute_result"
    }
   ],
   "source": [
    "# Finalmente, vamos agrupar segundo a nova coluna 'area_categoria', aplicamos o método de agregação de funções e aplicamos as funções\n",
    "# 'sum', 'mean', 'min', 'max', 'median', 'std' e 'var':\n",
    "sinasc_3.groupby(['area_categoria']).agg({'SEMAGESTAC' : [('soma','sum'), \n",
    "                                                         ('média','mean'), \n",
    "                                                         ('mínimo','min'), \n",
    "                                                         ('máximo','max'), \n",
    "                                                         ('mediana','median'),\n",
    "                                                         ('desvio-padrão','std'), \n",
    "                                                         ('variância','var')]\n",
    "                                        })"
   ]
  },
  {
   "cell_type": "code",
   "execution_count": 13,
   "metadata": {},
   "outputs": [
    {
     "data": {
      "text/html": [
       "<div>\n",
       "<style scoped>\n",
       "    .dataframe tbody tr th:only-of-type {\n",
       "        vertical-align: middle;\n",
       "    }\n",
       "\n",
       "    .dataframe tbody tr th {\n",
       "        vertical-align: top;\n",
       "    }\n",
       "\n",
       "    .dataframe thead th {\n",
       "        text-align: right;\n",
       "    }\n",
       "</style>\n",
       "<table border=\"1\" class=\"dataframe\">\n",
       "  <thead>\n",
       "    <tr style=\"text-align: right;\">\n",
       "      <th></th>\n",
       "      <th>munResArea</th>\n",
       "      <th>CONSPRENAT</th>\n",
       "    </tr>\n",
       "  </thead>\n",
       "  <tbody>\n",
       "    <tr>\n",
       "      <th>0</th>\n",
       "      <td>7067.025</td>\n",
       "      <td>8.0</td>\n",
       "    </tr>\n",
       "    <tr>\n",
       "      <th>1</th>\n",
       "      <td>7067.025</td>\n",
       "      <td>10.0</td>\n",
       "    </tr>\n",
       "    <tr>\n",
       "      <th>2</th>\n",
       "      <td>7067.025</td>\n",
       "      <td>8.0</td>\n",
       "    </tr>\n",
       "    <tr>\n",
       "      <th>3</th>\n",
       "      <td>3958.273</td>\n",
       "      <td>6.0</td>\n",
       "    </tr>\n",
       "    <tr>\n",
       "      <th>4</th>\n",
       "      <td>7067.025</td>\n",
       "      <td>8.0</td>\n",
       "    </tr>\n",
       "  </tbody>\n",
       "</table>\n",
       "</div>"
      ],
      "text/plain": [
       "   munResArea  CONSPRENAT\n",
       "0    7067.025         8.0\n",
       "1    7067.025        10.0\n",
       "2    7067.025         8.0\n",
       "3    3958.273         6.0\n",
       "4    7067.025         8.0"
      ]
     },
     "execution_count": 13,
     "metadata": {},
     "output_type": "execute_result"
    }
   ],
   "source": [
    "# Construiremos um novo DataFrame com as colunas 'munResArea' e 'SEMAGESTAC' para que possamos começar a nossa primeira análise:\n",
    "sinasc_4 = sinasc_raw[['munResArea', 'CONSPRENAT']]\n",
    "\n",
    "# Mostramos a nossa base de dados para visualização e verificação:\n",
    "sinasc_4.head(5)"
   ]
  },
  {
   "cell_type": "code",
   "execution_count": 14,
   "metadata": {},
   "outputs": [
    {
     "name": "stderr",
     "output_type": "stream",
     "text": [
      "/tmp/ipykernel_6355/1162785991.py:2: SettingWithCopyWarning: \n",
      "A value is trying to be set on a copy of a slice from a DataFrame.\n",
      "Try using .loc[row_indexer,col_indexer] = value instead\n",
      "\n",
      "See the caveats in the documentation: https://pandas.pydata.org/pandas-docs/stable/user_guide/indexing.html#returning-a-view-versus-a-copy\n",
      "  sinasc_4['area_categoria'] = sinasc_3['munResArea'].map(lambda x: 'Mais abaixo' if x <= 3000 else 'Mais acima')\n"
     ]
    },
    {
     "data": {
      "text/html": [
       "<div>\n",
       "<style scoped>\n",
       "    .dataframe tbody tr th:only-of-type {\n",
       "        vertical-align: middle;\n",
       "    }\n",
       "\n",
       "    .dataframe tbody tr th {\n",
       "        vertical-align: top;\n",
       "    }\n",
       "\n",
       "    .dataframe thead th {\n",
       "        text-align: right;\n",
       "    }\n",
       "</style>\n",
       "<table border=\"1\" class=\"dataframe\">\n",
       "  <thead>\n",
       "    <tr style=\"text-align: right;\">\n",
       "      <th></th>\n",
       "      <th>munResArea</th>\n",
       "      <th>CONSPRENAT</th>\n",
       "      <th>area_categoria</th>\n",
       "    </tr>\n",
       "  </thead>\n",
       "  <tbody>\n",
       "    <tr>\n",
       "      <th>0</th>\n",
       "      <td>7067.025</td>\n",
       "      <td>8.0</td>\n",
       "      <td>Mais acima</td>\n",
       "    </tr>\n",
       "    <tr>\n",
       "      <th>1</th>\n",
       "      <td>7067.025</td>\n",
       "      <td>10.0</td>\n",
       "      <td>Mais acima</td>\n",
       "    </tr>\n",
       "    <tr>\n",
       "      <th>2</th>\n",
       "      <td>7067.025</td>\n",
       "      <td>8.0</td>\n",
       "      <td>Mais acima</td>\n",
       "    </tr>\n",
       "    <tr>\n",
       "      <th>3</th>\n",
       "      <td>3958.273</td>\n",
       "      <td>6.0</td>\n",
       "      <td>Mais acima</td>\n",
       "    </tr>\n",
       "    <tr>\n",
       "      <th>4</th>\n",
       "      <td>7067.025</td>\n",
       "      <td>8.0</td>\n",
       "      <td>Mais acima</td>\n",
       "    </tr>\n",
       "  </tbody>\n",
       "</table>\n",
       "</div>"
      ],
      "text/plain": [
       "   munResArea  CONSPRENAT area_categoria\n",
       "0    7067.025         8.0     Mais acima\n",
       "1    7067.025        10.0     Mais acima\n",
       "2    7067.025         8.0     Mais acima\n",
       "3    3958.273         6.0     Mais acima\n",
       "4    7067.025         8.0     Mais acima"
      ]
     },
     "execution_count": 14,
     "metadata": {},
     "output_type": "execute_result"
    }
   ],
   "source": [
    "# Agora vamos aplicar o método Mapping para separar a coluna 'munResArea' em duas faixas de valores: uma abaixo de 3000 e outra acima.\n",
    "sinasc_4['area_categoria'] = sinasc_3['munResArea'].map(lambda x: 'Mais abaixo' if x <= 3000 else 'Mais acima')\n",
    "\n",
    "# Mostramos o DataFrame para visualização e verificação:\n",
    "sinasc_4.head()"
   ]
  },
  {
   "cell_type": "code",
   "execution_count": 15,
   "metadata": {},
   "outputs": [
    {
     "data": {
      "text/html": [
       "<div>\n",
       "<style scoped>\n",
       "    .dataframe tbody tr th:only-of-type {\n",
       "        vertical-align: middle;\n",
       "    }\n",
       "\n",
       "    .dataframe tbody tr th {\n",
       "        vertical-align: top;\n",
       "    }\n",
       "\n",
       "    .dataframe thead tr th {\n",
       "        text-align: left;\n",
       "    }\n",
       "\n",
       "    .dataframe thead tr:last-of-type th {\n",
       "        text-align: right;\n",
       "    }\n",
       "</style>\n",
       "<table border=\"1\" class=\"dataframe\">\n",
       "  <thead>\n",
       "    <tr>\n",
       "      <th></th>\n",
       "      <th colspan=\"7\" halign=\"left\">CONSPRENAT</th>\n",
       "    </tr>\n",
       "    <tr>\n",
       "      <th></th>\n",
       "      <th>soma</th>\n",
       "      <th>média</th>\n",
       "      <th>mínimo</th>\n",
       "      <th>máximo</th>\n",
       "      <th>mediana</th>\n",
       "      <th>desvio-padrão</th>\n",
       "      <th>variância</th>\n",
       "    </tr>\n",
       "    <tr>\n",
       "      <th>area_categoria</th>\n",
       "      <th></th>\n",
       "      <th></th>\n",
       "      <th></th>\n",
       "      <th></th>\n",
       "      <th></th>\n",
       "      <th></th>\n",
       "      <th></th>\n",
       "    </tr>\n",
       "  </thead>\n",
       "  <tbody>\n",
       "    <tr>\n",
       "      <th>Mais abaixo</th>\n",
       "      <td>44775.0</td>\n",
       "      <td>8.709395</td>\n",
       "      <td>0.0</td>\n",
       "      <td>99.0</td>\n",
       "      <td>8.0</td>\n",
       "      <td>4.290017</td>\n",
       "      <td>18.404248</td>\n",
       "    </tr>\n",
       "    <tr>\n",
       "      <th>Mais acima</th>\n",
       "      <td>170662.0</td>\n",
       "      <td>8.143437</td>\n",
       "      <td>0.0</td>\n",
       "      <td>99.0</td>\n",
       "      <td>8.0</td>\n",
       "      <td>5.325701</td>\n",
       "      <td>28.363086</td>\n",
       "    </tr>\n",
       "  </tbody>\n",
       "</table>\n",
       "</div>"
      ],
      "text/plain": [
       "               CONSPRENAT                                                \\\n",
       "                     soma     média mínimo máximo mediana desvio-padrão   \n",
       "area_categoria                                                            \n",
       "Mais abaixo       44775.0  8.709395    0.0   99.0     8.0      4.290017   \n",
       "Mais acima       170662.0  8.143437    0.0   99.0     8.0      5.325701   \n",
       "\n",
       "                           \n",
       "                variância  \n",
       "area_categoria             \n",
       "Mais abaixo     18.404248  \n",
       "Mais acima      28.363086  "
      ]
     },
     "execution_count": 15,
     "metadata": {},
     "output_type": "execute_result"
    }
   ],
   "source": [
    "# Finalmente, vamos agrupar segundo a nova coluna 'area_categoria', aplicamos o método de agregação de funções e aplicamos as funções\n",
    "# 'sum', 'mean', 'min', 'max', 'median', 'std' e 'var':\n",
    "sinasc_4.groupby(['area_categoria']).agg({'CONSPRENAT' : [('soma','sum'), \n",
    "                                                         ('média','mean'), \n",
    "                                                         ('mínimo','min'), \n",
    "                                                         ('máximo','max'), \n",
    "                                                         ('mediana','median'),\n",
    "                                                         ('desvio-padrão','std'), \n",
    "                                                         ('variância','var')]\n",
    "                                        })"
   ]
  },
  {
   "cell_type": "markdown",
   "metadata": {
    "id": "aWaljnnxlTuE"
   },
   "source": [
    "### 3. Determine faixas na variável munResAlt e aplique o groupby usando essas faixas como chave e realize operações de soma, media, minimo, maximo, mediana, desvio padrao, variancia pra pelo menos 2 variáveis numéricas ainda não utilizadas"
   ]
  },
  {
   "cell_type": "code",
   "execution_count": 16,
   "metadata": {},
   "outputs": [],
   "source": [
    "# Construiremos um novo DataFrame com as colunas 'munResAlt' e 'SEMAGESTAC' para que possamos começar a nossa primeira análise:\n",
    "sinasc_5 = sinasc_raw[['munResAlt', 'SEMAGESTAC']]"
   ]
  },
  {
   "cell_type": "code",
   "execution_count": 17,
   "metadata": {},
   "outputs": [
    {
     "name": "stderr",
     "output_type": "stream",
     "text": [
      "/tmp/ipykernel_6355/3519268520.py:3: SettingWithCopyWarning: \n",
      "A value is trying to be set on a copy of a slice from a DataFrame.\n",
      "Try using .loc[row_indexer,col_indexer] = value instead\n",
      "\n",
      "See the caveats in the documentation: https://pandas.pydata.org/pandas-docs/stable/user_guide/indexing.html#returning-a-view-versus-a-copy\n",
      "  sinasc_5['alt_categoria'] = pd.qcut(sinasc_5['munResAlt'],2)\n"
     ]
    }
   ],
   "source": [
    "# Separamos as altitudes dos municípios usando o método do Pandas 'qcut' na feature 'munResAlt' em duas categorias segundo a linha de\n",
    "# código abaixo:\n",
    "sinasc_5['alt_categoria'] = pd.qcut(sinasc_5['munResAlt'],2)"
   ]
  },
  {
   "cell_type": "code",
   "execution_count": 18,
   "metadata": {},
   "outputs": [
    {
     "data": {
      "text/html": [
       "<div>\n",
       "<style scoped>\n",
       "    .dataframe tbody tr th:only-of-type {\n",
       "        vertical-align: middle;\n",
       "    }\n",
       "\n",
       "    .dataframe tbody tr th {\n",
       "        vertical-align: top;\n",
       "    }\n",
       "\n",
       "    .dataframe thead th {\n",
       "        text-align: right;\n",
       "    }\n",
       "</style>\n",
       "<table border=\"1\" class=\"dataframe\">\n",
       "  <thead>\n",
       "    <tr style=\"text-align: right;\">\n",
       "      <th></th>\n",
       "      <th>munResAlt</th>\n",
       "      <th>SEMAGESTAC</th>\n",
       "      <th>alt_categoria</th>\n",
       "    </tr>\n",
       "  </thead>\n",
       "  <tbody>\n",
       "    <tr>\n",
       "      <th>0</th>\n",
       "      <td>338.0</td>\n",
       "      <td>39.0</td>\n",
       "      <td>(153.0, 595.0]</td>\n",
       "    </tr>\n",
       "    <tr>\n",
       "      <th>1</th>\n",
       "      <td>338.0</td>\n",
       "      <td>38.0</td>\n",
       "      <td>(153.0, 595.0]</td>\n",
       "    </tr>\n",
       "    <tr>\n",
       "      <th>2</th>\n",
       "      <td>338.0</td>\n",
       "      <td>40.0</td>\n",
       "      <td>(153.0, 595.0]</td>\n",
       "    </tr>\n",
       "    <tr>\n",
       "      <th>3</th>\n",
       "      <td>397.0</td>\n",
       "      <td>38.0</td>\n",
       "      <td>(153.0, 595.0]</td>\n",
       "    </tr>\n",
       "    <tr>\n",
       "      <th>4</th>\n",
       "      <td>338.0</td>\n",
       "      <td>38.0</td>\n",
       "      <td>(153.0, 595.0]</td>\n",
       "    </tr>\n",
       "  </tbody>\n",
       "</table>\n",
       "</div>"
      ],
      "text/plain": [
       "   munResAlt  SEMAGESTAC   alt_categoria\n",
       "0      338.0        39.0  (153.0, 595.0]\n",
       "1      338.0        38.0  (153.0, 595.0]\n",
       "2      338.0        40.0  (153.0, 595.0]\n",
       "3      397.0        38.0  (153.0, 595.0]\n",
       "4      338.0        38.0  (153.0, 595.0]"
      ]
     },
     "execution_count": 18,
     "metadata": {},
     "output_type": "execute_result"
    }
   ],
   "source": [
    "# Mostramos o DataFrame para visualização e verificação:\n",
    "sinasc_5.head()"
   ]
  },
  {
   "cell_type": "code",
   "execution_count": 19,
   "metadata": {},
   "outputs": [
    {
     "name": "stderr",
     "output_type": "stream",
     "text": [
      "/tmp/ipykernel_6355/1957981790.py:3: FutureWarning: The default of observed=False is deprecated and will be changed to True in a future version of pandas. Pass observed=False to retain current behavior or observed=True to adopt the future default and silence this warning.\n",
      "  sinasc_5.groupby('alt_categoria').agg({'SEMAGESTAC': [('soma','sum'),\n"
     ]
    },
    {
     "data": {
      "text/html": [
       "<div>\n",
       "<style scoped>\n",
       "    .dataframe tbody tr th:only-of-type {\n",
       "        vertical-align: middle;\n",
       "    }\n",
       "\n",
       "    .dataframe tbody tr th {\n",
       "        vertical-align: top;\n",
       "    }\n",
       "\n",
       "    .dataframe thead tr th {\n",
       "        text-align: left;\n",
       "    }\n",
       "\n",
       "    .dataframe thead tr:last-of-type th {\n",
       "        text-align: right;\n",
       "    }\n",
       "</style>\n",
       "<table border=\"1\" class=\"dataframe\">\n",
       "  <thead>\n",
       "    <tr>\n",
       "      <th></th>\n",
       "      <th colspan=\"7\" halign=\"left\">SEMAGESTAC</th>\n",
       "    </tr>\n",
       "    <tr>\n",
       "      <th></th>\n",
       "      <th>soma</th>\n",
       "      <th>média</th>\n",
       "      <th>mínimo</th>\n",
       "      <th>máximo</th>\n",
       "      <th>mediana</th>\n",
       "      <th>desvio-padrão</th>\n",
       "      <th>variância</th>\n",
       "    </tr>\n",
       "    <tr>\n",
       "      <th>alt_categoria</th>\n",
       "      <th></th>\n",
       "      <th></th>\n",
       "      <th></th>\n",
       "      <th></th>\n",
       "      <th></th>\n",
       "      <th></th>\n",
       "      <th></th>\n",
       "    </tr>\n",
       "  </thead>\n",
       "  <tbody>\n",
       "    <tr>\n",
       "      <th>(84.999, 153.0]</th>\n",
       "      <td>493526.0</td>\n",
       "      <td>38.568771</td>\n",
       "      <td>21.0</td>\n",
       "      <td>45.0</td>\n",
       "      <td>39.0</td>\n",
       "      <td>2.093561</td>\n",
       "      <td>4.383000</td>\n",
       "    </tr>\n",
       "    <tr>\n",
       "      <th>(153.0, 595.0]</th>\n",
       "      <td>501090.0</td>\n",
       "      <td>38.566151</td>\n",
       "      <td>19.0</td>\n",
       "      <td>45.0</td>\n",
       "      <td>39.0</td>\n",
       "      <td>1.938267</td>\n",
       "      <td>3.756881</td>\n",
       "    </tr>\n",
       "  </tbody>\n",
       "</table>\n",
       "</div>"
      ],
      "text/plain": [
       "                SEMAGESTAC                                                 \\\n",
       "                      soma      média mínimo máximo mediana desvio-padrão   \n",
       "alt_categoria                                                               \n",
       "(84.999, 153.0]   493526.0  38.568771   21.0   45.0    39.0      2.093561   \n",
       "(153.0, 595.0]    501090.0  38.566151   19.0   45.0    39.0      1.938267   \n",
       "\n",
       "                           \n",
       "                variância  \n",
       "alt_categoria              \n",
       "(84.999, 153.0]  4.383000  \n",
       "(153.0, 595.0]   3.756881  "
      ]
     },
     "execution_count": 19,
     "metadata": {},
     "output_type": "execute_result"
    }
   ],
   "source": [
    "# Agora vamos agregar as funções de soma, média, mínimo, máximo, mediana, desvio-padrão e variância aplicada à coluna 'SEMAGESTAC', que foi\n",
    "# agrupada segundo à categorização da altura dos municípios:\n",
    "sinasc_5.groupby('alt_categoria').agg({'SEMAGESTAC': [('soma','sum'), \n",
    "                                                      ('média','mean'), \n",
    "                                                      ('mínimo','min'), \n",
    "                                                      ('máximo','max'), \n",
    "                                                      ('mediana','median'),\n",
    "                                                      ('desvio-padrão','std'), \n",
    "                                                      ('variância','var')]\n",
    "                                      })"
   ]
  },
  {
   "cell_type": "markdown",
   "metadata": {
    "id": "aF1riawJlTuF"
   },
   "source": [
    "### 4. Plote no mesmo grafico ao longo do tempo a idade media das mulheres de cada regiao imediatas de rondonia\n"
   ]
  },
  {
   "cell_type": "code",
   "execution_count": 20,
   "metadata": {
    "id": "6aZM5xKale9c"
   },
   "outputs": [],
   "source": [
    "imediatas = {\n",
    "    \"Candeias do Jamari\": \"Porto Velho\",\n",
    "    \"Guajará-Mirim\": \"Porto Velho\",\n",
    "    \"Itapuã do Oeste\": \"Porto Velho\",\n",
    "    \"Nova Mamoré\": \"Porto Velho\",\n",
    "    \"Porto Velho\": \"Porto Velho\",\n",
    "    \"Ariquemes\": \"Ariquemes\",\n",
    "    \"Alto Paraíso\": \"Ariquemes\",\n",
    "    \"Buritis\": \"Ariquemes\",\n",
    "    \"Cacaulândia\": \"Ariquemes\",\n",
    "    \"Campo Novo de Rondônia\": \"Ariquemes\",\n",
    "    \"Cujubim\": \"Ariquemes\",\n",
    "    \"Monte Negro\": \"Ariquemes\",\n",
    "    \"Rio Crespo\": \"Ariquemes\",\n",
    "    \"Jaru\": \"Jaru\",\n",
    "    \"Governador Jorge Teixeira\": \"Jaru\",\n",
    "    \"Machadinho D'Oeste\": \"Jaru\",\n",
    "    \"Theobroma\": \"Jaru\",\n",
    "    \"Vale do Anari\": \"Jaru\",\n",
    "    \"Alvorada D'Oeste\": \"Ji-Paraná\",\n",
    "    \"Costa Marques\": \"Ji-Paraná\",\n",
    "    \"Ji-Paraná\": \"Ji-Paraná\",\n",
    "    \"Mirante da Serra\": \"Ji-Paraná\",\n",
    "    \"Nova União\": \"Ji-Paraná\",\n",
    "    \"Ouro Preto do Oeste\": \"Ji-Paraná\",\n",
    "    \"Presidente Médici\": \"Ji-Paraná\",\n",
    "    \"São Francisco do Guaporé\": \"Ji-Paraná\",\n",
    "    \"São Miguel do Guaporé\": \"Ji-Paraná\",\n",
    "    \"Seringueiras\": \"Ji-Paraná\",\n",
    "    \"Teixeirópolis\": \"Ji-Paraná\",\n",
    "    \"Urupá\": \"Ji-Paraná\",\n",
    "    \"Vale do Paraíso\": \"Ji-Paraná\",\n",
    "    \"Cacoal\": \"Cacoal\",\n",
    "    \"Alta Floresta D'Oeste\": \"Cacoal\",\n",
    "    \"Alto Alegre dos Parecis\": \"Cacoal\",\n",
    "    \"Castanheiras\": \"Cacoal\",\n",
    "    \"Espigão D'Oeste\": \"Cacoal\",\n",
    "    \"Ministro Andreazza\": \"Cacoal\",\n",
    "    \"Nova Brasilândia D'Oeste\": \"Cacoal\",\n",
    "    \"Novo Horizonte do Oeste\": \"Cacoal\",\n",
    "    \"Parecis\": \"Cacoal\",\n",
    "    \"Pimenta Bueno\": \"Cacoal\",\n",
    "    \"Primavera de Rondônia\": \"Cacoal\",\n",
    "    \"Rolim de Moura\": \"Cacoal\",\n",
    "    \"Santa Luzia D'Oeste\": \"Cacoal\",\n",
    "    \"São Felipe D'Oeste\": \"Cacoal\",\n",
    "    \"Vilhena\": \"Vilhena\",\n",
    "    \"Cabixi\": \"Vilhena\",\n",
    "    \"Cerejeiras\": \"Vilhena\",\n",
    "    \"Chupinguaia\": \"Vilhena\",\n",
    "    \"Colorado do Oeste\": \"Vilhena\",\n",
    "    \"Corumbiara\": \"Vilhena\",\n",
    "    \"Pimenteiras do Oeste\": \"Vilhena\"\n",
    "}"
   ]
  },
  {
   "cell_type": "code",
   "execution_count": 21,
   "metadata": {},
   "outputs": [],
   "source": [
    "# Nesta linha de código construímos um DataFrame com as colunas que precisamos para plotar o nosso gráfico:\n",
    "sinasc_6 = sinasc_raw[['munResNome','IDADEMAE','DTNASC']]"
   ]
  },
  {
   "cell_type": "code",
   "execution_count": 22,
   "metadata": {},
   "outputs": [
    {
     "data": {
      "text/html": [
       "<div>\n",
       "<style scoped>\n",
       "    .dataframe tbody tr th:only-of-type {\n",
       "        vertical-align: middle;\n",
       "    }\n",
       "\n",
       "    .dataframe tbody tr th {\n",
       "        vertical-align: top;\n",
       "    }\n",
       "\n",
       "    .dataframe thead th {\n",
       "        text-align: right;\n",
       "    }\n",
       "</style>\n",
       "<table border=\"1\" class=\"dataframe\">\n",
       "  <thead>\n",
       "    <tr style=\"text-align: right;\">\n",
       "      <th></th>\n",
       "      <th>munResNome</th>\n",
       "      <th>IDADEMAE</th>\n",
       "      <th>DTNASC</th>\n",
       "    </tr>\n",
       "  </thead>\n",
       "  <tbody>\n",
       "    <tr>\n",
       "      <th>0</th>\n",
       "      <td>Alta Floresta D'Oeste</td>\n",
       "      <td>19</td>\n",
       "      <td>2019-02-19</td>\n",
       "    </tr>\n",
       "    <tr>\n",
       "      <th>1</th>\n",
       "      <td>Alta Floresta D'Oeste</td>\n",
       "      <td>29</td>\n",
       "      <td>2019-02-21</td>\n",
       "    </tr>\n",
       "    <tr>\n",
       "      <th>2</th>\n",
       "      <td>Alta Floresta D'Oeste</td>\n",
       "      <td>37</td>\n",
       "      <td>2019-02-25</td>\n",
       "    </tr>\n",
       "    <tr>\n",
       "      <th>3</th>\n",
       "      <td>Alto Alegre dos Parecis</td>\n",
       "      <td>30</td>\n",
       "      <td>2019-03-20</td>\n",
       "    </tr>\n",
       "    <tr>\n",
       "      <th>4</th>\n",
       "      <td>Alta Floresta D'Oeste</td>\n",
       "      <td>30</td>\n",
       "      <td>2019-03-23</td>\n",
       "    </tr>\n",
       "  </tbody>\n",
       "</table>\n",
       "</div>"
      ],
      "text/plain": [
       "                munResNome  IDADEMAE      DTNASC\n",
       "0    Alta Floresta D'Oeste        19  2019-02-19\n",
       "1    Alta Floresta D'Oeste        29  2019-02-21\n",
       "2    Alta Floresta D'Oeste        37  2019-02-25\n",
       "3  Alto Alegre dos Parecis        30  2019-03-20\n",
       "4    Alta Floresta D'Oeste        30  2019-03-23"
      ]
     },
     "execution_count": 22,
     "metadata": {},
     "output_type": "execute_result"
    }
   ],
   "source": [
    "# Vamos mostrar o nosso DataFrame para visualização e verificação:\n",
    "sinasc_6.head()"
   ]
  },
  {
   "cell_type": "code",
   "execution_count": 23,
   "metadata": {},
   "outputs": [
    {
     "name": "stderr",
     "output_type": "stream",
     "text": [
      "/tmp/ipykernel_6355/3731581964.py:2: SettingWithCopyWarning: \n",
      "A value is trying to be set on a copy of a slice from a DataFrame.\n",
      "Try using .loc[row_indexer,col_indexer] = value instead\n",
      "\n",
      "See the caveats in the documentation: https://pandas.pydata.org/pandas-docs/stable/user_guide/indexing.html#returning-a-view-versus-a-copy\n",
      "  sinasc_6['imediatas'] = sinasc_6['munResNome'].map(imediatas)\n"
     ]
    }
   ],
   "source": [
    "# Vamos criar uma nova coluna com as regiões imediatas correspondentes de cada município:\n",
    "sinasc_6['imediatas'] = sinasc_6['munResNome'].map(imediatas)"
   ]
  },
  {
   "cell_type": "code",
   "execution_count": 24,
   "metadata": {},
   "outputs": [
    {
     "data": {
      "text/html": [
       "<div>\n",
       "<style scoped>\n",
       "    .dataframe tbody tr th:only-of-type {\n",
       "        vertical-align: middle;\n",
       "    }\n",
       "\n",
       "    .dataframe tbody tr th {\n",
       "        vertical-align: top;\n",
       "    }\n",
       "\n",
       "    .dataframe thead th {\n",
       "        text-align: right;\n",
       "    }\n",
       "</style>\n",
       "<table border=\"1\" class=\"dataframe\">\n",
       "  <thead>\n",
       "    <tr style=\"text-align: right;\">\n",
       "      <th></th>\n",
       "      <th>munResNome</th>\n",
       "      <th>IDADEMAE</th>\n",
       "      <th>DTNASC</th>\n",
       "      <th>imediatas</th>\n",
       "    </tr>\n",
       "  </thead>\n",
       "  <tbody>\n",
       "    <tr>\n",
       "      <th>0</th>\n",
       "      <td>Alta Floresta D'Oeste</td>\n",
       "      <td>19</td>\n",
       "      <td>2019-02-19</td>\n",
       "      <td>Cacoal</td>\n",
       "    </tr>\n",
       "    <tr>\n",
       "      <th>1</th>\n",
       "      <td>Alta Floresta D'Oeste</td>\n",
       "      <td>29</td>\n",
       "      <td>2019-02-21</td>\n",
       "      <td>Cacoal</td>\n",
       "    </tr>\n",
       "    <tr>\n",
       "      <th>2</th>\n",
       "      <td>Alta Floresta D'Oeste</td>\n",
       "      <td>37</td>\n",
       "      <td>2019-02-25</td>\n",
       "      <td>Cacoal</td>\n",
       "    </tr>\n",
       "    <tr>\n",
       "      <th>3</th>\n",
       "      <td>Alto Alegre dos Parecis</td>\n",
       "      <td>30</td>\n",
       "      <td>2019-03-20</td>\n",
       "      <td>Cacoal</td>\n",
       "    </tr>\n",
       "    <tr>\n",
       "      <th>4</th>\n",
       "      <td>Alta Floresta D'Oeste</td>\n",
       "      <td>30</td>\n",
       "      <td>2019-03-23</td>\n",
       "      <td>Cacoal</td>\n",
       "    </tr>\n",
       "  </tbody>\n",
       "</table>\n",
       "</div>"
      ],
      "text/plain": [
       "                munResNome  IDADEMAE      DTNASC imediatas\n",
       "0    Alta Floresta D'Oeste        19  2019-02-19    Cacoal\n",
       "1    Alta Floresta D'Oeste        29  2019-02-21    Cacoal\n",
       "2    Alta Floresta D'Oeste        37  2019-02-25    Cacoal\n",
       "3  Alto Alegre dos Parecis        30  2019-03-20    Cacoal\n",
       "4    Alta Floresta D'Oeste        30  2019-03-23    Cacoal"
      ]
     },
     "execution_count": 24,
     "metadata": {},
     "output_type": "execute_result"
    }
   ],
   "source": [
    "# Mostramos novamente o DataFrame para visualização e verificação:\n",
    "sinasc_6.head()"
   ]
  },
  {
   "cell_type": "code",
   "execution_count": 25,
   "metadata": {},
   "outputs": [],
   "source": [
    "# Nestas linhas de código, vamos calcular a média das idades das mães segundo as datas de nascimento dos bebês:\n",
    "sinasc_plot = sinasc_6.groupby(['DTNASC','imediatas'])[['IDADEMAE']].mean().reset_index()"
   ]
  },
  {
   "cell_type": "code",
   "execution_count": 26,
   "metadata": {},
   "outputs": [],
   "source": [
    "sinasc_plot['mes_nascimento'] = pd.to_datetime(sinasc_plot['DTNASC'])"
   ]
  },
  {
   "cell_type": "code",
   "execution_count": 27,
   "metadata": {},
   "outputs": [
    {
     "data": {
      "text/html": [
       "<div>\n",
       "<style scoped>\n",
       "    .dataframe tbody tr th:only-of-type {\n",
       "        vertical-align: middle;\n",
       "    }\n",
       "\n",
       "    .dataframe tbody tr th {\n",
       "        vertical-align: top;\n",
       "    }\n",
       "\n",
       "    .dataframe thead th {\n",
       "        text-align: right;\n",
       "    }\n",
       "</style>\n",
       "<table border=\"1\" class=\"dataframe\">\n",
       "  <thead>\n",
       "    <tr style=\"text-align: right;\">\n",
       "      <th></th>\n",
       "      <th>DTNASC</th>\n",
       "      <th>imediatas</th>\n",
       "      <th>IDADEMAE</th>\n",
       "      <th>mes_nascimento</th>\n",
       "    </tr>\n",
       "  </thead>\n",
       "  <tbody>\n",
       "    <tr>\n",
       "      <th>0</th>\n",
       "      <td>2019-01-01</td>\n",
       "      <td>Ariquemes</td>\n",
       "      <td>23.200000</td>\n",
       "      <td>2019-01-01</td>\n",
       "    </tr>\n",
       "    <tr>\n",
       "      <th>1</th>\n",
       "      <td>2019-01-01</td>\n",
       "      <td>Cacoal</td>\n",
       "      <td>23.250000</td>\n",
       "      <td>2019-01-01</td>\n",
       "    </tr>\n",
       "    <tr>\n",
       "      <th>2</th>\n",
       "      <td>2019-01-01</td>\n",
       "      <td>Jaru</td>\n",
       "      <td>31.000000</td>\n",
       "      <td>2019-01-01</td>\n",
       "    </tr>\n",
       "    <tr>\n",
       "      <th>3</th>\n",
       "      <td>2019-01-01</td>\n",
       "      <td>Ji-Paraná</td>\n",
       "      <td>24.142857</td>\n",
       "      <td>2019-01-01</td>\n",
       "    </tr>\n",
       "    <tr>\n",
       "      <th>4</th>\n",
       "      <td>2019-01-01</td>\n",
       "      <td>Porto Velho</td>\n",
       "      <td>21.388889</td>\n",
       "      <td>2019-01-01</td>\n",
       "    </tr>\n",
       "  </tbody>\n",
       "</table>\n",
       "</div>"
      ],
      "text/plain": [
       "       DTNASC    imediatas   IDADEMAE mes_nascimento\n",
       "0  2019-01-01    Ariquemes  23.200000     2019-01-01\n",
       "1  2019-01-01       Cacoal  23.250000     2019-01-01\n",
       "2  2019-01-01         Jaru  31.000000     2019-01-01\n",
       "3  2019-01-01    Ji-Paraná  24.142857     2019-01-01\n",
       "4  2019-01-01  Porto Velho  21.388889     2019-01-01"
      ]
     },
     "execution_count": 27,
     "metadata": {},
     "output_type": "execute_result"
    }
   ],
   "source": [
    "# Vamos mostrar o novo DataFrame para visualização e verificação:\n",
    "sinasc_plot.head()"
   ]
  },
  {
   "cell_type": "code",
   "execution_count": 28,
   "metadata": {},
   "outputs": [],
   "source": [
    "# Vamos criar uma nova coluna em que as datas de nascimento serão os meses e não os dias e substituir na coluna DTNASC:\n",
    "sinasc_plot['mes_nascimento'] = sinasc_plot['mes_nascimento'].dt.strftime('%Y-%m')"
   ]
  },
  {
   "cell_type": "code",
   "execution_count": 29,
   "metadata": {},
   "outputs": [],
   "source": [
    "# Ordenar por mês e ano é recomendável para plotar o gráfico, pois as linhas podem fazer um zigue-zague no gráfico, quando plotarmos:\n",
    "sinasc_plot = sinasc_plot.sort_values('mes_nascimento')"
   ]
  },
  {
   "cell_type": "code",
   "execution_count": 30,
   "metadata": {},
   "outputs": [
    {
     "data": {
      "text/html": [
       "<div>\n",
       "<style scoped>\n",
       "    .dataframe tbody tr th:only-of-type {\n",
       "        vertical-align: middle;\n",
       "    }\n",
       "\n",
       "    .dataframe tbody tr th {\n",
       "        vertical-align: top;\n",
       "    }\n",
       "\n",
       "    .dataframe thead th {\n",
       "        text-align: right;\n",
       "    }\n",
       "</style>\n",
       "<table border=\"1\" class=\"dataframe\">\n",
       "  <thead>\n",
       "    <tr style=\"text-align: right;\">\n",
       "      <th></th>\n",
       "      <th>DTNASC</th>\n",
       "      <th>imediatas</th>\n",
       "      <th>IDADEMAE</th>\n",
       "      <th>mes_nascimento</th>\n",
       "    </tr>\n",
       "  </thead>\n",
       "  <tbody>\n",
       "    <tr>\n",
       "      <th>0</th>\n",
       "      <td>2019-01-01</td>\n",
       "      <td>Ariquemes</td>\n",
       "      <td>23.200000</td>\n",
       "      <td>2019-01</td>\n",
       "    </tr>\n",
       "    <tr>\n",
       "      <th>119</th>\n",
       "      <td>2019-01-20</td>\n",
       "      <td>Vilhena</td>\n",
       "      <td>22.250000</td>\n",
       "      <td>2019-01</td>\n",
       "    </tr>\n",
       "    <tr>\n",
       "      <th>120</th>\n",
       "      <td>2019-01-21</td>\n",
       "      <td>Ariquemes</td>\n",
       "      <td>22.600000</td>\n",
       "      <td>2019-01</td>\n",
       "    </tr>\n",
       "    <tr>\n",
       "      <th>121</th>\n",
       "      <td>2019-01-21</td>\n",
       "      <td>Cacoal</td>\n",
       "      <td>25.590909</td>\n",
       "      <td>2019-01</td>\n",
       "    </tr>\n",
       "    <tr>\n",
       "      <th>122</th>\n",
       "      <td>2019-01-21</td>\n",
       "      <td>Jaru</td>\n",
       "      <td>26.636364</td>\n",
       "      <td>2019-01</td>\n",
       "    </tr>\n",
       "  </tbody>\n",
       "</table>\n",
       "</div>"
      ],
      "text/plain": [
       "         DTNASC  imediatas   IDADEMAE mes_nascimento\n",
       "0    2019-01-01  Ariquemes  23.200000        2019-01\n",
       "119  2019-01-20    Vilhena  22.250000        2019-01\n",
       "120  2019-01-21  Ariquemes  22.600000        2019-01\n",
       "121  2019-01-21     Cacoal  25.590909        2019-01\n",
       "122  2019-01-21       Jaru  26.636364        2019-01"
      ]
     },
     "execution_count": 30,
     "metadata": {},
     "output_type": "execute_result"
    }
   ],
   "source": [
    "# Vamos mostrar o novo DataFrame para visualização e verificação:\n",
    "sinasc_plot.head()"
   ]
  },
  {
   "cell_type": "code",
   "execution_count": 31,
   "metadata": {},
   "outputs": [
    {
     "data": {
      "text/plain": [
       "<Figure size 1200x600 with 0 Axes>"
      ]
     },
     "execution_count": 31,
     "metadata": {},
     "output_type": "execute_result"
    }
   ],
   "source": [
    "# Para plotar o gráfico, vamos determinar o tamanho da figura que irá receber o nosso gráfico:\n",
    "plt.figure( figsize = (12,6) )"
   ]
  },
  {
   "cell_type": "code",
   "execution_count": 32,
   "metadata": {},
   "outputs": [],
   "source": [
    "# Agora vamos construir um loop que iŕa plotar, para cada região imediata, os dados das datas de nascimento e as médias das idades das \n",
    "# mães:\n",
    "for regiao in sinasc_plot['imediatas'].unique():\n",
    "    dados_regiao = sinasc_plot[sinasc_plot['imediatas'] == regiao]\n",
    "    plt.plot(dados_regiao['mes_nascimento'], dados_regiao['IDADEMAE'], label = regiao)"
   ]
  },
  {
   "cell_type": "code",
   "execution_count": 33,
   "metadata": {},
   "outputs": [
    {
     "data": {
      "image/png": "[encoded data removed]",
      "text/plain": [
       "<Figure size 1200x600 with 1 Axes>"
      ]
     },
     "metadata": {},
     "output_type": "display_data"
    }
   ],
   "source": [
    "# Para finalizar, vamos plotar as informações que construímos nos snipets acima:\n",
    "plt.xlabel('Data de Nascimento(DTNASC)')\n",
    "plt.ylabel('Idade Média das Mães')\n",
    "plt.title('Evolução da Idade Média das Mães por Região Imediata')\n",
    "plt.legend(title = 'Imediatas')\n",
    "plt.xticks(rotation = 45)\n",
    "plt.tight_layout()\n",
    "plt.show()"
   ]
  },
  {
   "cell_type": "markdown",
   "metadata": {
    "id": "yt-LIWxblTuF"
   },
   "source": [
    "### 5. Utilize a tabela do link abaixo e crie faixas utilizando o mapping e gere agrupamentos utilizando essas faixas como chave\n"
   ]
  },
  {
   "cell_type": "markdown",
   "metadata": {
    "id": "moZakjgIlTuF"
   },
   "source": [
    "### 5.1 IDH\n",
    "A - https://pt.wikipedia.org/wiki/Lista_de_munic%C3%ADpios_de_Rond%C3%B4nia_por_IDH-M"
   ]
  },
  {
   "cell_type": "code",
   "execution_count": 34,
   "metadata": {
    "id": "DaJk66_BlTuF"
   },
   "outputs": [],
   "source": [
    "IDH = {\n",
    "    \"Porto Velho\" : \"IDH-M alto\",\n",
    " \t\"Vilhena\" : \"IDH-M alto\",\n",
    " \t\"Cacoal\" : \"IDH-M alto\",\n",
    " \t\"Ji-Paraná\" : \"IDH-M alto\", \t\n",
    " \t\"Pimenta Bueno\" : \"IDH-M alto\",\n",
    " \t\"Ariquemes\" : \"IDH-M alto\",\n",
    " \t\"Rolim de Moura\" : \"IDH-M alto\",\n",
    "    \"Cerejeiras\" : \"IDH-M médio\",\n",
    " \t\"Jaru\" : \"IDH-M médio\",\n",
    " \t\"Colorado do Oeste\" : \"IDH-M médio\",\n",
    " \t\"Ouro Preto do Oeste\" : \"IDH-M médio\",\n",
    " \t\"Espigão d'Oeste\" : \"IDH-M médio\",\n",
    " \t\"Santa Luzia d'Oeste\" : \"IDH-M médio\",\n",
    " \t\"Pimenteiras do Oeste\" : \"IDH-M médio\",\n",
    " \t\"Presidente Médici\" : \"IDH-M médio\",\n",
    " \t\"Castanheiras\" : \"IDH-M médio\",\n",
    " \t\"Guajará-Mirim\" : \"IDH-M médio\",\n",
    " \t\"Chupinguaia\" : \"IDH-M médio\",\n",
    " \t\"Cabixi\" : \"IDH-M médio\",\n",
    " \t\"Candeias do Jamari\" : \"IDH-M médio\",\n",
    " \t\"São Felipe d'Oeste\" : \"IDH-M médio\",\n",
    " \t\"Cacaulândia\" : \"IDH-M médio\",\n",
    " \t\"São Miguel do Guaporé\" : \"IDH-M médio\",\n",
    " \t\"Mirante da Serra\" : \"IDH-M médio\",\n",
    "\t\"Alvorada d'Oeste\" : \"IDH-M médio\",\n",
    " \t\"Teixeirópolis\" : \"IDH-M médio\",\n",
    " \t\"Nova Brasilândia d'Oeste\" : \"IDH-M médio\",\n",
    " \t\"Rio Crespo\" : \"IDH-M médio\",\n",
    " \t\"Primavera de Rondônia\" : \"IDH-M médio\",\n",
    " \t\"Alta Floresta d'Oeste\" : \"IDH-M médio\",\n",
    " \t\"Ministro Andreazza\" : \"IDH-M médio\",\n",
    " \t\"Novo Horizonte do Oeste\" : \"IDH-M médio\",\n",
    " \t\"Vale do Paraíso\" : \"IDH-M médio\",\n",
    " \t\"Alto Paraíso\" : \"IDH-M médio\",\n",
    " \t\"Parecis\" : \"IDH-M médio\",\n",
    " \t\"Buritis\" : \"IDH-M médio\",\n",
    " \t\"Itapuã do Oeste\" : \"IDH-M médio\",\n",
    " \t\"Corumbiara\" : \"IDH-M médio\",\n",
    " \t\"Cujubim\" : \"IDH-M médio\",\n",
    " \t\"Costa Marques\" : \"IDH-M médio\",\n",
    " \t\"São Francisco do Guaporé\" : \"IDH-M médio\",\n",
    " \t\"Urupá\" : \"IDH-M médio\",\n",
    " \t\"Monte Negro\" : \"IDH-M médio\",\n",
    "    \"Seringueiras\" : \"IDH-M baixo\",\n",
    " \t\"Governador Jorge Teixeira\" : \"IDH-M baixo\",\n",
    "\t\"Machadinho d'Oeste\" : \"IDH-M baixo\",\n",
    " \t\"Campo Novo de Rondônia\" : \"IDH-M baixo\",\n",
    " \t\"Alto Alegre dos Parecis\" : \"IDH-M baixo\",\n",
    "    \"Theobroma\" : \"IDH-M baixo\",\n",
    " \t\"Nova União\" : \"IDH-M baixo\",\n",
    " \t\"Nova Mamoré\" : \"IDH-M baixo\",\n",
    " \t\"Vale do Anari\" : \"IDH-M baixo\"\n",
    "}"
   ]
  },
  {
   "cell_type": "code",
   "execution_count": 35,
   "metadata": {},
   "outputs": [],
   "source": [
    "# Vamos construir um DataFrame com a idade das mães e a idade dos pais:\n",
    "sinasc_8 = sinasc_raw[['munResNome','IDADEMAE']]"
   ]
  },
  {
   "cell_type": "code",
   "execution_count": 36,
   "metadata": {},
   "outputs": [
    {
     "data": {
      "text/html": [
       "<div>\n",
       "<style scoped>\n",
       "    .dataframe tbody tr th:only-of-type {\n",
       "        vertical-align: middle;\n",
       "    }\n",
       "\n",
       "    .dataframe tbody tr th {\n",
       "        vertical-align: top;\n",
       "    }\n",
       "\n",
       "    .dataframe thead th {\n",
       "        text-align: right;\n",
       "    }\n",
       "</style>\n",
       "<table border=\"1\" class=\"dataframe\">\n",
       "  <thead>\n",
       "    <tr style=\"text-align: right;\">\n",
       "      <th></th>\n",
       "      <th>munResNome</th>\n",
       "      <th>IDADEMAE</th>\n",
       "    </tr>\n",
       "  </thead>\n",
       "  <tbody>\n",
       "    <tr>\n",
       "      <th>0</th>\n",
       "      <td>Alta Floresta D'Oeste</td>\n",
       "      <td>19</td>\n",
       "    </tr>\n",
       "    <tr>\n",
       "      <th>1</th>\n",
       "      <td>Alta Floresta D'Oeste</td>\n",
       "      <td>29</td>\n",
       "    </tr>\n",
       "    <tr>\n",
       "      <th>2</th>\n",
       "      <td>Alta Floresta D'Oeste</td>\n",
       "      <td>37</td>\n",
       "    </tr>\n",
       "    <tr>\n",
       "      <th>3</th>\n",
       "      <td>Alto Alegre dos Parecis</td>\n",
       "      <td>30</td>\n",
       "    </tr>\n",
       "    <tr>\n",
       "      <th>4</th>\n",
       "      <td>Alta Floresta D'Oeste</td>\n",
       "      <td>30</td>\n",
       "    </tr>\n",
       "  </tbody>\n",
       "</table>\n",
       "</div>"
      ],
      "text/plain": [
       "                munResNome  IDADEMAE\n",
       "0    Alta Floresta D'Oeste        19\n",
       "1    Alta Floresta D'Oeste        29\n",
       "2    Alta Floresta D'Oeste        37\n",
       "3  Alto Alegre dos Parecis        30\n",
       "4    Alta Floresta D'Oeste        30"
      ]
     },
     "execution_count": 36,
     "metadata": {},
     "output_type": "execute_result"
    }
   ],
   "source": [
    "# Para visualizar e verificar, vamos mostrar a nossa base de dados:\n",
    "sinasc_8.head()"
   ]
  },
  {
   "cell_type": "code",
   "execution_count": 37,
   "metadata": {},
   "outputs": [
    {
     "name": "stderr",
     "output_type": "stream",
     "text": [
      "/tmp/ipykernel_6355/122623580.py:2: SettingWithCopyWarning: \n",
      "A value is trying to be set on a copy of a slice from a DataFrame.\n",
      "Try using .loc[row_indexer,col_indexer] = value instead\n",
      "\n",
      "See the caveats in the documentation: https://pandas.pydata.org/pandas-docs/stable/user_guide/indexing.html#returning-a-view-versus-a-copy\n",
      "  sinasc_8['IDH_M'] = sinasc_8['munResNome'].map(IDH)\n"
     ]
    }
   ],
   "source": [
    "# Nesta linha de código, vamos construir uma nova coluna chamada 'IDH_M' com a classificação dos municípios de acordo com o seu IDH:\n",
    "sinasc_8['IDH_M'] = sinasc_8['munResNome'].map(IDH)"
   ]
  },
  {
   "cell_type": "code",
   "execution_count": 38,
   "metadata": {},
   "outputs": [
    {
     "data": {
      "text/html": [
       "<div>\n",
       "<style scoped>\n",
       "    .dataframe tbody tr th:only-of-type {\n",
       "        vertical-align: middle;\n",
       "    }\n",
       "\n",
       "    .dataframe tbody tr th {\n",
       "        vertical-align: top;\n",
       "    }\n",
       "\n",
       "    .dataframe thead th {\n",
       "        text-align: right;\n",
       "    }\n",
       "</style>\n",
       "<table border=\"1\" class=\"dataframe\">\n",
       "  <thead>\n",
       "    <tr style=\"text-align: right;\">\n",
       "      <th></th>\n",
       "      <th>munResNome</th>\n",
       "      <th>IDADEMAE</th>\n",
       "      <th>IDH_M</th>\n",
       "    </tr>\n",
       "  </thead>\n",
       "  <tbody>\n",
       "    <tr>\n",
       "      <th>0</th>\n",
       "      <td>Alta Floresta D'Oeste</td>\n",
       "      <td>19</td>\n",
       "      <td>NaN</td>\n",
       "    </tr>\n",
       "    <tr>\n",
       "      <th>1</th>\n",
       "      <td>Alta Floresta D'Oeste</td>\n",
       "      <td>29</td>\n",
       "      <td>NaN</td>\n",
       "    </tr>\n",
       "    <tr>\n",
       "      <th>2</th>\n",
       "      <td>Alta Floresta D'Oeste</td>\n",
       "      <td>37</td>\n",
       "      <td>NaN</td>\n",
       "    </tr>\n",
       "    <tr>\n",
       "      <th>3</th>\n",
       "      <td>Alto Alegre dos Parecis</td>\n",
       "      <td>30</td>\n",
       "      <td>IDH-M baixo</td>\n",
       "    </tr>\n",
       "    <tr>\n",
       "      <th>4</th>\n",
       "      <td>Alta Floresta D'Oeste</td>\n",
       "      <td>30</td>\n",
       "      <td>NaN</td>\n",
       "    </tr>\n",
       "  </tbody>\n",
       "</table>\n",
       "</div>"
      ],
      "text/plain": [
       "                munResNome  IDADEMAE        IDH_M\n",
       "0    Alta Floresta D'Oeste        19          NaN\n",
       "1    Alta Floresta D'Oeste        29          NaN\n",
       "2    Alta Floresta D'Oeste        37          NaN\n",
       "3  Alto Alegre dos Parecis        30  IDH-M baixo\n",
       "4    Alta Floresta D'Oeste        30          NaN"
      ]
     },
     "execution_count": 38,
     "metadata": {},
     "output_type": "execute_result"
    }
   ],
   "source": [
    "# Vamos mostrar o DataFrame para visualização e verificação:\n",
    "sinasc_8.head()"
   ]
  },
  {
   "cell_type": "code",
   "execution_count": 39,
   "metadata": {},
   "outputs": [],
   "source": [
    "# Como há linhas com dados faltantes na coluna IDH_M que podem atrapalhar a nossa análise, vamos dropar estas linhas e ficar somente com \n",
    "# aquelas em que os municípios estão com esta classificação:\n",
    "sinasc_8 = sinasc_8.dropna( subset = ['IDH_M'] )"
   ]
  },
  {
   "cell_type": "code",
   "execution_count": 40,
   "metadata": {},
   "outputs": [
    {
     "name": "stdout",
     "output_type": "stream",
     "text": [
      "0\n"
     ]
    }
   ],
   "source": [
    "print(sinasc_8['IDH_M'].isna().sum())"
   ]
  },
  {
   "cell_type": "code",
   "execution_count": 41,
   "metadata": {},
   "outputs": [
    {
     "data": {
      "text/html": [
       "<div>\n",
       "<style scoped>\n",
       "    .dataframe tbody tr th:only-of-type {\n",
       "        vertical-align: middle;\n",
       "    }\n",
       "\n",
       "    .dataframe tbody tr th {\n",
       "        vertical-align: top;\n",
       "    }\n",
       "\n",
       "    .dataframe thead th {\n",
       "        text-align: right;\n",
       "    }\n",
       "</style>\n",
       "<table border=\"1\" class=\"dataframe\">\n",
       "  <thead>\n",
       "    <tr style=\"text-align: right;\">\n",
       "      <th></th>\n",
       "      <th>munResNome</th>\n",
       "      <th>IDADEMAE</th>\n",
       "      <th>IDH_M</th>\n",
       "    </tr>\n",
       "  </thead>\n",
       "  <tbody>\n",
       "    <tr>\n",
       "      <th>3</th>\n",
       "      <td>Alto Alegre dos Parecis</td>\n",
       "      <td>30</td>\n",
       "      <td>IDH-M baixo</td>\n",
       "    </tr>\n",
       "    <tr>\n",
       "      <th>6</th>\n",
       "      <td>Novo Horizonte do Oeste</td>\n",
       "      <td>37</td>\n",
       "      <td>IDH-M médio</td>\n",
       "    </tr>\n",
       "    <tr>\n",
       "      <th>21</th>\n",
       "      <td>Rolim de Moura</td>\n",
       "      <td>31</td>\n",
       "      <td>IDH-M alto</td>\n",
       "    </tr>\n",
       "    <tr>\n",
       "      <th>23</th>\n",
       "      <td>Alto Alegre dos Parecis</td>\n",
       "      <td>26</td>\n",
       "      <td>IDH-M baixo</td>\n",
       "    </tr>\n",
       "    <tr>\n",
       "      <th>24</th>\n",
       "      <td>Alto Alegre dos Parecis</td>\n",
       "      <td>26</td>\n",
       "      <td>IDH-M baixo</td>\n",
       "    </tr>\n",
       "  </tbody>\n",
       "</table>\n",
       "</div>"
      ],
      "text/plain": [
       "                 munResNome  IDADEMAE        IDH_M\n",
       "3   Alto Alegre dos Parecis        30  IDH-M baixo\n",
       "6   Novo Horizonte do Oeste        37  IDH-M médio\n",
       "21           Rolim de Moura        31   IDH-M alto\n",
       "23  Alto Alegre dos Parecis        26  IDH-M baixo\n",
       "24  Alto Alegre dos Parecis        26  IDH-M baixo"
      ]
     },
     "execution_count": 41,
     "metadata": {},
     "output_type": "execute_result"
    }
   ],
   "source": [
    "# Vamos imprimir para visualizar e verificar os dados:\n",
    "sinasc_8.head()"
   ]
  },
  {
   "cell_type": "code",
   "execution_count": 42,
   "metadata": {},
   "outputs": [],
   "source": [
    "# Para finalizar, vamos calcular a idade média das mães pelo número do IDH-Médio:\n",
    "resultado_1 = sinasc_8.groupby('IDH_M').agg({'IDADEMAE': [('soma','sum'), \n",
    "                                                        ('média','mean'), \n",
    "                                                        ('mínimo','min'), \n",
    "                                                        ('máximo','max'), \n",
    "                                                        ('mediana','median'),\n",
    "                                                        ('desvio-padrão','std'), \n",
    "                                                        ('variância','var')]\n",
    "                                         })    "
   ]
  },
  {
   "cell_type": "code",
   "execution_count": 43,
   "metadata": {},
   "outputs": [
    {
     "data": {
      "text/html": [
       "<div>\n",
       "<style scoped>\n",
       "    .dataframe tbody tr th:only-of-type {\n",
       "        vertical-align: middle;\n",
       "    }\n",
       "\n",
       "    .dataframe tbody tr th {\n",
       "        vertical-align: top;\n",
       "    }\n",
       "\n",
       "    .dataframe thead tr th {\n",
       "        text-align: left;\n",
       "    }\n",
       "\n",
       "    .dataframe thead tr:last-of-type th {\n",
       "        text-align: right;\n",
       "    }\n",
       "</style>\n",
       "<table border=\"1\" class=\"dataframe\">\n",
       "  <thead>\n",
       "    <tr>\n",
       "      <th></th>\n",
       "      <th colspan=\"7\" halign=\"left\">IDADEMAE</th>\n",
       "    </tr>\n",
       "    <tr>\n",
       "      <th></th>\n",
       "      <th>soma</th>\n",
       "      <th>média</th>\n",
       "      <th>mínimo</th>\n",
       "      <th>máximo</th>\n",
       "      <th>mediana</th>\n",
       "      <th>desvio-padrão</th>\n",
       "      <th>variância</th>\n",
       "    </tr>\n",
       "    <tr>\n",
       "      <th>IDH_M</th>\n",
       "      <th></th>\n",
       "      <th></th>\n",
       "      <th></th>\n",
       "      <th></th>\n",
       "      <th></th>\n",
       "      <th></th>\n",
       "      <th></th>\n",
       "    </tr>\n",
       "  </thead>\n",
       "  <tbody>\n",
       "    <tr>\n",
       "      <th>IDH-M alto</th>\n",
       "      <td>442955</td>\n",
       "      <td>26.280332</td>\n",
       "      <td>12</td>\n",
       "      <td>47</td>\n",
       "      <td>26.0</td>\n",
       "      <td>6.415374</td>\n",
       "      <td>41.157021</td>\n",
       "    </tr>\n",
       "    <tr>\n",
       "      <th>IDH-M baixo</th>\n",
       "      <td>33507</td>\n",
       "      <td>25.269231</td>\n",
       "      <td>13</td>\n",
       "      <td>46</td>\n",
       "      <td>25.0</td>\n",
       "      <td>6.103193</td>\n",
       "      <td>37.248970</td>\n",
       "    </tr>\n",
       "    <tr>\n",
       "      <th>IDH-M médio</th>\n",
       "      <td>178611</td>\n",
       "      <td>25.848191</td>\n",
       "      <td>11</td>\n",
       "      <td>53</td>\n",
       "      <td>25.0</td>\n",
       "      <td>6.372794</td>\n",
       "      <td>40.612499</td>\n",
       "    </tr>\n",
       "  </tbody>\n",
       "</table>\n",
       "</div>"
      ],
      "text/plain": [
       "            IDADEMAE                                                          \n",
       "                soma      média mínimo máximo mediana desvio-padrão  variância\n",
       "IDH_M                                                                         \n",
       "IDH-M alto    442955  26.280332     12     47    26.0      6.415374  41.157021\n",
       "IDH-M baixo    33507  25.269231     13     46    25.0      6.103193  37.248970\n",
       "IDH-M médio   178611  25.848191     11     53    25.0      6.372794  40.612499"
      ]
     },
     "execution_count": 43,
     "metadata": {},
     "output_type": "execute_result"
    }
   ],
   "source": [
    "# Vamos mostrar o resultado para visualização e análise:\n",
    "resultado_1"
   ]
  },
  {
   "cell_type": "code",
   "execution_count": 44,
   "metadata": {},
   "outputs": [],
   "source": [
    "# Vamos construir um DataFrame com a idade dos pais:\n",
    "sinasc_9 = sinasc_raw[['munResNome','IDADEPAI']]"
   ]
  },
  {
   "cell_type": "code",
   "execution_count": 45,
   "metadata": {},
   "outputs": [
    {
     "data": {
      "text/html": [
       "<div>\n",
       "<style scoped>\n",
       "    .dataframe tbody tr th:only-of-type {\n",
       "        vertical-align: middle;\n",
       "    }\n",
       "\n",
       "    .dataframe tbody tr th {\n",
       "        vertical-align: top;\n",
       "    }\n",
       "\n",
       "    .dataframe thead th {\n",
       "        text-align: right;\n",
       "    }\n",
       "</style>\n",
       "<table border=\"1\" class=\"dataframe\">\n",
       "  <thead>\n",
       "    <tr style=\"text-align: right;\">\n",
       "      <th></th>\n",
       "      <th>munResNome</th>\n",
       "      <th>IDADEPAI</th>\n",
       "    </tr>\n",
       "  </thead>\n",
       "  <tbody>\n",
       "    <tr>\n",
       "      <th>0</th>\n",
       "      <td>Alta Floresta D'Oeste</td>\n",
       "      <td>26.0</td>\n",
       "    </tr>\n",
       "    <tr>\n",
       "      <th>1</th>\n",
       "      <td>Alta Floresta D'Oeste</td>\n",
       "      <td>24.0</td>\n",
       "    </tr>\n",
       "    <tr>\n",
       "      <th>2</th>\n",
       "      <td>Alta Floresta D'Oeste</td>\n",
       "      <td>32.0</td>\n",
       "    </tr>\n",
       "    <tr>\n",
       "      <th>3</th>\n",
       "      <td>Alto Alegre dos Parecis</td>\n",
       "      <td>24.0</td>\n",
       "    </tr>\n",
       "    <tr>\n",
       "      <th>4</th>\n",
       "      <td>Alta Floresta D'Oeste</td>\n",
       "      <td>27.0</td>\n",
       "    </tr>\n",
       "  </tbody>\n",
       "</table>\n",
       "</div>"
      ],
      "text/plain": [
       "                munResNome  IDADEPAI\n",
       "0    Alta Floresta D'Oeste      26.0\n",
       "1    Alta Floresta D'Oeste      24.0\n",
       "2    Alta Floresta D'Oeste      32.0\n",
       "3  Alto Alegre dos Parecis      24.0\n",
       "4    Alta Floresta D'Oeste      27.0"
      ]
     },
     "execution_count": 45,
     "metadata": {},
     "output_type": "execute_result"
    }
   ],
   "source": [
    "# Para visualizar e verificar, vamos mostrar a nossa base de dados:\n",
    "sinasc_9.head()"
   ]
  },
  {
   "cell_type": "code",
   "execution_count": 46,
   "metadata": {},
   "outputs": [
    {
     "name": "stderr",
     "output_type": "stream",
     "text": [
      "/tmp/ipykernel_6355/3635877295.py:2: SettingWithCopyWarning: \n",
      "A value is trying to be set on a copy of a slice from a DataFrame.\n",
      "Try using .loc[row_indexer,col_indexer] = value instead\n",
      "\n",
      "See the caveats in the documentation: https://pandas.pydata.org/pandas-docs/stable/user_guide/indexing.html#returning-a-view-versus-a-copy\n",
      "  sinasc_9['IDH_M'] = sinasc_9['munResNome'].map(IDH)\n"
     ]
    }
   ],
   "source": [
    "# Nesta linha de código, vamos construir uma nova coluna chamada 'IDH_M' com a classificação dos municípios de acordo com o seu IDH:\n",
    "sinasc_9['IDH_M'] = sinasc_9['munResNome'].map(IDH)"
   ]
  },
  {
   "cell_type": "code",
   "execution_count": 47,
   "metadata": {},
   "outputs": [
    {
     "data": {
      "text/html": [
       "<div>\n",
       "<style scoped>\n",
       "    .dataframe tbody tr th:only-of-type {\n",
       "        vertical-align: middle;\n",
       "    }\n",
       "\n",
       "    .dataframe tbody tr th {\n",
       "        vertical-align: top;\n",
       "    }\n",
       "\n",
       "    .dataframe thead th {\n",
       "        text-align: right;\n",
       "    }\n",
       "</style>\n",
       "<table border=\"1\" class=\"dataframe\">\n",
       "  <thead>\n",
       "    <tr style=\"text-align: right;\">\n",
       "      <th></th>\n",
       "      <th>munResNome</th>\n",
       "      <th>IDADEPAI</th>\n",
       "      <th>IDH_M</th>\n",
       "    </tr>\n",
       "  </thead>\n",
       "  <tbody>\n",
       "    <tr>\n",
       "      <th>0</th>\n",
       "      <td>Alta Floresta D'Oeste</td>\n",
       "      <td>26.0</td>\n",
       "      <td>NaN</td>\n",
       "    </tr>\n",
       "    <tr>\n",
       "      <th>1</th>\n",
       "      <td>Alta Floresta D'Oeste</td>\n",
       "      <td>24.0</td>\n",
       "      <td>NaN</td>\n",
       "    </tr>\n",
       "    <tr>\n",
       "      <th>2</th>\n",
       "      <td>Alta Floresta D'Oeste</td>\n",
       "      <td>32.0</td>\n",
       "      <td>NaN</td>\n",
       "    </tr>\n",
       "    <tr>\n",
       "      <th>3</th>\n",
       "      <td>Alto Alegre dos Parecis</td>\n",
       "      <td>24.0</td>\n",
       "      <td>IDH-M baixo</td>\n",
       "    </tr>\n",
       "    <tr>\n",
       "      <th>4</th>\n",
       "      <td>Alta Floresta D'Oeste</td>\n",
       "      <td>27.0</td>\n",
       "      <td>NaN</td>\n",
       "    </tr>\n",
       "  </tbody>\n",
       "</table>\n",
       "</div>"
      ],
      "text/plain": [
       "                munResNome  IDADEPAI        IDH_M\n",
       "0    Alta Floresta D'Oeste      26.0          NaN\n",
       "1    Alta Floresta D'Oeste      24.0          NaN\n",
       "2    Alta Floresta D'Oeste      32.0          NaN\n",
       "3  Alto Alegre dos Parecis      24.0  IDH-M baixo\n",
       "4    Alta Floresta D'Oeste      27.0          NaN"
      ]
     },
     "execution_count": 47,
     "metadata": {},
     "output_type": "execute_result"
    }
   ],
   "source": [
    "# Vamos imprimir para visualizar e verificar os dados:\n",
    "sinasc_9.head()"
   ]
  },
  {
   "cell_type": "code",
   "execution_count": 48,
   "metadata": {},
   "outputs": [],
   "source": [
    "# Como há linhas com dados faltantes na coluna IDH_M que podem atrapalhar a nossa análise, vamos dropar estas linhas e ficar somente com \n",
    "# aquelas em que os municípios estão com esta classificação:\n",
    "sinasc_9 = sinasc_9.dropna( subset = ['IDH_M'] )"
   ]
  },
  {
   "cell_type": "code",
   "execution_count": 49,
   "metadata": {},
   "outputs": [],
   "source": [
    "# Para finalizar, vamos calcular a idade média das mães pelo número do IDH-Médio:\n",
    "resultado_2 = sinasc_9.groupby('IDH_M').agg({'IDADEPAI': [('soma','sum'), \n",
    "                                                        ('média','mean'), \n",
    "                                                        ('mínimo','min'), \n",
    "                                                        ('máximo','max'), \n",
    "                                                        ('mediana','median'),\n",
    "                                                        ('desvio-padrão','std'), \n",
    "                                                        ('variância','var')]\n",
    "                                         })    "
   ]
  },
  {
   "cell_type": "code",
   "execution_count": 50,
   "metadata": {},
   "outputs": [
    {
     "data": {
      "text/html": [
       "<div>\n",
       "<style scoped>\n",
       "    .dataframe tbody tr th:only-of-type {\n",
       "        vertical-align: middle;\n",
       "    }\n",
       "\n",
       "    .dataframe tbody tr th {\n",
       "        vertical-align: top;\n",
       "    }\n",
       "\n",
       "    .dataframe thead tr th {\n",
       "        text-align: left;\n",
       "    }\n",
       "\n",
       "    .dataframe thead tr:last-of-type th {\n",
       "        text-align: right;\n",
       "    }\n",
       "</style>\n",
       "<table border=\"1\" class=\"dataframe\">\n",
       "  <thead>\n",
       "    <tr>\n",
       "      <th></th>\n",
       "      <th colspan=\"7\" halign=\"left\">IDADEPAI</th>\n",
       "    </tr>\n",
       "    <tr>\n",
       "      <th></th>\n",
       "      <th>soma</th>\n",
       "      <th>média</th>\n",
       "      <th>mínimo</th>\n",
       "      <th>máximo</th>\n",
       "      <th>mediana</th>\n",
       "      <th>desvio-padrão</th>\n",
       "      <th>variância</th>\n",
       "    </tr>\n",
       "    <tr>\n",
       "      <th>IDH_M</th>\n",
       "      <th></th>\n",
       "      <th></th>\n",
       "      <th></th>\n",
       "      <th></th>\n",
       "      <th></th>\n",
       "      <th></th>\n",
       "      <th></th>\n",
       "    </tr>\n",
       "  </thead>\n",
       "  <tbody>\n",
       "    <tr>\n",
       "      <th>IDH-M alto</th>\n",
       "      <td>140082.0</td>\n",
       "      <td>31.074091</td>\n",
       "      <td>15.0</td>\n",
       "      <td>70.0</td>\n",
       "      <td>30.0</td>\n",
       "      <td>7.773149</td>\n",
       "      <td>60.421845</td>\n",
       "    </tr>\n",
       "    <tr>\n",
       "      <th>IDH-M baixo</th>\n",
       "      <td>10428.0</td>\n",
       "      <td>30.402332</td>\n",
       "      <td>16.0</td>\n",
       "      <td>58.0</td>\n",
       "      <td>30.0</td>\n",
       "      <td>7.141936</td>\n",
       "      <td>51.007246</td>\n",
       "    </tr>\n",
       "    <tr>\n",
       "      <th>IDH-M médio</th>\n",
       "      <td>54774.0</td>\n",
       "      <td>31.570029</td>\n",
       "      <td>16.0</td>\n",
       "      <td>73.0</td>\n",
       "      <td>31.0</td>\n",
       "      <td>7.864526</td>\n",
       "      <td>61.850774</td>\n",
       "    </tr>\n",
       "  </tbody>\n",
       "</table>\n",
       "</div>"
      ],
      "text/plain": [
       "             IDADEPAI                                                 \\\n",
       "                 soma      média mínimo máximo mediana desvio-padrão   \n",
       "IDH_M                                                                  \n",
       "IDH-M alto   140082.0  31.074091   15.0   70.0    30.0      7.773149   \n",
       "IDH-M baixo   10428.0  30.402332   16.0   58.0    30.0      7.141936   \n",
       "IDH-M médio   54774.0  31.570029   16.0   73.0    31.0      7.864526   \n",
       "\n",
       "                        \n",
       "             variância  \n",
       "IDH_M                   \n",
       "IDH-M alto   60.421845  \n",
       "IDH-M baixo  51.007246  \n",
       "IDH-M médio  61.850774  "
      ]
     },
     "execution_count": 50,
     "metadata": {},
     "output_type": "execute_result"
    }
   ],
   "source": [
    "# Vamos mostrar o resultado para visualização e análise:\n",
    "resultado_2"
   ]
  },
  {
   "cell_type": "code",
   "execution_count": 51,
   "metadata": {},
   "outputs": [
    {
     "data": {
      "text/html": [
       "<div>\n",
       "<style scoped>\n",
       "    .dataframe tbody tr th:only-of-type {\n",
       "        vertical-align: middle;\n",
       "    }\n",
       "\n",
       "    .dataframe tbody tr th {\n",
       "        vertical-align: top;\n",
       "    }\n",
       "\n",
       "    .dataframe thead th {\n",
       "        text-align: right;\n",
       "    }\n",
       "</style>\n",
       "<table border=\"1\" class=\"dataframe\">\n",
       "  <thead>\n",
       "    <tr style=\"text-align: right;\">\n",
       "      <th></th>\n",
       "      <th>munResNome</th>\n",
       "      <th>SEMAGESTAC</th>\n",
       "    </tr>\n",
       "  </thead>\n",
       "  <tbody>\n",
       "    <tr>\n",
       "      <th>0</th>\n",
       "      <td>Alta Floresta D'Oeste</td>\n",
       "      <td>39.0</td>\n",
       "    </tr>\n",
       "    <tr>\n",
       "      <th>1</th>\n",
       "      <td>Alta Floresta D'Oeste</td>\n",
       "      <td>38.0</td>\n",
       "    </tr>\n",
       "    <tr>\n",
       "      <th>2</th>\n",
       "      <td>Alta Floresta D'Oeste</td>\n",
       "      <td>40.0</td>\n",
       "    </tr>\n",
       "    <tr>\n",
       "      <th>3</th>\n",
       "      <td>Alto Alegre dos Parecis</td>\n",
       "      <td>38.0</td>\n",
       "    </tr>\n",
       "    <tr>\n",
       "      <th>4</th>\n",
       "      <td>Alta Floresta D'Oeste</td>\n",
       "      <td>38.0</td>\n",
       "    </tr>\n",
       "  </tbody>\n",
       "</table>\n",
       "</div>"
      ],
      "text/plain": [
       "                munResNome  SEMAGESTAC\n",
       "0    Alta Floresta D'Oeste        39.0\n",
       "1    Alta Floresta D'Oeste        38.0\n",
       "2    Alta Floresta D'Oeste        40.0\n",
       "3  Alto Alegre dos Parecis        38.0\n",
       "4    Alta Floresta D'Oeste        38.0"
      ]
     },
     "execution_count": 51,
     "metadata": {},
     "output_type": "execute_result"
    }
   ],
   "source": [
    "# Vamos construir um DataFrame que tenha as colunas dos municípios e da quantidade de semanas de gestação:\n",
    "sinasc_10 = sinasc_raw[['munResNome', 'SEMAGESTAC']]\n",
    "\n",
    "# Mostramos o DataFrame para visualização e verificação:\n",
    "sinasc_10.head()"
   ]
  },
  {
   "cell_type": "code",
   "execution_count": 52,
   "metadata": {},
   "outputs": [
    {
     "name": "stderr",
     "output_type": "stream",
     "text": [
      "/tmp/ipykernel_6355/1099689224.py:2: SettingWithCopyWarning: \n",
      "A value is trying to be set on a copy of a slice from a DataFrame.\n",
      "Try using .loc[row_indexer,col_indexer] = value instead\n",
      "\n",
      "See the caveats in the documentation: https://pandas.pydata.org/pandas-docs/stable/user_guide/indexing.html#returning-a-view-versus-a-copy\n",
      "  sinasc_10['idh_medio'] = sinasc_10['munResNome'].map(IDH)\n"
     ]
    },
    {
     "data": {
      "text/html": [
       "<div>\n",
       "<style scoped>\n",
       "    .dataframe tbody tr th:only-of-type {\n",
       "        vertical-align: middle;\n",
       "    }\n",
       "\n",
       "    .dataframe tbody tr th {\n",
       "        vertical-align: top;\n",
       "    }\n",
       "\n",
       "    .dataframe thead th {\n",
       "        text-align: right;\n",
       "    }\n",
       "</style>\n",
       "<table border=\"1\" class=\"dataframe\">\n",
       "  <thead>\n",
       "    <tr style=\"text-align: right;\">\n",
       "      <th></th>\n",
       "      <th>munResNome</th>\n",
       "      <th>SEMAGESTAC</th>\n",
       "      <th>idh_medio</th>\n",
       "    </tr>\n",
       "  </thead>\n",
       "  <tbody>\n",
       "    <tr>\n",
       "      <th>0</th>\n",
       "      <td>Alta Floresta D'Oeste</td>\n",
       "      <td>39.0</td>\n",
       "      <td>NaN</td>\n",
       "    </tr>\n",
       "    <tr>\n",
       "      <th>1</th>\n",
       "      <td>Alta Floresta D'Oeste</td>\n",
       "      <td>38.0</td>\n",
       "      <td>NaN</td>\n",
       "    </tr>\n",
       "    <tr>\n",
       "      <th>2</th>\n",
       "      <td>Alta Floresta D'Oeste</td>\n",
       "      <td>40.0</td>\n",
       "      <td>NaN</td>\n",
       "    </tr>\n",
       "    <tr>\n",
       "      <th>3</th>\n",
       "      <td>Alto Alegre dos Parecis</td>\n",
       "      <td>38.0</td>\n",
       "      <td>IDH-M baixo</td>\n",
       "    </tr>\n",
       "    <tr>\n",
       "      <th>4</th>\n",
       "      <td>Alta Floresta D'Oeste</td>\n",
       "      <td>38.0</td>\n",
       "      <td>NaN</td>\n",
       "    </tr>\n",
       "  </tbody>\n",
       "</table>\n",
       "</div>"
      ],
      "text/plain": [
       "                munResNome  SEMAGESTAC    idh_medio\n",
       "0    Alta Floresta D'Oeste        39.0          NaN\n",
       "1    Alta Floresta D'Oeste        38.0          NaN\n",
       "2    Alta Floresta D'Oeste        40.0          NaN\n",
       "3  Alto Alegre dos Parecis        38.0  IDH-M baixo\n",
       "4    Alta Floresta D'Oeste        38.0          NaN"
      ]
     },
     "execution_count": 52,
     "metadata": {},
     "output_type": "execute_result"
    }
   ],
   "source": [
    "# Vamos fazer o Mapping deste DataFrame segundo o IDH-Médio:\n",
    "sinasc_10['idh_medio'] = sinasc_10['munResNome'].map(IDH)\n",
    "\n",
    "# Mostramos o DataFrame para visualização e verificação:\n",
    "sinasc_10.head()"
   ]
  },
  {
   "cell_type": "code",
   "execution_count": 53,
   "metadata": {},
   "outputs": [],
   "source": [
    "# Como há linhas com dados faltantes na coluna IDH_M que podem atrapalhar a nossa análise, vamos dropar estas linhas e ficar somente com \n",
    "# aquelas em que os municípios estão com esta classificação:\n",
    "sinasc_10 = sinasc_10.dropna( subset = ['idh_medio'] )"
   ]
  },
  {
   "cell_type": "code",
   "execution_count": 54,
   "metadata": {},
   "outputs": [
    {
     "name": "stdout",
     "output_type": "stream",
     "text": [
      "0\n"
     ]
    }
   ],
   "source": [
    "print(sinasc_10['idh_medio'].isna().sum())"
   ]
  },
  {
   "cell_type": "code",
   "execution_count": 55,
   "metadata": {},
   "outputs": [
    {
     "data": {
      "text/html": [
       "<div>\n",
       "<style scoped>\n",
       "    .dataframe tbody tr th:only-of-type {\n",
       "        vertical-align: middle;\n",
       "    }\n",
       "\n",
       "    .dataframe tbody tr th {\n",
       "        vertical-align: top;\n",
       "    }\n",
       "\n",
       "    .dataframe thead th {\n",
       "        text-align: right;\n",
       "    }\n",
       "</style>\n",
       "<table border=\"1\" class=\"dataframe\">\n",
       "  <thead>\n",
       "    <tr style=\"text-align: right;\">\n",
       "      <th></th>\n",
       "      <th>munResNome</th>\n",
       "      <th>SEMAGESTAC</th>\n",
       "      <th>idh_medio</th>\n",
       "    </tr>\n",
       "  </thead>\n",
       "  <tbody>\n",
       "    <tr>\n",
       "      <th>3</th>\n",
       "      <td>Alto Alegre dos Parecis</td>\n",
       "      <td>38.0</td>\n",
       "      <td>IDH-M baixo</td>\n",
       "    </tr>\n",
       "    <tr>\n",
       "      <th>6</th>\n",
       "      <td>Novo Horizonte do Oeste</td>\n",
       "      <td>38.0</td>\n",
       "      <td>IDH-M médio</td>\n",
       "    </tr>\n",
       "    <tr>\n",
       "      <th>21</th>\n",
       "      <td>Rolim de Moura</td>\n",
       "      <td>38.0</td>\n",
       "      <td>IDH-M alto</td>\n",
       "    </tr>\n",
       "    <tr>\n",
       "      <th>23</th>\n",
       "      <td>Alto Alegre dos Parecis</td>\n",
       "      <td>38.0</td>\n",
       "      <td>IDH-M baixo</td>\n",
       "    </tr>\n",
       "    <tr>\n",
       "      <th>24</th>\n",
       "      <td>Alto Alegre dos Parecis</td>\n",
       "      <td>38.0</td>\n",
       "      <td>IDH-M baixo</td>\n",
       "    </tr>\n",
       "  </tbody>\n",
       "</table>\n",
       "</div>"
      ],
      "text/plain": [
       "                 munResNome  SEMAGESTAC    idh_medio\n",
       "3   Alto Alegre dos Parecis        38.0  IDH-M baixo\n",
       "6   Novo Horizonte do Oeste        38.0  IDH-M médio\n",
       "21           Rolim de Moura        38.0   IDH-M alto\n",
       "23  Alto Alegre dos Parecis        38.0  IDH-M baixo\n",
       "24  Alto Alegre dos Parecis        38.0  IDH-M baixo"
      ]
     },
     "execution_count": 55,
     "metadata": {},
     "output_type": "execute_result"
    }
   ],
   "source": [
    "# Vamos imprimir para visualizar e verificar os dados:\n",
    "sinasc_10.head()"
   ]
  },
  {
   "cell_type": "code",
   "execution_count": 56,
   "metadata": {},
   "outputs": [],
   "source": [
    "# Para finalizar, vamos calcular a idade média das mães pelo número do IDH-Médio:\n",
    "resultado_3 = sinasc_10.groupby('idh_medio').agg({'SEMAGESTAC': [('soma','sum'), \n",
    "                                                           ('média','mean'), \n",
    "                                                           ('mínimo','min'), \n",
    "                                                           ('máximo','max'), \n",
    "                                                           ('mediana','median'),\n",
    "                                                           ('desvio-padrão','std'), \n",
    "                                                           ('variância','var')]\n",
    "                                            })"
   ]
  },
  {
   "cell_type": "code",
   "execution_count": 57,
   "metadata": {},
   "outputs": [
    {
     "data": {
      "text/html": [
       "<div>\n",
       "<style scoped>\n",
       "    .dataframe tbody tr th:only-of-type {\n",
       "        vertical-align: middle;\n",
       "    }\n",
       "\n",
       "    .dataframe tbody tr th {\n",
       "        vertical-align: top;\n",
       "    }\n",
       "\n",
       "    .dataframe thead tr th {\n",
       "        text-align: left;\n",
       "    }\n",
       "\n",
       "    .dataframe thead tr:last-of-type th {\n",
       "        text-align: right;\n",
       "    }\n",
       "</style>\n",
       "<table border=\"1\" class=\"dataframe\">\n",
       "  <thead>\n",
       "    <tr>\n",
       "      <th></th>\n",
       "      <th colspan=\"7\" halign=\"left\">SEMAGESTAC</th>\n",
       "    </tr>\n",
       "    <tr>\n",
       "      <th></th>\n",
       "      <th>soma</th>\n",
       "      <th>média</th>\n",
       "      <th>mínimo</th>\n",
       "      <th>máximo</th>\n",
       "      <th>mediana</th>\n",
       "      <th>desvio-padrão</th>\n",
       "      <th>variância</th>\n",
       "    </tr>\n",
       "    <tr>\n",
       "      <th>idh_medio</th>\n",
       "      <th></th>\n",
       "      <th></th>\n",
       "      <th></th>\n",
       "      <th></th>\n",
       "      <th></th>\n",
       "      <th></th>\n",
       "      <th></th>\n",
       "    </tr>\n",
       "  </thead>\n",
       "  <tbody>\n",
       "    <tr>\n",
       "      <th>IDH-M alto</th>\n",
       "      <td>613640.0</td>\n",
       "      <td>38.579153</td>\n",
       "      <td>19.0</td>\n",
       "      <td>45.0</td>\n",
       "      <td>39.0</td>\n",
       "      <td>2.026930</td>\n",
       "      <td>4.108447</td>\n",
       "    </tr>\n",
       "    <tr>\n",
       "      <th>IDH-M baixo</th>\n",
       "      <td>49411.0</td>\n",
       "      <td>38.542122</td>\n",
       "      <td>19.0</td>\n",
       "      <td>44.0</td>\n",
       "      <td>39.0</td>\n",
       "      <td>1.898318</td>\n",
       "      <td>3.603611</td>\n",
       "    </tr>\n",
       "    <tr>\n",
       "      <th>IDH-M médio</th>\n",
       "      <td>259408.0</td>\n",
       "      <td>38.545022</td>\n",
       "      <td>21.0</td>\n",
       "      <td>45.0</td>\n",
       "      <td>39.0</td>\n",
       "      <td>1.977465</td>\n",
       "      <td>3.910367</td>\n",
       "    </tr>\n",
       "  </tbody>\n",
       "</table>\n",
       "</div>"
      ],
      "text/plain": [
       "            SEMAGESTAC                                                 \\\n",
       "                  soma      média mínimo máximo mediana desvio-padrão   \n",
       "idh_medio                                                               \n",
       "IDH-M alto    613640.0  38.579153   19.0   45.0    39.0      2.026930   \n",
       "IDH-M baixo    49411.0  38.542122   19.0   44.0    39.0      1.898318   \n",
       "IDH-M médio   259408.0  38.545022   21.0   45.0    39.0      1.977465   \n",
       "\n",
       "                       \n",
       "            variância  \n",
       "idh_medio              \n",
       "IDH-M alto   4.108447  \n",
       "IDH-M baixo  3.603611  \n",
       "IDH-M médio  3.910367  "
      ]
     },
     "execution_count": 57,
     "metadata": {},
     "output_type": "execute_result"
    }
   ],
   "source": [
    "# Vamos mostrar o resultado para visualização e análise:\n",
    "resultado_3"
   ]
  },
  {
   "cell_type": "code",
   "execution_count": 58,
   "metadata": {},
   "outputs": [
    {
     "data": {
      "text/html": [
       "<div>\n",
       "<style scoped>\n",
       "    .dataframe tbody tr th:only-of-type {\n",
       "        vertical-align: middle;\n",
       "    }\n",
       "\n",
       "    .dataframe tbody tr th {\n",
       "        vertical-align: top;\n",
       "    }\n",
       "\n",
       "    .dataframe thead th {\n",
       "        text-align: right;\n",
       "    }\n",
       "</style>\n",
       "<table border=\"1\" class=\"dataframe\">\n",
       "  <thead>\n",
       "    <tr style=\"text-align: right;\">\n",
       "      <th></th>\n",
       "      <th>munResNome</th>\n",
       "      <th>CONSPRENAT</th>\n",
       "    </tr>\n",
       "  </thead>\n",
       "  <tbody>\n",
       "    <tr>\n",
       "      <th>0</th>\n",
       "      <td>Alta Floresta D'Oeste</td>\n",
       "      <td>8.0</td>\n",
       "    </tr>\n",
       "    <tr>\n",
       "      <th>1</th>\n",
       "      <td>Alta Floresta D'Oeste</td>\n",
       "      <td>10.0</td>\n",
       "    </tr>\n",
       "    <tr>\n",
       "      <th>2</th>\n",
       "      <td>Alta Floresta D'Oeste</td>\n",
       "      <td>8.0</td>\n",
       "    </tr>\n",
       "    <tr>\n",
       "      <th>3</th>\n",
       "      <td>Alto Alegre dos Parecis</td>\n",
       "      <td>6.0</td>\n",
       "    </tr>\n",
       "    <tr>\n",
       "      <th>4</th>\n",
       "      <td>Alta Floresta D'Oeste</td>\n",
       "      <td>8.0</td>\n",
       "    </tr>\n",
       "  </tbody>\n",
       "</table>\n",
       "</div>"
      ],
      "text/plain": [
       "                munResNome  CONSPRENAT\n",
       "0    Alta Floresta D'Oeste         8.0\n",
       "1    Alta Floresta D'Oeste        10.0\n",
       "2    Alta Floresta D'Oeste         8.0\n",
       "3  Alto Alegre dos Parecis         6.0\n",
       "4    Alta Floresta D'Oeste         8.0"
      ]
     },
     "execution_count": 58,
     "metadata": {},
     "output_type": "execute_result"
    }
   ],
   "source": [
    "# Vamos construir um DataFrame que tenha as colunas dos municípios e da quantidade de semanas de gestação:\n",
    "sinasc_11 = sinasc_raw[['munResNome', 'CONSPRENAT']]\n",
    "\n",
    "# Mostramos o DataFrame para visualização e verificação:\n",
    "sinasc_11.head()"
   ]
  },
  {
   "cell_type": "code",
   "execution_count": 59,
   "metadata": {},
   "outputs": [
    {
     "name": "stderr",
     "output_type": "stream",
     "text": [
      "/tmp/ipykernel_6355/3038862238.py:2: SettingWithCopyWarning: \n",
      "A value is trying to be set on a copy of a slice from a DataFrame.\n",
      "Try using .loc[row_indexer,col_indexer] = value instead\n",
      "\n",
      "See the caveats in the documentation: https://pandas.pydata.org/pandas-docs/stable/user_guide/indexing.html#returning-a-view-versus-a-copy\n",
      "  sinasc_11['idh_medio'] = sinasc_11['munResNome'].map(IDH)\n"
     ]
    },
    {
     "data": {
      "text/html": [
       "<div>\n",
       "<style scoped>\n",
       "    .dataframe tbody tr th:only-of-type {\n",
       "        vertical-align: middle;\n",
       "    }\n",
       "\n",
       "    .dataframe tbody tr th {\n",
       "        vertical-align: top;\n",
       "    }\n",
       "\n",
       "    .dataframe thead th {\n",
       "        text-align: right;\n",
       "    }\n",
       "</style>\n",
       "<table border=\"1\" class=\"dataframe\">\n",
       "  <thead>\n",
       "    <tr style=\"text-align: right;\">\n",
       "      <th></th>\n",
       "      <th>munResNome</th>\n",
       "      <th>CONSPRENAT</th>\n",
       "      <th>idh_medio</th>\n",
       "    </tr>\n",
       "  </thead>\n",
       "  <tbody>\n",
       "    <tr>\n",
       "      <th>0</th>\n",
       "      <td>Alta Floresta D'Oeste</td>\n",
       "      <td>8.0</td>\n",
       "      <td>NaN</td>\n",
       "    </tr>\n",
       "    <tr>\n",
       "      <th>1</th>\n",
       "      <td>Alta Floresta D'Oeste</td>\n",
       "      <td>10.0</td>\n",
       "      <td>NaN</td>\n",
       "    </tr>\n",
       "    <tr>\n",
       "      <th>2</th>\n",
       "      <td>Alta Floresta D'Oeste</td>\n",
       "      <td>8.0</td>\n",
       "      <td>NaN</td>\n",
       "    </tr>\n",
       "    <tr>\n",
       "      <th>3</th>\n",
       "      <td>Alto Alegre dos Parecis</td>\n",
       "      <td>6.0</td>\n",
       "      <td>IDH-M baixo</td>\n",
       "    </tr>\n",
       "    <tr>\n",
       "      <th>4</th>\n",
       "      <td>Alta Floresta D'Oeste</td>\n",
       "      <td>8.0</td>\n",
       "      <td>NaN</td>\n",
       "    </tr>\n",
       "  </tbody>\n",
       "</table>\n",
       "</div>"
      ],
      "text/plain": [
       "                munResNome  CONSPRENAT    idh_medio\n",
       "0    Alta Floresta D'Oeste         8.0          NaN\n",
       "1    Alta Floresta D'Oeste        10.0          NaN\n",
       "2    Alta Floresta D'Oeste         8.0          NaN\n",
       "3  Alto Alegre dos Parecis         6.0  IDH-M baixo\n",
       "4    Alta Floresta D'Oeste         8.0          NaN"
      ]
     },
     "execution_count": 59,
     "metadata": {},
     "output_type": "execute_result"
    }
   ],
   "source": [
    "# Vamos fazer o Mapping deste DataFrame segundo o IDH-Médio:\n",
    "sinasc_11['idh_medio'] = sinasc_11['munResNome'].map(IDH)\n",
    "\n",
    "# Mostramos o DataFrame para visualização e verificação:\n",
    "sinasc_11.head()"
   ]
  },
  {
   "cell_type": "code",
   "execution_count": 60,
   "metadata": {},
   "outputs": [],
   "source": [
    "# Como há linhas com dados faltantes na coluna IDH_M que podem atrapalhar a nossa análise, vamos dropar estas linhas e ficar somente com \n",
    "# aquelas em que os municípios estão com esta classificação:\n",
    "sinasc_11 = sinasc_11.dropna( subset = ['idh_medio'] )"
   ]
  },
  {
   "cell_type": "code",
   "execution_count": 61,
   "metadata": {},
   "outputs": [
    {
     "name": "stdout",
     "output_type": "stream",
     "text": [
      "0\n"
     ]
    }
   ],
   "source": [
    "print(sinasc_11['idh_medio'].isna().sum())"
   ]
  },
  {
   "cell_type": "code",
   "execution_count": 62,
   "metadata": {},
   "outputs": [
    {
     "data": {
      "text/html": [
       "<div>\n",
       "<style scoped>\n",
       "    .dataframe tbody tr th:only-of-type {\n",
       "        vertical-align: middle;\n",
       "    }\n",
       "\n",
       "    .dataframe tbody tr th {\n",
       "        vertical-align: top;\n",
       "    }\n",
       "\n",
       "    .dataframe thead th {\n",
       "        text-align: right;\n",
       "    }\n",
       "</style>\n",
       "<table border=\"1\" class=\"dataframe\">\n",
       "  <thead>\n",
       "    <tr style=\"text-align: right;\">\n",
       "      <th></th>\n",
       "      <th>munResNome</th>\n",
       "      <th>CONSPRENAT</th>\n",
       "      <th>idh_medio</th>\n",
       "    </tr>\n",
       "  </thead>\n",
       "  <tbody>\n",
       "    <tr>\n",
       "      <th>3</th>\n",
       "      <td>Alto Alegre dos Parecis</td>\n",
       "      <td>6.0</td>\n",
       "      <td>IDH-M baixo</td>\n",
       "    </tr>\n",
       "    <tr>\n",
       "      <th>6</th>\n",
       "      <td>Novo Horizonte do Oeste</td>\n",
       "      <td>8.0</td>\n",
       "      <td>IDH-M médio</td>\n",
       "    </tr>\n",
       "    <tr>\n",
       "      <th>21</th>\n",
       "      <td>Rolim de Moura</td>\n",
       "      <td>8.0</td>\n",
       "      <td>IDH-M alto</td>\n",
       "    </tr>\n",
       "    <tr>\n",
       "      <th>23</th>\n",
       "      <td>Alto Alegre dos Parecis</td>\n",
       "      <td>11.0</td>\n",
       "      <td>IDH-M baixo</td>\n",
       "    </tr>\n",
       "    <tr>\n",
       "      <th>24</th>\n",
       "      <td>Alto Alegre dos Parecis</td>\n",
       "      <td>11.0</td>\n",
       "      <td>IDH-M baixo</td>\n",
       "    </tr>\n",
       "  </tbody>\n",
       "</table>\n",
       "</div>"
      ],
      "text/plain": [
       "                 munResNome  CONSPRENAT    idh_medio\n",
       "3   Alto Alegre dos Parecis         6.0  IDH-M baixo\n",
       "6   Novo Horizonte do Oeste         8.0  IDH-M médio\n",
       "21           Rolim de Moura         8.0   IDH-M alto\n",
       "23  Alto Alegre dos Parecis        11.0  IDH-M baixo\n",
       "24  Alto Alegre dos Parecis        11.0  IDH-M baixo"
      ]
     },
     "execution_count": 62,
     "metadata": {},
     "output_type": "execute_result"
    }
   ],
   "source": [
    "# Vamos imprimir para visualizar e verificar os dados:\n",
    "sinasc_11.head()"
   ]
  },
  {
   "cell_type": "code",
   "execution_count": 63,
   "metadata": {},
   "outputs": [
    {
     "data": {
      "text/html": [
       "<div>\n",
       "<style scoped>\n",
       "    .dataframe tbody tr th:only-of-type {\n",
       "        vertical-align: middle;\n",
       "    }\n",
       "\n",
       "    .dataframe tbody tr th {\n",
       "        vertical-align: top;\n",
       "    }\n",
       "\n",
       "    .dataframe thead tr th {\n",
       "        text-align: left;\n",
       "    }\n",
       "\n",
       "    .dataframe thead tr:last-of-type th {\n",
       "        text-align: right;\n",
       "    }\n",
       "</style>\n",
       "<table border=\"1\" class=\"dataframe\">\n",
       "  <thead>\n",
       "    <tr>\n",
       "      <th></th>\n",
       "      <th colspan=\"7\" halign=\"left\">CONSPRENAT</th>\n",
       "    </tr>\n",
       "    <tr>\n",
       "      <th></th>\n",
       "      <th>soma</th>\n",
       "      <th>média</th>\n",
       "      <th>mínimo</th>\n",
       "      <th>máximo</th>\n",
       "      <th>mediana</th>\n",
       "      <th>desvio-padrão</th>\n",
       "      <th>variância</th>\n",
       "    </tr>\n",
       "    <tr>\n",
       "      <th>idh_medio</th>\n",
       "      <th></th>\n",
       "      <th></th>\n",
       "      <th></th>\n",
       "      <th></th>\n",
       "      <th></th>\n",
       "      <th></th>\n",
       "      <th></th>\n",
       "    </tr>\n",
       "  </thead>\n",
       "  <tbody>\n",
       "    <tr>\n",
       "      <th>IDH-M alto</th>\n",
       "      <td>132898.0</td>\n",
       "      <td>8.239692</td>\n",
       "      <td>0.0</td>\n",
       "      <td>99.0</td>\n",
       "      <td>8.0</td>\n",
       "      <td>5.608648</td>\n",
       "      <td>31.456929</td>\n",
       "    </tr>\n",
       "    <tr>\n",
       "      <th>IDH-M baixo</th>\n",
       "      <td>10465.0</td>\n",
       "      <td>8.106119</td>\n",
       "      <td>0.0</td>\n",
       "      <td>99.0</td>\n",
       "      <td>8.0</td>\n",
       "      <td>3.694796</td>\n",
       "      <td>13.651521</td>\n",
       "    </tr>\n",
       "    <tr>\n",
       "      <th>IDH-M médio</th>\n",
       "      <td>56866.0</td>\n",
       "      <td>8.398464</td>\n",
       "      <td>0.0</td>\n",
       "      <td>99.0</td>\n",
       "      <td>8.0</td>\n",
       "      <td>4.630178</td>\n",
       "      <td>21.438544</td>\n",
       "    </tr>\n",
       "  </tbody>\n",
       "</table>\n",
       "</div>"
      ],
      "text/plain": [
       "            CONSPRENAT                                                \\\n",
       "                  soma     média mínimo máximo mediana desvio-padrão   \n",
       "idh_medio                                                              \n",
       "IDH-M alto    132898.0  8.239692    0.0   99.0     8.0      5.608648   \n",
       "IDH-M baixo    10465.0  8.106119    0.0   99.0     8.0      3.694796   \n",
       "IDH-M médio    56866.0  8.398464    0.0   99.0     8.0      4.630178   \n",
       "\n",
       "                        \n",
       "             variância  \n",
       "idh_medio               \n",
       "IDH-M alto   31.456929  \n",
       "IDH-M baixo  13.651521  \n",
       "IDH-M médio  21.438544  "
      ]
     },
     "execution_count": 63,
     "metadata": {},
     "output_type": "execute_result"
    }
   ],
   "source": [
    "# Para finalizar, vamos calcular a idade média das mães pelo número do IDH-Médio:\n",
    "resultado_4 = sinasc_11.groupby('idh_medio').agg({'CONSPRENAT': [('soma','sum'), \n",
    "                                                           ('média','mean'), \n",
    "                                                           ('mínimo','min'), \n",
    "                                                           ('máximo','max'), \n",
    "                                                           ('mediana','median'),\n",
    "                                                           ('desvio-padrão','std'), \n",
    "                                                           ('variância','var')]\n",
    "                                            })\n",
    "\n",
    "# Vamos mostrar o resultado para realizar a nossa análise:\n",
    "resultado_4"
   ]
  },
  {
   "cell_type": "markdown",
   "metadata": {
    "id": "zhtI6CxtlTuH"
   },
   "source": [
    "### 5.2 IFDM\n",
    "B - https://pt.wikipedia.org/wiki/Lista_de_munic%C3%ADpios_de_Rond%C3%B4nia_por_IFDM\n"
   ]
  },
  {
   "cell_type": "code",
   "execution_count": 64,
   "metadata": {
    "id": "1AVkd1M3lTuI"
   },
   "outputs": [],
   "source": [
    "ifdm = {\n",
    "        \"Ariquemes\":\"Desenvolvimento Moderado\",\n",
    "     \t\"Vilhena\":\"Desenvolvimento Moderado\",\n",
    "     \t\"Pimenta Bueno\":\"Desenvolvimento Moderado\",\n",
    "     \t\"Porto Velho\":\"Desenvolvimento Moderado\",\n",
    "     \t\"Ji-Paraná\":\"Desenvolvimento Moderado\",\n",
    "     \t\"Cacoal\":\"Desenvolvimento Moderado\",\n",
    "     \t\"Santa Luzia d'Oeste\":\"Desenvolvimento Moderado\",\n",
    "     \t\"Rolim de Moura\":\"Desenvolvimento Moderado\",\n",
    "     \t\"Chupinguaia\":\"Desenvolvimento Moderado\",\n",
    "        \"São Miguel do Guaporé\":\"Desenvolvimento Moderado\",\n",
    "     \t\"Pimenteiras do Oeste\":\"Desenvolvimento Moderado\",\n",
    "     \t\"Teixeirópolis\":\"Desenvolvimento Moderado\",\n",
    "     \t\"Colorado do Oeste\":\"Desenvolvimento Moderado\",\n",
    "     \t\"Jaru\":\"Desenvolvimento Moderado\",\n",
    "     \t\"Rio Crespo\":\"Desenvolvimento Moderado\",\n",
    "     \t\"Primavera de Rondônia\":\"Desenvolvimento Moderado\",\n",
    "     \t\"Alta Floresta d'Oeste\":\"Desenvolvimento Moderado\",\n",
    "     \t\"Ouro Preto do Oeste\":\"Desenvolvimento Moderado\",\n",
    "     \t\"São Francisco do Guaporé\":\"Desenvolvimento Moderado\",\n",
    "     \t\"Candeias do Jamari\":\"Desenvolvimento Moderado\",\n",
    "        \"Buritis\":\"Desenvolvimento Moderado\",\n",
    "     \t\"São Felipe d'Oeste\":\"Desenvolvimento Moderado\",\n",
    "     \t\"Presidente Médici\":\"Desenvolvimento Moderado\",\n",
    "     \t\"Cerejeiras\":\"Desenvolvimento Moderado\",\n",
    "     \t\"Monte Negro\":\"Desenvolvimento Moderado\",\n",
    "        \"Urupá\":\"Desenvolvimento Moderado\",\n",
    "        \"Espigão d'Oeste\":\"Desenvolvimento Regural\",\n",
    "     \t\"Seringueiras\":\"Desenvolvimento Regural\",\n",
    "     \t\"Alvorada d'Oeste\":\"Desenvolvimento Regural\",\n",
    "        \"Itapuã do Oeste\":\"Desenvolvimento Regural\",\n",
    "     \t\"Cabixi\":\"Desenvolvimento Regural\",\n",
    "     \t\"Novo Horizonte do Oeste\":\"Desenvolvimento Regural\",\n",
    "     \t\"Nova Brasilândia d'Oeste\":\"Desenvolvimento Regural\",\n",
    "     \t\"Vale do Paraíso\":\"Desenvolvimento Regural\",\n",
    "     \t\"Corumbiara\":\"Desenvolvimento Regural\",\n",
    "     \t\"Alto Paraíso\":\"Desenvolvimento Regural\",\n",
    "     \t\"Cacaulândia\":\"Desenvolvimento Regural\",\n",
    "     \t\"Vale do Anari\":\"Desenvolvimento Regural\",\n",
    "     \t\"Ministro Andreazza\":\"Desenvolvimento Regural\",\n",
    "     \t\"Costa Marques\":\"Desenvolvimento Regural\",\n",
    "     \t\"Nova União\":\"Desenvolvimento Regural\",\n",
    "     \t\"Guajará-Mirim\":\"Desenvolvimento Regural\",\n",
    "     \t\"Mirante da Serra\":\"Desenvolvimento Regural\",\n",
    "     \t\"Parecis\":\"Desenvolvimento Regural\",\n",
    "        \"Castanheiras\":\"Desenvolvimento Regural\",\n",
    "     \t\"Theobroma\":\"Desenvolvimento Regural\",\n",
    "     \t\"Machadinho d'Oeste\":\"Desenvolvimento Regural\",\n",
    "     \t\"Campo Novo de Rondônia\":\"Desenvolvimento Regural\",\n",
    "     \t\"Nova Mamoré\":\"Desenvolvimento Regural\",\n",
    "     \t\"Cujubim\":\"Desenvolvimento Regural\",\n",
    "     \t\"Alto Alegre dos Parecis\":\"Desenvolvimento Regural\",\n",
    "     \t\"Governador Jorge Teixeira\" :\"Desenvolvimento Regural\"\n",
    "}"
   ]
  },
  {
   "cell_type": "code",
   "execution_count": 65,
   "metadata": {},
   "outputs": [
    {
     "data": {
      "text/html": [
       "<div>\n",
       "<style scoped>\n",
       "    .dataframe tbody tr th:only-of-type {\n",
       "        vertical-align: middle;\n",
       "    }\n",
       "\n",
       "    .dataframe tbody tr th {\n",
       "        vertical-align: top;\n",
       "    }\n",
       "\n",
       "    .dataframe thead th {\n",
       "        text-align: right;\n",
       "    }\n",
       "</style>\n",
       "<table border=\"1\" class=\"dataframe\">\n",
       "  <thead>\n",
       "    <tr style=\"text-align: right;\">\n",
       "      <th></th>\n",
       "      <th>munResNome</th>\n",
       "      <th>IDADEMAE</th>\n",
       "    </tr>\n",
       "  </thead>\n",
       "  <tbody>\n",
       "    <tr>\n",
       "      <th>0</th>\n",
       "      <td>Alta Floresta D'Oeste</td>\n",
       "      <td>19</td>\n",
       "    </tr>\n",
       "    <tr>\n",
       "      <th>1</th>\n",
       "      <td>Alta Floresta D'Oeste</td>\n",
       "      <td>29</td>\n",
       "    </tr>\n",
       "    <tr>\n",
       "      <th>2</th>\n",
       "      <td>Alta Floresta D'Oeste</td>\n",
       "      <td>37</td>\n",
       "    </tr>\n",
       "    <tr>\n",
       "      <th>3</th>\n",
       "      <td>Alto Alegre dos Parecis</td>\n",
       "      <td>30</td>\n",
       "    </tr>\n",
       "    <tr>\n",
       "      <th>4</th>\n",
       "      <td>Alta Floresta D'Oeste</td>\n",
       "      <td>30</td>\n",
       "    </tr>\n",
       "  </tbody>\n",
       "</table>\n",
       "</div>"
      ],
      "text/plain": [
       "                munResNome  IDADEMAE\n",
       "0    Alta Floresta D'Oeste        19\n",
       "1    Alta Floresta D'Oeste        29\n",
       "2    Alta Floresta D'Oeste        37\n",
       "3  Alto Alegre dos Parecis        30\n",
       "4    Alta Floresta D'Oeste        30"
      ]
     },
     "execution_count": 65,
     "metadata": {},
     "output_type": "execute_result"
    }
   ],
   "source": [
    "# Vamos construir um DataFrame que tenha as colunas dos municípios e a idade das mães:\n",
    "sinasc_12 = sinasc_raw[['munResNome', 'IDADEMAE']]\n",
    "\n",
    "# Mostramos o DataFrame para visualização e verificação:\n",
    "sinasc_12.head()"
   ]
  },
  {
   "cell_type": "code",
   "execution_count": 66,
   "metadata": {},
   "outputs": [
    {
     "name": "stderr",
     "output_type": "stream",
     "text": [
      "/tmp/ipykernel_6355/2083591762.py:2: SettingWithCopyWarning: \n",
      "A value is trying to be set on a copy of a slice from a DataFrame.\n",
      "Try using .loc[row_indexer,col_indexer] = value instead\n",
      "\n",
      "See the caveats in the documentation: https://pandas.pydata.org/pandas-docs/stable/user_guide/indexing.html#returning-a-view-versus-a-copy\n",
      "  sinasc_12['ifdm'] = sinasc_12['munResNome'].map(ifdm)\n"
     ]
    }
   ],
   "source": [
    "# Nesta linha de código vamos aplicar o mapping acima, ou seja, o 'ifdm':\n",
    "sinasc_12['ifdm'] = sinasc_12['munResNome'].map(ifdm)"
   ]
  },
  {
   "cell_type": "code",
   "execution_count": 67,
   "metadata": {},
   "outputs": [
    {
     "data": {
      "text/html": [
       "<div>\n",
       "<style scoped>\n",
       "    .dataframe tbody tr th:only-of-type {\n",
       "        vertical-align: middle;\n",
       "    }\n",
       "\n",
       "    .dataframe tbody tr th {\n",
       "        vertical-align: top;\n",
       "    }\n",
       "\n",
       "    .dataframe thead th {\n",
       "        text-align: right;\n",
       "    }\n",
       "</style>\n",
       "<table border=\"1\" class=\"dataframe\">\n",
       "  <thead>\n",
       "    <tr style=\"text-align: right;\">\n",
       "      <th></th>\n",
       "      <th>munResNome</th>\n",
       "      <th>IDADEMAE</th>\n",
       "      <th>ifdm</th>\n",
       "    </tr>\n",
       "  </thead>\n",
       "  <tbody>\n",
       "    <tr>\n",
       "      <th>0</th>\n",
       "      <td>Alta Floresta D'Oeste</td>\n",
       "      <td>19</td>\n",
       "      <td>NaN</td>\n",
       "    </tr>\n",
       "    <tr>\n",
       "      <th>1</th>\n",
       "      <td>Alta Floresta D'Oeste</td>\n",
       "      <td>29</td>\n",
       "      <td>NaN</td>\n",
       "    </tr>\n",
       "    <tr>\n",
       "      <th>2</th>\n",
       "      <td>Alta Floresta D'Oeste</td>\n",
       "      <td>37</td>\n",
       "      <td>NaN</td>\n",
       "    </tr>\n",
       "    <tr>\n",
       "      <th>3</th>\n",
       "      <td>Alto Alegre dos Parecis</td>\n",
       "      <td>30</td>\n",
       "      <td>Desenvolvimento Regural</td>\n",
       "    </tr>\n",
       "    <tr>\n",
       "      <th>4</th>\n",
       "      <td>Alta Floresta D'Oeste</td>\n",
       "      <td>30</td>\n",
       "      <td>NaN</td>\n",
       "    </tr>\n",
       "  </tbody>\n",
       "</table>\n",
       "</div>"
      ],
      "text/plain": [
       "                munResNome  IDADEMAE                     ifdm\n",
       "0    Alta Floresta D'Oeste        19                      NaN\n",
       "1    Alta Floresta D'Oeste        29                      NaN\n",
       "2    Alta Floresta D'Oeste        37                      NaN\n",
       "3  Alto Alegre dos Parecis        30  Desenvolvimento Regural\n",
       "4    Alta Floresta D'Oeste        30                      NaN"
      ]
     },
     "execution_count": 67,
     "metadata": {},
     "output_type": "execute_result"
    }
   ],
   "source": [
    "# Mostramos o DataFrame para visualização e verificação:\n",
    "sinasc_12.head()"
   ]
  },
  {
   "cell_type": "code",
   "execution_count": 68,
   "metadata": {},
   "outputs": [],
   "source": [
    "# Como há linhas com dados faltantes na coluna IDH_M que podem atrapalhar a nossa análise, vamos dropar estas linhas e ficar somente com \n",
    "# aquelas em que os municípios estão com esta classificação:\n",
    "sinasc_12 = sinasc_12.dropna( subset = ['ifdm'] )"
   ]
  },
  {
   "cell_type": "code",
   "execution_count": 69,
   "metadata": {},
   "outputs": [
    {
     "name": "stdout",
     "output_type": "stream",
     "text": [
      "0\n"
     ]
    }
   ],
   "source": [
    "print(sinasc_12['ifdm'].isna().sum())"
   ]
  },
  {
   "cell_type": "code",
   "execution_count": 70,
   "metadata": {},
   "outputs": [
    {
     "data": {
      "text/html": [
       "<div>\n",
       "<style scoped>\n",
       "    .dataframe tbody tr th:only-of-type {\n",
       "        vertical-align: middle;\n",
       "    }\n",
       "\n",
       "    .dataframe tbody tr th {\n",
       "        vertical-align: top;\n",
       "    }\n",
       "\n",
       "    .dataframe thead th {\n",
       "        text-align: right;\n",
       "    }\n",
       "</style>\n",
       "<table border=\"1\" class=\"dataframe\">\n",
       "  <thead>\n",
       "    <tr style=\"text-align: right;\">\n",
       "      <th></th>\n",
       "      <th>munResNome</th>\n",
       "      <th>IDADEMAE</th>\n",
       "      <th>ifdm</th>\n",
       "    </tr>\n",
       "  </thead>\n",
       "  <tbody>\n",
       "    <tr>\n",
       "      <th>3</th>\n",
       "      <td>Alto Alegre dos Parecis</td>\n",
       "      <td>30</td>\n",
       "      <td>Desenvolvimento Regural</td>\n",
       "    </tr>\n",
       "    <tr>\n",
       "      <th>6</th>\n",
       "      <td>Novo Horizonte do Oeste</td>\n",
       "      <td>37</td>\n",
       "      <td>Desenvolvimento Regural</td>\n",
       "    </tr>\n",
       "    <tr>\n",
       "      <th>21</th>\n",
       "      <td>Rolim de Moura</td>\n",
       "      <td>31</td>\n",
       "      <td>Desenvolvimento Moderado</td>\n",
       "    </tr>\n",
       "    <tr>\n",
       "      <th>23</th>\n",
       "      <td>Alto Alegre dos Parecis</td>\n",
       "      <td>26</td>\n",
       "      <td>Desenvolvimento Regural</td>\n",
       "    </tr>\n",
       "    <tr>\n",
       "      <th>24</th>\n",
       "      <td>Alto Alegre dos Parecis</td>\n",
       "      <td>26</td>\n",
       "      <td>Desenvolvimento Regural</td>\n",
       "    </tr>\n",
       "  </tbody>\n",
       "</table>\n",
       "</div>"
      ],
      "text/plain": [
       "                 munResNome  IDADEMAE                      ifdm\n",
       "3   Alto Alegre dos Parecis        30   Desenvolvimento Regural\n",
       "6   Novo Horizonte do Oeste        37   Desenvolvimento Regural\n",
       "21           Rolim de Moura        31  Desenvolvimento Moderado\n",
       "23  Alto Alegre dos Parecis        26   Desenvolvimento Regural\n",
       "24  Alto Alegre dos Parecis        26   Desenvolvimento Regural"
      ]
     },
     "execution_count": 70,
     "metadata": {},
     "output_type": "execute_result"
    }
   ],
   "source": [
    "# Vamos imprimir para visualizar e verificar os dados:\n",
    "sinasc_12.head()"
   ]
  },
  {
   "cell_type": "code",
   "execution_count": 71,
   "metadata": {},
   "outputs": [
    {
     "data": {
      "text/html": [
       "<div>\n",
       "<style scoped>\n",
       "    .dataframe tbody tr th:only-of-type {\n",
       "        vertical-align: middle;\n",
       "    }\n",
       "\n",
       "    .dataframe tbody tr th {\n",
       "        vertical-align: top;\n",
       "    }\n",
       "\n",
       "    .dataframe thead tr th {\n",
       "        text-align: left;\n",
       "    }\n",
       "\n",
       "    .dataframe thead tr:last-of-type th {\n",
       "        text-align: right;\n",
       "    }\n",
       "</style>\n",
       "<table border=\"1\" class=\"dataframe\">\n",
       "  <thead>\n",
       "    <tr>\n",
       "      <th></th>\n",
       "      <th colspan=\"7\" halign=\"left\">IDADEMAE</th>\n",
       "    </tr>\n",
       "    <tr>\n",
       "      <th></th>\n",
       "      <th>soma</th>\n",
       "      <th>média</th>\n",
       "      <th>mínimo</th>\n",
       "      <th>máximo</th>\n",
       "      <th>mediana</th>\n",
       "      <th>desvio-padrão</th>\n",
       "      <th>variância</th>\n",
       "    </tr>\n",
       "    <tr>\n",
       "      <th>ifdm</th>\n",
       "      <th></th>\n",
       "      <th></th>\n",
       "      <th></th>\n",
       "      <th></th>\n",
       "      <th></th>\n",
       "      <th></th>\n",
       "      <th></th>\n",
       "    </tr>\n",
       "  </thead>\n",
       "  <tbody>\n",
       "    <tr>\n",
       "      <th>Desenvolvimento Moderado</th>\n",
       "      <td>561938</td>\n",
       "      <td>26.226921</td>\n",
       "      <td>12</td>\n",
       "      <td>53</td>\n",
       "      <td>26.0</td>\n",
       "      <td>6.388564</td>\n",
       "      <td>40.813756</td>\n",
       "    </tr>\n",
       "    <tr>\n",
       "      <th>Desenvolvimento Regural</th>\n",
       "      <td>93135</td>\n",
       "      <td>25.412005</td>\n",
       "      <td>11</td>\n",
       "      <td>52</td>\n",
       "      <td>25.0</td>\n",
       "      <td>6.376854</td>\n",
       "      <td>40.664266</td>\n",
       "    </tr>\n",
       "  </tbody>\n",
       "</table>\n",
       "</div>"
      ],
      "text/plain": [
       "                         IDADEMAE                                   \\\n",
       "                             soma      média mínimo máximo mediana   \n",
       "ifdm                                                                 \n",
       "Desenvolvimento Moderado   561938  26.226921     12     53    26.0   \n",
       "Desenvolvimento Regural     93135  25.412005     11     52    25.0   \n",
       "\n",
       "                                                   \n",
       "                         desvio-padrão  variância  \n",
       "ifdm                                               \n",
       "Desenvolvimento Moderado      6.388564  40.813756  \n",
       "Desenvolvimento Regural       6.376854  40.664266  "
      ]
     },
     "execution_count": 71,
     "metadata": {},
     "output_type": "execute_result"
    }
   ],
   "source": [
    "# Para finalizar, vamos calcular a idade média das mães pelo número do IDH-Médio:\n",
    "resultado_5 = sinasc_12.groupby('ifdm').agg({'IDADEMAE': [('soma','sum'), \n",
    "                                                          ('média','mean'), \n",
    "                                                          ('mínimo','min'), \n",
    "                                                          ('máximo','max'), \n",
    "                                                          ('mediana','median'),\n",
    "                                                          ('desvio-padrão','std'), \n",
    "                                                          ('variância','var')]\n",
    "                                            })\n",
    "\n",
    "# Vamos mostrar o resultado para realizar a nossa análise:\n",
    "resultado_5"
   ]
  },
  {
   "cell_type": "code",
   "execution_count": 72,
   "metadata": {},
   "outputs": [
    {
     "data": {
      "text/html": [
       "<div>\n",
       "<style scoped>\n",
       "    .dataframe tbody tr th:only-of-type {\n",
       "        vertical-align: middle;\n",
       "    }\n",
       "\n",
       "    .dataframe tbody tr th {\n",
       "        vertical-align: top;\n",
       "    }\n",
       "\n",
       "    .dataframe thead th {\n",
       "        text-align: right;\n",
       "    }\n",
       "</style>\n",
       "<table border=\"1\" class=\"dataframe\">\n",
       "  <thead>\n",
       "    <tr style=\"text-align: right;\">\n",
       "      <th></th>\n",
       "      <th>munResNome</th>\n",
       "      <th>IDADEPAI</th>\n",
       "    </tr>\n",
       "  </thead>\n",
       "  <tbody>\n",
       "    <tr>\n",
       "      <th>0</th>\n",
       "      <td>Alta Floresta D'Oeste</td>\n",
       "      <td>26.0</td>\n",
       "    </tr>\n",
       "    <tr>\n",
       "      <th>1</th>\n",
       "      <td>Alta Floresta D'Oeste</td>\n",
       "      <td>24.0</td>\n",
       "    </tr>\n",
       "    <tr>\n",
       "      <th>2</th>\n",
       "      <td>Alta Floresta D'Oeste</td>\n",
       "      <td>32.0</td>\n",
       "    </tr>\n",
       "    <tr>\n",
       "      <th>3</th>\n",
       "      <td>Alto Alegre dos Parecis</td>\n",
       "      <td>24.0</td>\n",
       "    </tr>\n",
       "    <tr>\n",
       "      <th>4</th>\n",
       "      <td>Alta Floresta D'Oeste</td>\n",
       "      <td>27.0</td>\n",
       "    </tr>\n",
       "  </tbody>\n",
       "</table>\n",
       "</div>"
      ],
      "text/plain": [
       "                munResNome  IDADEPAI\n",
       "0    Alta Floresta D'Oeste      26.0\n",
       "1    Alta Floresta D'Oeste      24.0\n",
       "2    Alta Floresta D'Oeste      32.0\n",
       "3  Alto Alegre dos Parecis      24.0\n",
       "4    Alta Floresta D'Oeste      27.0"
      ]
     },
     "execution_count": 72,
     "metadata": {},
     "output_type": "execute_result"
    }
   ],
   "source": [
    "# Vamos construir um DataFrame que tenha as colunas dos municípios e a idade das mães:\n",
    "sinasc_13 = sinasc_raw[['munResNome', 'IDADEPAI']]\n",
    "\n",
    "# Mostramos o DataFrame para visualização e verificação:\n",
    "sinasc_13.head()"
   ]
  },
  {
   "cell_type": "code",
   "execution_count": 73,
   "metadata": {},
   "outputs": [
    {
     "name": "stderr",
     "output_type": "stream",
     "text": [
      "/tmp/ipykernel_6355/762032700.py:2: SettingWithCopyWarning: \n",
      "A value is trying to be set on a copy of a slice from a DataFrame.\n",
      "Try using .loc[row_indexer,col_indexer] = value instead\n",
      "\n",
      "See the caveats in the documentation: https://pandas.pydata.org/pandas-docs/stable/user_guide/indexing.html#returning-a-view-versus-a-copy\n",
      "  sinasc_13['ifdm'] = sinasc_13['munResNome'].map(ifdm)\n"
     ]
    }
   ],
   "source": [
    "# Nesta linha de código vamos aplicar o mapping acima, ou seja, o 'ifdm':\n",
    "sinasc_13['ifdm'] = sinasc_13['munResNome'].map(ifdm)"
   ]
  },
  {
   "cell_type": "code",
   "execution_count": 74,
   "metadata": {},
   "outputs": [
    {
     "data": {
      "text/html": [
       "<div>\n",
       "<style scoped>\n",
       "    .dataframe tbody tr th:only-of-type {\n",
       "        vertical-align: middle;\n",
       "    }\n",
       "\n",
       "    .dataframe tbody tr th {\n",
       "        vertical-align: top;\n",
       "    }\n",
       "\n",
       "    .dataframe thead th {\n",
       "        text-align: right;\n",
       "    }\n",
       "</style>\n",
       "<table border=\"1\" class=\"dataframe\">\n",
       "  <thead>\n",
       "    <tr style=\"text-align: right;\">\n",
       "      <th></th>\n",
       "      <th>munResNome</th>\n",
       "      <th>IDADEPAI</th>\n",
       "      <th>ifdm</th>\n",
       "    </tr>\n",
       "  </thead>\n",
       "  <tbody>\n",
       "    <tr>\n",
       "      <th>0</th>\n",
       "      <td>Alta Floresta D'Oeste</td>\n",
       "      <td>26.0</td>\n",
       "      <td>NaN</td>\n",
       "    </tr>\n",
       "    <tr>\n",
       "      <th>1</th>\n",
       "      <td>Alta Floresta D'Oeste</td>\n",
       "      <td>24.0</td>\n",
       "      <td>NaN</td>\n",
       "    </tr>\n",
       "    <tr>\n",
       "      <th>2</th>\n",
       "      <td>Alta Floresta D'Oeste</td>\n",
       "      <td>32.0</td>\n",
       "      <td>NaN</td>\n",
       "    </tr>\n",
       "    <tr>\n",
       "      <th>3</th>\n",
       "      <td>Alto Alegre dos Parecis</td>\n",
       "      <td>24.0</td>\n",
       "      <td>Desenvolvimento Regural</td>\n",
       "    </tr>\n",
       "    <tr>\n",
       "      <th>4</th>\n",
       "      <td>Alta Floresta D'Oeste</td>\n",
       "      <td>27.0</td>\n",
       "      <td>NaN</td>\n",
       "    </tr>\n",
       "  </tbody>\n",
       "</table>\n",
       "</div>"
      ],
      "text/plain": [
       "                munResNome  IDADEPAI                     ifdm\n",
       "0    Alta Floresta D'Oeste      26.0                      NaN\n",
       "1    Alta Floresta D'Oeste      24.0                      NaN\n",
       "2    Alta Floresta D'Oeste      32.0                      NaN\n",
       "3  Alto Alegre dos Parecis      24.0  Desenvolvimento Regural\n",
       "4    Alta Floresta D'Oeste      27.0                      NaN"
      ]
     },
     "execution_count": 74,
     "metadata": {},
     "output_type": "execute_result"
    }
   ],
   "source": [
    "# Mostramos o DataFrame para visualização e verificação:\n",
    "sinasc_13.head()"
   ]
  },
  {
   "cell_type": "code",
   "execution_count": 75,
   "metadata": {},
   "outputs": [],
   "source": [
    "# Como há linhas com dados faltantes na coluna IDH_M que podem atrapalhar a nossa análise, vamos dropar estas linhas e ficar somente com \n",
    "# aquelas em que os municípios estão com esta classificação:\n",
    "sinasc_13 = sinasc_13.dropna( subset = ['ifdm'] )"
   ]
  },
  {
   "cell_type": "code",
   "execution_count": 76,
   "metadata": {},
   "outputs": [
    {
     "name": "stdout",
     "output_type": "stream",
     "text": [
      "0\n"
     ]
    }
   ],
   "source": [
    "print(sinasc_13['ifdm'].isna().sum())"
   ]
  },
  {
   "cell_type": "code",
   "execution_count": 77,
   "metadata": {},
   "outputs": [
    {
     "data": {
      "text/html": [
       "<div>\n",
       "<style scoped>\n",
       "    .dataframe tbody tr th:only-of-type {\n",
       "        vertical-align: middle;\n",
       "    }\n",
       "\n",
       "    .dataframe tbody tr th {\n",
       "        vertical-align: top;\n",
       "    }\n",
       "\n",
       "    .dataframe thead th {\n",
       "        text-align: right;\n",
       "    }\n",
       "</style>\n",
       "<table border=\"1\" class=\"dataframe\">\n",
       "  <thead>\n",
       "    <tr style=\"text-align: right;\">\n",
       "      <th></th>\n",
       "      <th>munResNome</th>\n",
       "      <th>IDADEPAI</th>\n",
       "      <th>ifdm</th>\n",
       "    </tr>\n",
       "  </thead>\n",
       "  <tbody>\n",
       "    <tr>\n",
       "      <th>3</th>\n",
       "      <td>Alto Alegre dos Parecis</td>\n",
       "      <td>24.0</td>\n",
       "      <td>Desenvolvimento Regural</td>\n",
       "    </tr>\n",
       "    <tr>\n",
       "      <th>6</th>\n",
       "      <td>Novo Horizonte do Oeste</td>\n",
       "      <td>42.0</td>\n",
       "      <td>Desenvolvimento Regural</td>\n",
       "    </tr>\n",
       "    <tr>\n",
       "      <th>21</th>\n",
       "      <td>Rolim de Moura</td>\n",
       "      <td>37.0</td>\n",
       "      <td>Desenvolvimento Moderado</td>\n",
       "    </tr>\n",
       "    <tr>\n",
       "      <th>23</th>\n",
       "      <td>Alto Alegre dos Parecis</td>\n",
       "      <td>43.0</td>\n",
       "      <td>Desenvolvimento Regural</td>\n",
       "    </tr>\n",
       "    <tr>\n",
       "      <th>24</th>\n",
       "      <td>Alto Alegre dos Parecis</td>\n",
       "      <td>43.0</td>\n",
       "      <td>Desenvolvimento Regural</td>\n",
       "    </tr>\n",
       "  </tbody>\n",
       "</table>\n",
       "</div>"
      ],
      "text/plain": [
       "                 munResNome  IDADEPAI                      ifdm\n",
       "3   Alto Alegre dos Parecis      24.0   Desenvolvimento Regural\n",
       "6   Novo Horizonte do Oeste      42.0   Desenvolvimento Regural\n",
       "21           Rolim de Moura      37.0  Desenvolvimento Moderado\n",
       "23  Alto Alegre dos Parecis      43.0   Desenvolvimento Regural\n",
       "24  Alto Alegre dos Parecis      43.0   Desenvolvimento Regural"
      ]
     },
     "execution_count": 77,
     "metadata": {},
     "output_type": "execute_result"
    }
   ],
   "source": [
    "# Vamos imprimir para visualizar e verificar os dados:\n",
    "sinasc_13.head()"
   ]
  },
  {
   "cell_type": "code",
   "execution_count": 78,
   "metadata": {},
   "outputs": [
    {
     "data": {
      "text/html": [
       "<div>\n",
       "<style scoped>\n",
       "    .dataframe tbody tr th:only-of-type {\n",
       "        vertical-align: middle;\n",
       "    }\n",
       "\n",
       "    .dataframe tbody tr th {\n",
       "        vertical-align: top;\n",
       "    }\n",
       "\n",
       "    .dataframe thead tr th {\n",
       "        text-align: left;\n",
       "    }\n",
       "\n",
       "    .dataframe thead tr:last-of-type th {\n",
       "        text-align: right;\n",
       "    }\n",
       "</style>\n",
       "<table border=\"1\" class=\"dataframe\">\n",
       "  <thead>\n",
       "    <tr>\n",
       "      <th></th>\n",
       "      <th colspan=\"7\" halign=\"left\">IDADEPAI</th>\n",
       "    </tr>\n",
       "    <tr>\n",
       "      <th></th>\n",
       "      <th>soma</th>\n",
       "      <th>média</th>\n",
       "      <th>mínimo</th>\n",
       "      <th>máximo</th>\n",
       "      <th>mediana</th>\n",
       "      <th>desvio-padrão</th>\n",
       "      <th>variância</th>\n",
       "    </tr>\n",
       "    <tr>\n",
       "      <th>ifdm</th>\n",
       "      <th></th>\n",
       "      <th></th>\n",
       "      <th></th>\n",
       "      <th></th>\n",
       "      <th></th>\n",
       "      <th></th>\n",
       "      <th></th>\n",
       "    </tr>\n",
       "  </thead>\n",
       "  <tbody>\n",
       "    <tr>\n",
       "      <th>Desenvolvimento Moderado</th>\n",
       "      <td>179957.0</td>\n",
       "      <td>31.145206</td>\n",
       "      <td>15.0</td>\n",
       "      <td>70.0</td>\n",
       "      <td>30.0</td>\n",
       "      <td>7.741017</td>\n",
       "      <td>59.923346</td>\n",
       "    </tr>\n",
       "    <tr>\n",
       "      <th>Desenvolvimento Regural</th>\n",
       "      <td>25327.0</td>\n",
       "      <td>31.345297</td>\n",
       "      <td>16.0</td>\n",
       "      <td>73.0</td>\n",
       "      <td>30.0</td>\n",
       "      <td>7.975385</td>\n",
       "      <td>63.606768</td>\n",
       "    </tr>\n",
       "  </tbody>\n",
       "</table>\n",
       "</div>"
      ],
      "text/plain": [
       "                          IDADEPAI                                   \\\n",
       "                              soma      média mínimo máximo mediana   \n",
       "ifdm                                                                  \n",
       "Desenvolvimento Moderado  179957.0  31.145206   15.0   70.0    30.0   \n",
       "Desenvolvimento Regural    25327.0  31.345297   16.0   73.0    30.0   \n",
       "\n",
       "                                                   \n",
       "                         desvio-padrão  variância  \n",
       "ifdm                                               \n",
       "Desenvolvimento Moderado      7.741017  59.923346  \n",
       "Desenvolvimento Regural       7.975385  63.606768  "
      ]
     },
     "execution_count": 78,
     "metadata": {},
     "output_type": "execute_result"
    }
   ],
   "source": [
    "# Para finalizar, vamos calcular a idade média das mães pelo número do IDH-Médio:\n",
    "resultado_6 = sinasc_13.groupby('ifdm').agg({'IDADEPAI': [('soma','sum'), \n",
    "                                                          ('média','mean'), \n",
    "                                                          ('mínimo','min'), \n",
    "                                                          ('máximo','max'), \n",
    "                                                          ('mediana','median'),\n",
    "                                                          ('desvio-padrão','std'), \n",
    "                                                          ('variância','var')]\n",
    "                                            })\n",
    "\n",
    "# Vamos mostrar o resultado para realizar a nossa análise:\n",
    "resultado_6"
   ]
  },
  {
   "cell_type": "code",
   "execution_count": 89,
   "metadata": {},
   "outputs": [
    {
     "data": {
      "text/html": [
       "<div>\n",
       "<style scoped>\n",
       "    .dataframe tbody tr th:only-of-type {\n",
       "        vertical-align: middle;\n",
       "    }\n",
       "\n",
       "    .dataframe tbody tr th {\n",
       "        vertical-align: top;\n",
       "    }\n",
       "\n",
       "    .dataframe thead th {\n",
       "        text-align: right;\n",
       "    }\n",
       "</style>\n",
       "<table border=\"1\" class=\"dataframe\">\n",
       "  <thead>\n",
       "    <tr style=\"text-align: right;\">\n",
       "      <th></th>\n",
       "      <th>munResNome</th>\n",
       "      <th>SEMAGESTAC</th>\n",
       "    </tr>\n",
       "  </thead>\n",
       "  <tbody>\n",
       "    <tr>\n",
       "      <th>0</th>\n",
       "      <td>Alta Floresta D'Oeste</td>\n",
       "      <td>39.0</td>\n",
       "    </tr>\n",
       "    <tr>\n",
       "      <th>1</th>\n",
       "      <td>Alta Floresta D'Oeste</td>\n",
       "      <td>38.0</td>\n",
       "    </tr>\n",
       "    <tr>\n",
       "      <th>2</th>\n",
       "      <td>Alta Floresta D'Oeste</td>\n",
       "      <td>40.0</td>\n",
       "    </tr>\n",
       "    <tr>\n",
       "      <th>3</th>\n",
       "      <td>Alto Alegre dos Parecis</td>\n",
       "      <td>38.0</td>\n",
       "    </tr>\n",
       "    <tr>\n",
       "      <th>4</th>\n",
       "      <td>Alta Floresta D'Oeste</td>\n",
       "      <td>38.0</td>\n",
       "    </tr>\n",
       "  </tbody>\n",
       "</table>\n",
       "</div>"
      ],
      "text/plain": [
       "                munResNome  SEMAGESTAC\n",
       "0    Alta Floresta D'Oeste        39.0\n",
       "1    Alta Floresta D'Oeste        38.0\n",
       "2    Alta Floresta D'Oeste        40.0\n",
       "3  Alto Alegre dos Parecis        38.0\n",
       "4    Alta Floresta D'Oeste        38.0"
      ]
     },
     "execution_count": 89,
     "metadata": {},
     "output_type": "execute_result"
    }
   ],
   "source": [
    "# Vamos construir um DataFrame que tenha as colunas dos municípios e da quantidade de semanas de gestação:\n",
    "sinasc_14 = sinasc_raw[['munResNome', 'SEMAGESTAC']]\n",
    "\n",
    "# Mostramos o DataFrame para visualização e verificação:\n",
    "sinasc_14.head()"
   ]
  },
  {
   "cell_type": "code",
   "execution_count": 90,
   "metadata": {},
   "outputs": [
    {
     "name": "stderr",
     "output_type": "stream",
     "text": [
      "/tmp/ipykernel_6355/294165324.py:2: SettingWithCopyWarning: \n",
      "A value is trying to be set on a copy of a slice from a DataFrame.\n",
      "Try using .loc[row_indexer,col_indexer] = value instead\n",
      "\n",
      "See the caveats in the documentation: https://pandas.pydata.org/pandas-docs/stable/user_guide/indexing.html#returning-a-view-versus-a-copy\n",
      "  sinasc_14['ifdm'] = sinasc_14['munResNome'].map(ifdm)\n"
     ]
    }
   ],
   "source": [
    "# Nesta linha de código vamos aplicar o mapping acima, ou seja, o 'ifdm':\n",
    "sinasc_14['ifdm'] = sinasc_14['munResNome'].map(ifdm)"
   ]
  },
  {
   "cell_type": "code",
   "execution_count": 91,
   "metadata": {},
   "outputs": [
    {
     "data": {
      "text/html": [
       "<div>\n",
       "<style scoped>\n",
       "    .dataframe tbody tr th:only-of-type {\n",
       "        vertical-align: middle;\n",
       "    }\n",
       "\n",
       "    .dataframe tbody tr th {\n",
       "        vertical-align: top;\n",
       "    }\n",
       "\n",
       "    .dataframe thead th {\n",
       "        text-align: right;\n",
       "    }\n",
       "</style>\n",
       "<table border=\"1\" class=\"dataframe\">\n",
       "  <thead>\n",
       "    <tr style=\"text-align: right;\">\n",
       "      <th></th>\n",
       "      <th>munResNome</th>\n",
       "      <th>SEMAGESTAC</th>\n",
       "      <th>ifdm</th>\n",
       "    </tr>\n",
       "  </thead>\n",
       "  <tbody>\n",
       "    <tr>\n",
       "      <th>0</th>\n",
       "      <td>Alta Floresta D'Oeste</td>\n",
       "      <td>39.0</td>\n",
       "      <td>NaN</td>\n",
       "    </tr>\n",
       "    <tr>\n",
       "      <th>1</th>\n",
       "      <td>Alta Floresta D'Oeste</td>\n",
       "      <td>38.0</td>\n",
       "      <td>NaN</td>\n",
       "    </tr>\n",
       "    <tr>\n",
       "      <th>2</th>\n",
       "      <td>Alta Floresta D'Oeste</td>\n",
       "      <td>40.0</td>\n",
       "      <td>NaN</td>\n",
       "    </tr>\n",
       "    <tr>\n",
       "      <th>3</th>\n",
       "      <td>Alto Alegre dos Parecis</td>\n",
       "      <td>38.0</td>\n",
       "      <td>Desenvolvimento Regural</td>\n",
       "    </tr>\n",
       "    <tr>\n",
       "      <th>4</th>\n",
       "      <td>Alta Floresta D'Oeste</td>\n",
       "      <td>38.0</td>\n",
       "      <td>NaN</td>\n",
       "    </tr>\n",
       "  </tbody>\n",
       "</table>\n",
       "</div>"
      ],
      "text/plain": [
       "                munResNome  SEMAGESTAC                     ifdm\n",
       "0    Alta Floresta D'Oeste        39.0                      NaN\n",
       "1    Alta Floresta D'Oeste        38.0                      NaN\n",
       "2    Alta Floresta D'Oeste        40.0                      NaN\n",
       "3  Alto Alegre dos Parecis        38.0  Desenvolvimento Regural\n",
       "4    Alta Floresta D'Oeste        38.0                      NaN"
      ]
     },
     "execution_count": 91,
     "metadata": {},
     "output_type": "execute_result"
    }
   ],
   "source": [
    "# Mostramos o DataFrame para visualização e verificação:\n",
    "sinasc_14.head()"
   ]
  },
  {
   "cell_type": "markdown",
   "metadata": {},
   "source": [
    "### Como existem linhas com dados inexistentes, teremos que fazer uma análise para saber se ao retirar estas linhas é possível ou não termos uma análise comprometida:"
   ]
  },
  {
   "cell_type": "code",
   "execution_count": 92,
   "metadata": {},
   "outputs": [
    {
     "data": {
      "text/plain": [
       "1937"
      ]
     },
     "execution_count": 92,
     "metadata": {},
     "output_type": "execute_result"
    }
   ],
   "source": [
    "sinasc_14['ifdm'].isna().sum()"
   ]
  },
  {
   "cell_type": "code",
   "execution_count": 94,
   "metadata": {},
   "outputs": [
    {
     "data": {
      "text/plain": [
       "27028"
      ]
     },
     "execution_count": 94,
     "metadata": {},
     "output_type": "execute_result"
    }
   ],
   "source": [
    "sinasc_14.shape[0]"
   ]
  },
  {
   "cell_type": "code",
   "execution_count": 95,
   "metadata": {},
   "outputs": [
    {
     "data": {
      "text/plain": [
       "7.166642000887968"
      ]
     },
     "execution_count": 95,
     "metadata": {},
     "output_type": "execute_result"
    }
   ],
   "source": [
    "((sinasc_14['ifdm'].isna().sum())/(sinasc_14.shape[0]))*100"
   ]
  },
  {
   "cell_type": "markdown",
   "metadata": {},
   "source": [
    "### Foi removido aproximadamente 7% das linhas por conterem dados faltantes. Como a perda é pequena e os dados removidos estão distribuídos de forma aleatória, consideramos que a análise não será comprometida."
   ]
  },
  {
   "cell_type": "code",
   "execution_count": 96,
   "metadata": {},
   "outputs": [],
   "source": [
    "# Como há linhas com dados faltantes na coluna IDH_M que podem atrapalhar a nossa análise, vamos dropar estas linhas e ficar somente com \n",
    "# aquelas em que os municípios estão com esta classificação:\n",
    "sinasc_14 = sinasc_14.dropna( subset = ['ifdm'] )"
   ]
  },
  {
   "cell_type": "code",
   "execution_count": 97,
   "metadata": {},
   "outputs": [
    {
     "name": "stdout",
     "output_type": "stream",
     "text": [
      "0\n"
     ]
    }
   ],
   "source": [
    "print(sinasc_14['ifdm'].isna().sum())"
   ]
  },
  {
   "cell_type": "code",
   "execution_count": 98,
   "metadata": {},
   "outputs": [
    {
     "data": {
      "text/html": [
       "<div>\n",
       "<style scoped>\n",
       "    .dataframe tbody tr th:only-of-type {\n",
       "        vertical-align: middle;\n",
       "    }\n",
       "\n",
       "    .dataframe tbody tr th {\n",
       "        vertical-align: top;\n",
       "    }\n",
       "\n",
       "    .dataframe thead th {\n",
       "        text-align: right;\n",
       "    }\n",
       "</style>\n",
       "<table border=\"1\" class=\"dataframe\">\n",
       "  <thead>\n",
       "    <tr style=\"text-align: right;\">\n",
       "      <th></th>\n",
       "      <th>munResNome</th>\n",
       "      <th>SEMAGESTAC</th>\n",
       "      <th>ifdm</th>\n",
       "    </tr>\n",
       "  </thead>\n",
       "  <tbody>\n",
       "    <tr>\n",
       "      <th>3</th>\n",
       "      <td>Alto Alegre dos Parecis</td>\n",
       "      <td>38.0</td>\n",
       "      <td>Desenvolvimento Regural</td>\n",
       "    </tr>\n",
       "    <tr>\n",
       "      <th>6</th>\n",
       "      <td>Novo Horizonte do Oeste</td>\n",
       "      <td>38.0</td>\n",
       "      <td>Desenvolvimento Regural</td>\n",
       "    </tr>\n",
       "    <tr>\n",
       "      <th>21</th>\n",
       "      <td>Rolim de Moura</td>\n",
       "      <td>38.0</td>\n",
       "      <td>Desenvolvimento Moderado</td>\n",
       "    </tr>\n",
       "    <tr>\n",
       "      <th>23</th>\n",
       "      <td>Alto Alegre dos Parecis</td>\n",
       "      <td>38.0</td>\n",
       "      <td>Desenvolvimento Regural</td>\n",
       "    </tr>\n",
       "    <tr>\n",
       "      <th>24</th>\n",
       "      <td>Alto Alegre dos Parecis</td>\n",
       "      <td>38.0</td>\n",
       "      <td>Desenvolvimento Regural</td>\n",
       "    </tr>\n",
       "  </tbody>\n",
       "</table>\n",
       "</div>"
      ],
      "text/plain": [
       "                 munResNome  SEMAGESTAC                      ifdm\n",
       "3   Alto Alegre dos Parecis        38.0   Desenvolvimento Regural\n",
       "6   Novo Horizonte do Oeste        38.0   Desenvolvimento Regural\n",
       "21           Rolim de Moura        38.0  Desenvolvimento Moderado\n",
       "23  Alto Alegre dos Parecis        38.0   Desenvolvimento Regural\n",
       "24  Alto Alegre dos Parecis        38.0   Desenvolvimento Regural"
      ]
     },
     "execution_count": 98,
     "metadata": {},
     "output_type": "execute_result"
    }
   ],
   "source": [
    "# Vamos imprimir para visualizar e verificar os dados:\n",
    "sinasc_14.head()"
   ]
  },
  {
   "cell_type": "code",
   "execution_count": 99,
   "metadata": {},
   "outputs": [
    {
     "data": {
      "text/html": [
       "<div>\n",
       "<style scoped>\n",
       "    .dataframe tbody tr th:only-of-type {\n",
       "        vertical-align: middle;\n",
       "    }\n",
       "\n",
       "    .dataframe tbody tr th {\n",
       "        vertical-align: top;\n",
       "    }\n",
       "\n",
       "    .dataframe thead tr th {\n",
       "        text-align: left;\n",
       "    }\n",
       "\n",
       "    .dataframe thead tr:last-of-type th {\n",
       "        text-align: right;\n",
       "    }\n",
       "</style>\n",
       "<table border=\"1\" class=\"dataframe\">\n",
       "  <thead>\n",
       "    <tr>\n",
       "      <th></th>\n",
       "      <th colspan=\"7\" halign=\"left\">SEMAGESTAC</th>\n",
       "    </tr>\n",
       "    <tr>\n",
       "      <th></th>\n",
       "      <th>soma</th>\n",
       "      <th>média</th>\n",
       "      <th>mínimo</th>\n",
       "      <th>máximo</th>\n",
       "      <th>mediana</th>\n",
       "      <th>desvio-padrão</th>\n",
       "      <th>variância</th>\n",
       "    </tr>\n",
       "    <tr>\n",
       "      <th>ifdm</th>\n",
       "      <th></th>\n",
       "      <th></th>\n",
       "      <th></th>\n",
       "      <th></th>\n",
       "      <th></th>\n",
       "      <th></th>\n",
       "      <th></th>\n",
       "    </tr>\n",
       "  </thead>\n",
       "  <tbody>\n",
       "    <tr>\n",
       "      <th>Desenvolvimento Moderado</th>\n",
       "      <td>786601.0</td>\n",
       "      <td>38.575891</td>\n",
       "      <td>19.0</td>\n",
       "      <td>45.0</td>\n",
       "      <td>39.0</td>\n",
       "      <td>1.998287</td>\n",
       "      <td>3.993149</td>\n",
       "    </tr>\n",
       "    <tr>\n",
       "      <th>Desenvolvimento Regural</th>\n",
       "      <td>135858.0</td>\n",
       "      <td>38.519422</td>\n",
       "      <td>19.0</td>\n",
       "      <td>45.0</td>\n",
       "      <td>39.0</td>\n",
       "      <td>2.052240</td>\n",
       "      <td>4.211690</td>\n",
       "    </tr>\n",
       "  </tbody>\n",
       "</table>\n",
       "</div>"
      ],
      "text/plain": [
       "                         SEMAGESTAC                                   \\\n",
       "                               soma      média mínimo máximo mediana   \n",
       "ifdm                                                                   \n",
       "Desenvolvimento Moderado   786601.0  38.575891   19.0   45.0    39.0   \n",
       "Desenvolvimento Regural    135858.0  38.519422   19.0   45.0    39.0   \n",
       "\n",
       "                                                  \n",
       "                         desvio-padrão variância  \n",
       "ifdm                                              \n",
       "Desenvolvimento Moderado      1.998287  3.993149  \n",
       "Desenvolvimento Regural       2.052240  4.211690  "
      ]
     },
     "execution_count": 99,
     "metadata": {},
     "output_type": "execute_result"
    }
   ],
   "source": [
    "# Para finalizar, vamos calcular a idade média das mães pelo número do IDH-Médio:\n",
    "resultado_7 = sinasc_14.groupby('ifdm').agg({'SEMAGESTAC': [('soma','sum'), \n",
    "                                                            ('média','mean'), \n",
    "                                                            ('mínimo','min'), \n",
    "                                                            ('máximo','max'), \n",
    "                                                            ('mediana','median'),\n",
    "                                                            ('desvio-padrão','std'), \n",
    "                                                            ('variância','var')]\n",
    "                                            })\n",
    "\n",
    "# Vamos mostrar o resultado para realizar a nossa análise:\n",
    "resultado_7"
   ]
  },
  {
   "cell_type": "code",
   "execution_count": 100,
   "metadata": {},
   "outputs": [
    {
     "data": {
      "text/html": [
       "<div>\n",
       "<style scoped>\n",
       "    .dataframe tbody tr th:only-of-type {\n",
       "        vertical-align: middle;\n",
       "    }\n",
       "\n",
       "    .dataframe tbody tr th {\n",
       "        vertical-align: top;\n",
       "    }\n",
       "\n",
       "    .dataframe thead th {\n",
       "        text-align: right;\n",
       "    }\n",
       "</style>\n",
       "<table border=\"1\" class=\"dataframe\">\n",
       "  <thead>\n",
       "    <tr style=\"text-align: right;\">\n",
       "      <th></th>\n",
       "      <th>munResNome</th>\n",
       "      <th>CONSPRENAT</th>\n",
       "    </tr>\n",
       "  </thead>\n",
       "  <tbody>\n",
       "    <tr>\n",
       "      <th>0</th>\n",
       "      <td>Alta Floresta D'Oeste</td>\n",
       "      <td>8.0</td>\n",
       "    </tr>\n",
       "    <tr>\n",
       "      <th>1</th>\n",
       "      <td>Alta Floresta D'Oeste</td>\n",
       "      <td>10.0</td>\n",
       "    </tr>\n",
       "    <tr>\n",
       "      <th>2</th>\n",
       "      <td>Alta Floresta D'Oeste</td>\n",
       "      <td>8.0</td>\n",
       "    </tr>\n",
       "    <tr>\n",
       "      <th>3</th>\n",
       "      <td>Alto Alegre dos Parecis</td>\n",
       "      <td>6.0</td>\n",
       "    </tr>\n",
       "    <tr>\n",
       "      <th>4</th>\n",
       "      <td>Alta Floresta D'Oeste</td>\n",
       "      <td>8.0</td>\n",
       "    </tr>\n",
       "  </tbody>\n",
       "</table>\n",
       "</div>"
      ],
      "text/plain": [
       "                munResNome  CONSPRENAT\n",
       "0    Alta Floresta D'Oeste         8.0\n",
       "1    Alta Floresta D'Oeste        10.0\n",
       "2    Alta Floresta D'Oeste         8.0\n",
       "3  Alto Alegre dos Parecis         6.0\n",
       "4    Alta Floresta D'Oeste         8.0"
      ]
     },
     "execution_count": 100,
     "metadata": {},
     "output_type": "execute_result"
    }
   ],
   "source": [
    "# Vamos construir um DataFrame que tenha as colunas dos municípios e da quantidade de consultas pré-natal que a mãe fez:\n",
    "sinasc_15 = sinasc_raw[['munResNome', 'CONSPRENAT']]\n",
    "\n",
    "# Mostramos o DataFrame para visualização e verificação:\n",
    "sinasc_15.head()"
   ]
  },
  {
   "cell_type": "code",
   "execution_count": 101,
   "metadata": {},
   "outputs": [
    {
     "name": "stderr",
     "output_type": "stream",
     "text": [
      "/tmp/ipykernel_6355/1367254510.py:2: SettingWithCopyWarning: \n",
      "A value is trying to be set on a copy of a slice from a DataFrame.\n",
      "Try using .loc[row_indexer,col_indexer] = value instead\n",
      "\n",
      "See the caveats in the documentation: https://pandas.pydata.org/pandas-docs/stable/user_guide/indexing.html#returning-a-view-versus-a-copy\n",
      "  sinasc_15['ifdm'] = sinasc_15['munResNome'].map(ifdm)\n"
     ]
    }
   ],
   "source": [
    "# Nesta linha de código vamos aplicar o mapping acima, ou seja, o 'ifdm':\n",
    "sinasc_15['ifdm'] = sinasc_15['munResNome'].map(ifdm)"
   ]
  },
  {
   "cell_type": "code",
   "execution_count": 102,
   "metadata": {},
   "outputs": [
    {
     "data": {
      "text/html": [
       "<div>\n",
       "<style scoped>\n",
       "    .dataframe tbody tr th:only-of-type {\n",
       "        vertical-align: middle;\n",
       "    }\n",
       "\n",
       "    .dataframe tbody tr th {\n",
       "        vertical-align: top;\n",
       "    }\n",
       "\n",
       "    .dataframe thead th {\n",
       "        text-align: right;\n",
       "    }\n",
       "</style>\n",
       "<table border=\"1\" class=\"dataframe\">\n",
       "  <thead>\n",
       "    <tr style=\"text-align: right;\">\n",
       "      <th></th>\n",
       "      <th>munResNome</th>\n",
       "      <th>CONSPRENAT</th>\n",
       "      <th>ifdm</th>\n",
       "    </tr>\n",
       "  </thead>\n",
       "  <tbody>\n",
       "    <tr>\n",
       "      <th>0</th>\n",
       "      <td>Alta Floresta D'Oeste</td>\n",
       "      <td>8.0</td>\n",
       "      <td>NaN</td>\n",
       "    </tr>\n",
       "    <tr>\n",
       "      <th>1</th>\n",
       "      <td>Alta Floresta D'Oeste</td>\n",
       "      <td>10.0</td>\n",
       "      <td>NaN</td>\n",
       "    </tr>\n",
       "    <tr>\n",
       "      <th>2</th>\n",
       "      <td>Alta Floresta D'Oeste</td>\n",
       "      <td>8.0</td>\n",
       "      <td>NaN</td>\n",
       "    </tr>\n",
       "    <tr>\n",
       "      <th>3</th>\n",
       "      <td>Alto Alegre dos Parecis</td>\n",
       "      <td>6.0</td>\n",
       "      <td>Desenvolvimento Regural</td>\n",
       "    </tr>\n",
       "    <tr>\n",
       "      <th>4</th>\n",
       "      <td>Alta Floresta D'Oeste</td>\n",
       "      <td>8.0</td>\n",
       "      <td>NaN</td>\n",
       "    </tr>\n",
       "  </tbody>\n",
       "</table>\n",
       "</div>"
      ],
      "text/plain": [
       "                munResNome  CONSPRENAT                     ifdm\n",
       "0    Alta Floresta D'Oeste         8.0                      NaN\n",
       "1    Alta Floresta D'Oeste        10.0                      NaN\n",
       "2    Alta Floresta D'Oeste         8.0                      NaN\n",
       "3  Alto Alegre dos Parecis         6.0  Desenvolvimento Regural\n",
       "4    Alta Floresta D'Oeste         8.0                      NaN"
      ]
     },
     "execution_count": 102,
     "metadata": {},
     "output_type": "execute_result"
    }
   ],
   "source": [
    "# Mostramos o DataFrame para visualização e verificação:\n",
    "sinasc_15.head()"
   ]
  },
  {
   "cell_type": "markdown",
   "metadata": {},
   "source": [
    "### Vamos fazer a análise do percentual das linhas com dados faltantesem relação ao nosso DataFrame:"
   ]
  },
  {
   "cell_type": "code",
   "execution_count": 104,
   "metadata": {},
   "outputs": [
    {
     "data": {
      "text/plain": [
       "1937"
      ]
     },
     "execution_count": 104,
     "metadata": {},
     "output_type": "execute_result"
    }
   ],
   "source": [
    "sinasc_15['ifdm'].isna().sum()"
   ]
  },
  {
   "cell_type": "code",
   "execution_count": 105,
   "metadata": {},
   "outputs": [
    {
     "data": {
      "text/plain": [
       "27028"
      ]
     },
     "execution_count": 105,
     "metadata": {},
     "output_type": "execute_result"
    }
   ],
   "source": [
    "sinasc_15.shape[0]"
   ]
  },
  {
   "cell_type": "code",
   "execution_count": 109,
   "metadata": {},
   "outputs": [
    {
     "data": {
      "text/plain": [
       "7.166642000887968"
      ]
     },
     "execution_count": 109,
     "metadata": {},
     "output_type": "execute_result"
    }
   ],
   "source": [
    "((sinasc_15['ifdm'].isna().sum())/(sinasc_15.shape[0]))*100"
   ]
  },
  {
   "cell_type": "markdown",
   "metadata": {},
   "source": [
    "### Foi removido aproximadamente 7% das linhas por conterem dados faltantes. Como a perda é pequena e os dados removidos estão distribuídos de forma aleatória, consideramos que a análise não será comprometida."
   ]
  },
  {
   "cell_type": "code",
   "execution_count": 110,
   "metadata": {},
   "outputs": [],
   "source": [
    "# Como há linhas com dados faltantes na coluna IDH_M que podem atrapalhar a nossa análise, vamos dropar estas linhas e ficar somente com \n",
    "# aquelas em que os municípios estão com esta classificação:\n",
    "sinasc_15 = sinasc_15.dropna( subset = ['ifdm'] )"
   ]
  },
  {
   "cell_type": "code",
   "execution_count": 111,
   "metadata": {},
   "outputs": [
    {
     "name": "stdout",
     "output_type": "stream",
     "text": [
      "0\n"
     ]
    }
   ],
   "source": [
    "print(sinasc_15['ifdm'].isna().sum())"
   ]
  },
  {
   "cell_type": "code",
   "execution_count": 112,
   "metadata": {},
   "outputs": [
    {
     "data": {
      "text/html": [
       "<div>\n",
       "<style scoped>\n",
       "    .dataframe tbody tr th:only-of-type {\n",
       "        vertical-align: middle;\n",
       "    }\n",
       "\n",
       "    .dataframe tbody tr th {\n",
       "        vertical-align: top;\n",
       "    }\n",
       "\n",
       "    .dataframe thead th {\n",
       "        text-align: right;\n",
       "    }\n",
       "</style>\n",
       "<table border=\"1\" class=\"dataframe\">\n",
       "  <thead>\n",
       "    <tr style=\"text-align: right;\">\n",
       "      <th></th>\n",
       "      <th>munResNome</th>\n",
       "      <th>CONSPRENAT</th>\n",
       "      <th>ifdm</th>\n",
       "    </tr>\n",
       "  </thead>\n",
       "  <tbody>\n",
       "    <tr>\n",
       "      <th>3</th>\n",
       "      <td>Alto Alegre dos Parecis</td>\n",
       "      <td>6.0</td>\n",
       "      <td>Desenvolvimento Regural</td>\n",
       "    </tr>\n",
       "    <tr>\n",
       "      <th>6</th>\n",
       "      <td>Novo Horizonte do Oeste</td>\n",
       "      <td>8.0</td>\n",
       "      <td>Desenvolvimento Regural</td>\n",
       "    </tr>\n",
       "    <tr>\n",
       "      <th>21</th>\n",
       "      <td>Rolim de Moura</td>\n",
       "      <td>8.0</td>\n",
       "      <td>Desenvolvimento Moderado</td>\n",
       "    </tr>\n",
       "    <tr>\n",
       "      <th>23</th>\n",
       "      <td>Alto Alegre dos Parecis</td>\n",
       "      <td>11.0</td>\n",
       "      <td>Desenvolvimento Regural</td>\n",
       "    </tr>\n",
       "    <tr>\n",
       "      <th>24</th>\n",
       "      <td>Alto Alegre dos Parecis</td>\n",
       "      <td>11.0</td>\n",
       "      <td>Desenvolvimento Regural</td>\n",
       "    </tr>\n",
       "  </tbody>\n",
       "</table>\n",
       "</div>"
      ],
      "text/plain": [
       "                 munResNome  CONSPRENAT                      ifdm\n",
       "3   Alto Alegre dos Parecis         6.0   Desenvolvimento Regural\n",
       "6   Novo Horizonte do Oeste         8.0   Desenvolvimento Regural\n",
       "21           Rolim de Moura         8.0  Desenvolvimento Moderado\n",
       "23  Alto Alegre dos Parecis        11.0   Desenvolvimento Regural\n",
       "24  Alto Alegre dos Parecis        11.0   Desenvolvimento Regural"
      ]
     },
     "execution_count": 112,
     "metadata": {},
     "output_type": "execute_result"
    }
   ],
   "source": [
    "# Vamos imprimir para visualizar e verificar os dados:\n",
    "sinasc_15.head()"
   ]
  },
  {
   "cell_type": "code",
   "execution_count": 113,
   "metadata": {},
   "outputs": [
    {
     "data": {
      "text/html": [
       "<div>\n",
       "<style scoped>\n",
       "    .dataframe tbody tr th:only-of-type {\n",
       "        vertical-align: middle;\n",
       "    }\n",
       "\n",
       "    .dataframe tbody tr th {\n",
       "        vertical-align: top;\n",
       "    }\n",
       "\n",
       "    .dataframe thead tr th {\n",
       "        text-align: left;\n",
       "    }\n",
       "\n",
       "    .dataframe thead tr:last-of-type th {\n",
       "        text-align: right;\n",
       "    }\n",
       "</style>\n",
       "<table border=\"1\" class=\"dataframe\">\n",
       "  <thead>\n",
       "    <tr>\n",
       "      <th></th>\n",
       "      <th colspan=\"7\" halign=\"left\">CONSPRENAT</th>\n",
       "    </tr>\n",
       "    <tr>\n",
       "      <th></th>\n",
       "      <th>soma</th>\n",
       "      <th>média</th>\n",
       "      <th>mínimo</th>\n",
       "      <th>máximo</th>\n",
       "      <th>mediana</th>\n",
       "      <th>desvio-padrão</th>\n",
       "      <th>variância</th>\n",
       "    </tr>\n",
       "    <tr>\n",
       "      <th>ifdm</th>\n",
       "      <th></th>\n",
       "      <th></th>\n",
       "      <th></th>\n",
       "      <th></th>\n",
       "      <th></th>\n",
       "      <th></th>\n",
       "      <th></th>\n",
       "    </tr>\n",
       "  </thead>\n",
       "  <tbody>\n",
       "    <tr>\n",
       "      <th>Desenvolvimento Moderado</th>\n",
       "      <td>171932.0</td>\n",
       "      <td>8.333673</td>\n",
       "      <td>0.0</td>\n",
       "      <td>99.0</td>\n",
       "      <td>8.0</td>\n",
       "      <td>5.463957</td>\n",
       "      <td>29.854823</td>\n",
       "    </tr>\n",
       "    <tr>\n",
       "      <th>Desenvolvimento Regural</th>\n",
       "      <td>28297.0</td>\n",
       "      <td>7.948596</td>\n",
       "      <td>0.0</td>\n",
       "      <td>99.0</td>\n",
       "      <td>8.0</td>\n",
       "      <td>3.891316</td>\n",
       "      <td>15.142341</td>\n",
       "    </tr>\n",
       "  </tbody>\n",
       "</table>\n",
       "</div>"
      ],
      "text/plain": [
       "                         CONSPRENAT                                  \\\n",
       "                               soma     média mínimo máximo mediana   \n",
       "ifdm                                                                  \n",
       "Desenvolvimento Moderado   171932.0  8.333673    0.0   99.0     8.0   \n",
       "Desenvolvimento Regural     28297.0  7.948596    0.0   99.0     8.0   \n",
       "\n",
       "                                                   \n",
       "                         desvio-padrão  variância  \n",
       "ifdm                                               \n",
       "Desenvolvimento Moderado      5.463957  29.854823  \n",
       "Desenvolvimento Regural       3.891316  15.142341  "
      ]
     },
     "execution_count": 113,
     "metadata": {},
     "output_type": "execute_result"
    }
   ],
   "source": [
    "# Para finalizar, vamos calcular a idade média das mães pelo número do IDH-Médio:\n",
    "resultado_8 = sinasc_15.groupby('ifdm').agg({'CONSPRENAT': [('soma','sum'), \n",
    "                                                            ('média','mean'), \n",
    "                                                            ('mínimo','min'), \n",
    "                                                            ('máximo','max'), \n",
    "                                                            ('mediana','median'),\n",
    "                                                            ('desvio-padrão','std'), \n",
    "                                                            ('variância','var')]\n",
    "                                            })\n",
    "\n",
    "# Vamos mostrar o resultado para realizar a nossa análise:\n",
    "resultado_8"
   ]
  },
  {
   "cell_type": "markdown",
   "metadata": {
    "id": "BwdS46EWlTuI"
   },
   "source": [
    "### 5.3 PIB\n",
    "C - https://pt.wikipedia.org/wiki/Lista_de_munic%C3%ADpios_de_Rond%C3%B4nia_por_PIB\n"
   ]
  },
  {
   "cell_type": "code",
   "execution_count": 114,
   "metadata": {},
   "outputs": [],
   "source": [
    "pib = {\n",
    "        \"Porto Velho\" : 20059522,\n",
    "        \"Ji-Paraná\" : 4231113,\n",
    "        \"Vilhena\" : 4215046,\n",
    "        \"Ariquemes\" : 3209761,\n",
    "        \"Cacoal\" : 2792383,\n",
    "        \"Jaru\" : 1765089,\n",
    "        \"Pimenta Bueno\" : 1642516,\n",
    "        \"Rolim de Moura\" : 1565194,\n",
    "        \"Guajará-Mirim\" : 1054179,\n",
    "        \"Ouro Preto do Oeste\" : 985868,\n",
    "        \"Buritis\" : 966552,\n",
    "        \"São Miguel do Guaporé\" : 905335,\n",
    "        \"Machadinho do Oeste\" : 890320,\n",
    "        \"Espigão d'Oeste\" : 773381,\n",
    "        \"Cerejeiras\" : 743037,\n",
    "        \"Nova Mamoré\" : 742687,\n",
    "        \"Alta Floresta do Oeste\" : 734469,\n",
    "        \"Candeias do Jamari\" : 655606, \n",
    "        \"Presidente Médici\" : 559990,\n",
    "        \"Nova Brasilândia do Oeste\" : 548734,\n",
    "        \"Alto Paraíso\" : 510361,\n",
    "        \"São Francisco do Guaporé\" : 488043,\n",
    "        \"Cujubim\" : 487480,\n",
    "        \"Alto Alegre dos Parecis\" : 483672,\n",
    "        \"Chupinguaia\" : 468793,\n",
    "        \"Colorado do Oeste\" : 424807,\n",
    "        \"Corumbiara\" : 396728,\n",
    "        \"Monte Negro\" : 389891,\n",
    "        \"Campo Novo de Rondônia\" : 369377,\n",
    "        \"Alvorada do Oeste\" : 352628,\n",
    "        \"Seringueiras\" : 332987,\n",
    "        \"Costa Marques\" : 316671,\n",
    "        \"Ministro Andreazza\" : 297878,\n",
    "        \"Cacaulândia\" : 275338,\n",
    "        \"Urupá\" : 273501,\n",
    "        \"Mirante da Serra\" : 262640,\n",
    "        \"Theobroma\" : 257426,\n",
    "        \"Pimenteiras do Oeste\" : 246209,\n",
    "        \"Governador Jorge Teixeira\" : 239330,\n",
    "        \"Cabixi\" : 238412,\n",
    "        \"Novo Horizonte do Oeste\" : 231502,\n",
    "        \"Vale do Anari\" : 220588,\n",
    "        \"Santa Luzia do Oeste\" : 213556,\n",
    "        \"Itapuã do Oeste\" : 210031,\n",
    "        \"Vale do Paraíso\" : 185648,\n",
    "        \"Rio Crespo\" : 184430,\n",
    "        \"Nova União\" : 157321,\n",
    "        \"Parecis\" : 155434,\n",
    "        \"São Felipe do Oeste\" : 130676,\n",
    "        \"Teixeirópolis\" : 121301,\n",
    "        \"Primavera de Rondônia\" : 107030,\n",
    "        \"Castanheiras\" : 99627\n",
    "}"
   ]
  },
  {
   "cell_type": "code",
   "execution_count": 138,
   "metadata": {},
   "outputs": [
    {
     "data": {
      "text/html": [
       "<div>\n",
       "<style scoped>\n",
       "    .dataframe tbody tr th:only-of-type {\n",
       "        vertical-align: middle;\n",
       "    }\n",
       "\n",
       "    .dataframe tbody tr th {\n",
       "        vertical-align: top;\n",
       "    }\n",
       "\n",
       "    .dataframe thead th {\n",
       "        text-align: right;\n",
       "    }\n",
       "</style>\n",
       "<table border=\"1\" class=\"dataframe\">\n",
       "  <thead>\n",
       "    <tr style=\"text-align: right;\">\n",
       "      <th></th>\n",
       "      <th>munResNome</th>\n",
       "      <th>IDADEMAE</th>\n",
       "      <th>IDADEPAI</th>\n",
       "      <th>ESCMAE</th>\n",
       "    </tr>\n",
       "  </thead>\n",
       "  <tbody>\n",
       "    <tr>\n",
       "      <th>0</th>\n",
       "      <td>Alta Floresta D'Oeste</td>\n",
       "      <td>19</td>\n",
       "      <td>26.0</td>\n",
       "      <td>8 a 11 anos</td>\n",
       "    </tr>\n",
       "    <tr>\n",
       "      <th>1</th>\n",
       "      <td>Alta Floresta D'Oeste</td>\n",
       "      <td>29</td>\n",
       "      <td>24.0</td>\n",
       "      <td>8 a 11 anos</td>\n",
       "    </tr>\n",
       "    <tr>\n",
       "      <th>2</th>\n",
       "      <td>Alta Floresta D'Oeste</td>\n",
       "      <td>37</td>\n",
       "      <td>32.0</td>\n",
       "      <td>8 a 11 anos</td>\n",
       "    </tr>\n",
       "    <tr>\n",
       "      <th>3</th>\n",
       "      <td>Alto Alegre dos Parecis</td>\n",
       "      <td>30</td>\n",
       "      <td>24.0</td>\n",
       "      <td>12 anos ou mais</td>\n",
       "    </tr>\n",
       "    <tr>\n",
       "      <th>4</th>\n",
       "      <td>Alta Floresta D'Oeste</td>\n",
       "      <td>30</td>\n",
       "      <td>27.0</td>\n",
       "      <td>8 a 11 anos</td>\n",
       "    </tr>\n",
       "  </tbody>\n",
       "</table>\n",
       "</div>"
      ],
      "text/plain": [
       "                munResNome  IDADEMAE  IDADEPAI           ESCMAE\n",
       "0    Alta Floresta D'Oeste        19      26.0      8 a 11 anos\n",
       "1    Alta Floresta D'Oeste        29      24.0      8 a 11 anos\n",
       "2    Alta Floresta D'Oeste        37      32.0      8 a 11 anos\n",
       "3  Alto Alegre dos Parecis        30      24.0  12 anos ou mais\n",
       "4    Alta Floresta D'Oeste        30      27.0      8 a 11 anos"
      ]
     },
     "execution_count": 138,
     "metadata": {},
     "output_type": "execute_result"
    }
   ],
   "source": [
    "# Vamos fazer um DataFrame com as idades das mães e o nome dos municípios novamente:\n",
    "sinasc_16 = sinasc_raw[['munResNome', 'IDADEMAE', 'IDADEPAI','ESCMAE']]\n",
    "\n",
    "# Mostramos o DataFrame para visualização e verificação:\n",
    "sinasc_16.head()"
   ]
  },
  {
   "cell_type": "markdown",
   "metadata": {},
   "source": [
    "### Vamos fazer o mapping do DataFrame usando as informações que recolhemos do PIB de cada município de Rondônia, em que será criada uma coluna em que associa cada município com o valor pesquisado."
   ]
  },
  {
   "cell_type": "code",
   "execution_count": 139,
   "metadata": {},
   "outputs": [
    {
     "name": "stderr",
     "output_type": "stream",
     "text": [
      "/tmp/ipykernel_6355/1900607490.py:1: SettingWithCopyWarning: \n",
      "A value is trying to be set on a copy of a slice from a DataFrame.\n",
      "Try using .loc[row_indexer,col_indexer] = value instead\n",
      "\n",
      "See the caveats in the documentation: https://pandas.pydata.org/pandas-docs/stable/user_guide/indexing.html#returning-a-view-versus-a-copy\n",
      "  sinasc_16['PIB'] = sinasc_16['munResNome'].map(pib)\n"
     ]
    }
   ],
   "source": [
    "sinasc_16['PIB'] = sinasc_16['munResNome'].map(pib)"
   ]
  },
  {
   "cell_type": "code",
   "execution_count": 140,
   "metadata": {},
   "outputs": [
    {
     "data": {
      "text/html": [
       "<div>\n",
       "<style scoped>\n",
       "    .dataframe tbody tr th:only-of-type {\n",
       "        vertical-align: middle;\n",
       "    }\n",
       "\n",
       "    .dataframe tbody tr th {\n",
       "        vertical-align: top;\n",
       "    }\n",
       "\n",
       "    .dataframe thead th {\n",
       "        text-align: right;\n",
       "    }\n",
       "</style>\n",
       "<table border=\"1\" class=\"dataframe\">\n",
       "  <thead>\n",
       "    <tr style=\"text-align: right;\">\n",
       "      <th></th>\n",
       "      <th>munResNome</th>\n",
       "      <th>IDADEMAE</th>\n",
       "      <th>IDADEPAI</th>\n",
       "      <th>ESCMAE</th>\n",
       "      <th>PIB</th>\n",
       "    </tr>\n",
       "  </thead>\n",
       "  <tbody>\n",
       "    <tr>\n",
       "      <th>0</th>\n",
       "      <td>Alta Floresta D'Oeste</td>\n",
       "      <td>19</td>\n",
       "      <td>26.0</td>\n",
       "      <td>8 a 11 anos</td>\n",
       "      <td>NaN</td>\n",
       "    </tr>\n",
       "    <tr>\n",
       "      <th>1</th>\n",
       "      <td>Alta Floresta D'Oeste</td>\n",
       "      <td>29</td>\n",
       "      <td>24.0</td>\n",
       "      <td>8 a 11 anos</td>\n",
       "      <td>NaN</td>\n",
       "    </tr>\n",
       "    <tr>\n",
       "      <th>2</th>\n",
       "      <td>Alta Floresta D'Oeste</td>\n",
       "      <td>37</td>\n",
       "      <td>32.0</td>\n",
       "      <td>8 a 11 anos</td>\n",
       "      <td>NaN</td>\n",
       "    </tr>\n",
       "    <tr>\n",
       "      <th>3</th>\n",
       "      <td>Alto Alegre dos Parecis</td>\n",
       "      <td>30</td>\n",
       "      <td>24.0</td>\n",
       "      <td>12 anos ou mais</td>\n",
       "      <td>483672.0</td>\n",
       "    </tr>\n",
       "    <tr>\n",
       "      <th>4</th>\n",
       "      <td>Alta Floresta D'Oeste</td>\n",
       "      <td>30</td>\n",
       "      <td>27.0</td>\n",
       "      <td>8 a 11 anos</td>\n",
       "      <td>NaN</td>\n",
       "    </tr>\n",
       "  </tbody>\n",
       "</table>\n",
       "</div>"
      ],
      "text/plain": [
       "                munResNome  IDADEMAE  IDADEPAI           ESCMAE       PIB\n",
       "0    Alta Floresta D'Oeste        19      26.0      8 a 11 anos       NaN\n",
       "1    Alta Floresta D'Oeste        29      24.0      8 a 11 anos       NaN\n",
       "2    Alta Floresta D'Oeste        37      32.0      8 a 11 anos       NaN\n",
       "3  Alto Alegre dos Parecis        30      24.0  12 anos ou mais  483672.0\n",
       "4    Alta Floresta D'Oeste        30      27.0      8 a 11 anos       NaN"
      ]
     },
     "execution_count": 140,
     "metadata": {},
     "output_type": "execute_result"
    }
   ],
   "source": [
    "sinasc_16.head(5)"
   ]
  },
  {
   "cell_type": "markdown",
   "metadata": {},
   "source": [
    "### Como apareceram linhas com dados faltantes, vamos verificar se ao 'droparmos' esta linha, a nossa análise não será comprometida. "
   ]
  },
  {
   "cell_type": "code",
   "execution_count": 141,
   "metadata": {},
   "outputs": [
    {
     "data": {
      "text/plain": [
       "1937"
      ]
     },
     "execution_count": 141,
     "metadata": {},
     "output_type": "execute_result"
    }
   ],
   "source": [
    "sinasc_16['PIB'].isna().sum()"
   ]
  },
  {
   "cell_type": "code",
   "execution_count": 142,
   "metadata": {},
   "outputs": [
    {
     "data": {
      "text/plain": [
       "27028"
      ]
     },
     "execution_count": 142,
     "metadata": {},
     "output_type": "execute_result"
    }
   ],
   "source": [
    "sinasc_16.shape[0]"
   ]
  },
  {
   "cell_type": "code",
   "execution_count": 143,
   "metadata": {},
   "outputs": [
    {
     "data": {
      "text/plain": [
       "7.166642000887968"
      ]
     },
     "execution_count": 143,
     "metadata": {},
     "output_type": "execute_result"
    }
   ],
   "source": [
    "((sinasc_16['PIB'].isna().sum())/(sinasc_16.shape[0]))*100"
   ]
  },
  {
   "cell_type": "markdown",
   "metadata": {},
   "source": [
    "### Foi removido aproximadamente 7% das linhas por conterem dados faltantes. Como a perda é pequena e os dados removidos estão distribuídos de forma aleatória, consideramos que a análise não será comprometida."
   ]
  },
  {
   "cell_type": "code",
   "execution_count": 144,
   "metadata": {},
   "outputs": [],
   "source": [
    "sinasc_16 = sinasc_16.dropna( subset = [\"PIB\"] )"
   ]
  },
  {
   "cell_type": "code",
   "execution_count": 145,
   "metadata": {},
   "outputs": [
    {
     "data": {
      "text/html": [
       "<div>\n",
       "<style scoped>\n",
       "    .dataframe tbody tr th:only-of-type {\n",
       "        vertical-align: middle;\n",
       "    }\n",
       "\n",
       "    .dataframe tbody tr th {\n",
       "        vertical-align: top;\n",
       "    }\n",
       "\n",
       "    .dataframe thead th {\n",
       "        text-align: right;\n",
       "    }\n",
       "</style>\n",
       "<table border=\"1\" class=\"dataframe\">\n",
       "  <thead>\n",
       "    <tr style=\"text-align: right;\">\n",
       "      <th></th>\n",
       "      <th>munResNome</th>\n",
       "      <th>IDADEMAE</th>\n",
       "      <th>IDADEPAI</th>\n",
       "      <th>ESCMAE</th>\n",
       "      <th>PIB</th>\n",
       "    </tr>\n",
       "  </thead>\n",
       "  <tbody>\n",
       "    <tr>\n",
       "      <th>3</th>\n",
       "      <td>Alto Alegre dos Parecis</td>\n",
       "      <td>30</td>\n",
       "      <td>24.0</td>\n",
       "      <td>12 anos ou mais</td>\n",
       "      <td>483672.0</td>\n",
       "    </tr>\n",
       "    <tr>\n",
       "      <th>6</th>\n",
       "      <td>Novo Horizonte do Oeste</td>\n",
       "      <td>37</td>\n",
       "      <td>42.0</td>\n",
       "      <td>8 a 11 anos</td>\n",
       "      <td>231502.0</td>\n",
       "    </tr>\n",
       "    <tr>\n",
       "      <th>21</th>\n",
       "      <td>Rolim de Moura</td>\n",
       "      <td>31</td>\n",
       "      <td>37.0</td>\n",
       "      <td>12 anos ou mais</td>\n",
       "      <td>1565194.0</td>\n",
       "    </tr>\n",
       "    <tr>\n",
       "      <th>23</th>\n",
       "      <td>Alto Alegre dos Parecis</td>\n",
       "      <td>26</td>\n",
       "      <td>43.0</td>\n",
       "      <td>8 a 11 anos</td>\n",
       "      <td>483672.0</td>\n",
       "    </tr>\n",
       "    <tr>\n",
       "      <th>24</th>\n",
       "      <td>Alto Alegre dos Parecis</td>\n",
       "      <td>26</td>\n",
       "      <td>43.0</td>\n",
       "      <td>8 a 11 anos</td>\n",
       "      <td>483672.0</td>\n",
       "    </tr>\n",
       "  </tbody>\n",
       "</table>\n",
       "</div>"
      ],
      "text/plain": [
       "                 munResNome  IDADEMAE  IDADEPAI           ESCMAE        PIB\n",
       "3   Alto Alegre dos Parecis        30      24.0  12 anos ou mais   483672.0\n",
       "6   Novo Horizonte do Oeste        37      42.0      8 a 11 anos   231502.0\n",
       "21           Rolim de Moura        31      37.0  12 anos ou mais  1565194.0\n",
       "23  Alto Alegre dos Parecis        26      43.0      8 a 11 anos   483672.0\n",
       "24  Alto Alegre dos Parecis        26      43.0      8 a 11 anos   483672.0"
      ]
     },
     "execution_count": 145,
     "metadata": {},
     "output_type": "execute_result"
    }
   ],
   "source": [
    "sinasc_16.head(5)"
   ]
  },
  {
   "cell_type": "markdown",
   "metadata": {},
   "source": [
    "### Para continuar a nossa análise, vamos dividir os municípios segundo o PIB. Acredito que se dividirmos pela mediana dos PIBs teremos uma análise satisfatória quanto às idades das mães, dos pais, a quantiade de semanas de gestação e a quantidade de consultas pré-natal. "
   ]
  },
  {
   "cell_type": "code",
   "execution_count": 137,
   "metadata": {},
   "outputs": [],
   "source": [
    "pib_mun = pd.qcut(sinasc_16['PIB'], 2)"
   ]
  },
  {
   "cell_type": "code",
   "execution_count": 146,
   "metadata": {},
   "outputs": [
    {
     "name": "stderr",
     "output_type": "stream",
     "text": [
      "/tmp/ipykernel_6355/3704271057.py:1: FutureWarning: The default value of observed=False is deprecated and will change to observed=True in a future version of pandas. Specify observed=False to silence this warning and retain the current behavior\n",
      "  sinasc_16.pivot_table(\n",
      "/tmp/ipykernel_6355/3704271057.py:1: FutureWarning: The default value of observed=False is deprecated and will change to observed=True in a future version of pandas. Specify observed=False to silence this warning and retain the current behavior\n",
      "  sinasc_16.pivot_table(\n",
      "/tmp/ipykernel_6355/3704271057.py:1: FutureWarning: The default value of observed=False is deprecated and will change to observed=True in a future version of pandas. Specify observed=False to silence this warning and retain the current behavior\n",
      "  sinasc_16.pivot_table(\n",
      "/tmp/ipykernel_6355/3704271057.py:1: FutureWarning: The default value of observed=False is deprecated and will change to observed=True in a future version of pandas. Specify observed=False to silence this warning and retain the current behavior\n",
      "  sinasc_16.pivot_table(\n"
     ]
    },
    {
     "data": {
      "text/html": [
       "<div>\n",
       "<style scoped>\n",
       "    .dataframe tbody tr th:only-of-type {\n",
       "        vertical-align: middle;\n",
       "    }\n",
       "\n",
       "    .dataframe tbody tr th {\n",
       "        vertical-align: top;\n",
       "    }\n",
       "\n",
       "    .dataframe thead tr th {\n",
       "        text-align: left;\n",
       "    }\n",
       "\n",
       "    .dataframe thead tr:last-of-type th {\n",
       "        text-align: right;\n",
       "    }\n",
       "</style>\n",
       "<table border=\"1\" class=\"dataframe\">\n",
       "  <thead>\n",
       "    <tr>\n",
       "      <th></th>\n",
       "      <th colspan=\"4\" halign=\"left\">mean</th>\n",
       "      <th colspan=\"4\" halign=\"left\">median</th>\n",
       "      <th colspan=\"4\" halign=\"left\">min</th>\n",
       "      <th colspan=\"4\" halign=\"left\">max</th>\n",
       "    </tr>\n",
       "    <tr>\n",
       "      <th></th>\n",
       "      <th colspan=\"2\" halign=\"left\">IDADEMAE</th>\n",
       "      <th colspan=\"2\" halign=\"left\">IDADEPAI</th>\n",
       "      <th colspan=\"2\" halign=\"left\">IDADEMAE</th>\n",
       "      <th colspan=\"2\" halign=\"left\">IDADEPAI</th>\n",
       "      <th colspan=\"2\" halign=\"left\">IDADEMAE</th>\n",
       "      <th colspan=\"2\" halign=\"left\">IDADEPAI</th>\n",
       "      <th colspan=\"2\" halign=\"left\">IDADEMAE</th>\n",
       "      <th colspan=\"2\" halign=\"left\">IDADEPAI</th>\n",
       "    </tr>\n",
       "    <tr>\n",
       "      <th>PIB</th>\n",
       "      <th>(99626.999, 3209761.0]</th>\n",
       "      <th>(3209761.0, 20059522.0]</th>\n",
       "      <th>(99626.999, 3209761.0]</th>\n",
       "      <th>(3209761.0, 20059522.0]</th>\n",
       "      <th>(99626.999, 3209761.0]</th>\n",
       "      <th>(3209761.0, 20059522.0]</th>\n",
       "      <th>(99626.999, 3209761.0]</th>\n",
       "      <th>(3209761.0, 20059522.0]</th>\n",
       "      <th>(99626.999, 3209761.0]</th>\n",
       "      <th>(3209761.0, 20059522.0]</th>\n",
       "      <th>(99626.999, 3209761.0]</th>\n",
       "      <th>(3209761.0, 20059522.0]</th>\n",
       "      <th>(99626.999, 3209761.0]</th>\n",
       "      <th>(3209761.0, 20059522.0]</th>\n",
       "      <th>(99626.999, 3209761.0]</th>\n",
       "      <th>(3209761.0, 20059522.0]</th>\n",
       "    </tr>\n",
       "    <tr>\n",
       "      <th>ESCMAE</th>\n",
       "      <th></th>\n",
       "      <th></th>\n",
       "      <th></th>\n",
       "      <th></th>\n",
       "      <th></th>\n",
       "      <th></th>\n",
       "      <th></th>\n",
       "      <th></th>\n",
       "      <th></th>\n",
       "      <th></th>\n",
       "      <th></th>\n",
       "      <th></th>\n",
       "      <th></th>\n",
       "      <th></th>\n",
       "      <th></th>\n",
       "      <th></th>\n",
       "    </tr>\n",
       "  </thead>\n",
       "  <tbody>\n",
       "    <tr>\n",
       "      <th>1 a 3 anos</th>\n",
       "      <td>28.644269</td>\n",
       "      <td>28.138756</td>\n",
       "      <td>34.897436</td>\n",
       "      <td>32.222222</td>\n",
       "      <td>28.0</td>\n",
       "      <td>28.0</td>\n",
       "      <td>36.0</td>\n",
       "      <td>33.0</td>\n",
       "      <td>12</td>\n",
       "      <td>12</td>\n",
       "      <td>21.0</td>\n",
       "      <td>18.0</td>\n",
       "      <td>44</td>\n",
       "      <td>45</td>\n",
       "      <td>60.0</td>\n",
       "      <td>42.0</td>\n",
       "    </tr>\n",
       "    <tr>\n",
       "      <th>12 anos ou mais</th>\n",
       "      <td>29.217286</td>\n",
       "      <td>29.912793</td>\n",
       "      <td>32.754137</td>\n",
       "      <td>33.641026</td>\n",
       "      <td>29.0</td>\n",
       "      <td>30.0</td>\n",
       "      <td>32.0</td>\n",
       "      <td>33.0</td>\n",
       "      <td>16</td>\n",
       "      <td>18</td>\n",
       "      <td>17.0</td>\n",
       "      <td>18.0</td>\n",
       "      <td>47</td>\n",
       "      <td>47</td>\n",
       "      <td>62.0</td>\n",
       "      <td>65.0</td>\n",
       "    </tr>\n",
       "    <tr>\n",
       "      <th>4 a 7 anos</th>\n",
       "      <td>25.042863</td>\n",
       "      <td>24.009606</td>\n",
       "      <td>31.437722</td>\n",
       "      <td>29.968085</td>\n",
       "      <td>24.0</td>\n",
       "      <td>23.0</td>\n",
       "      <td>30.0</td>\n",
       "      <td>29.0</td>\n",
       "      <td>11</td>\n",
       "      <td>12</td>\n",
       "      <td>16.0</td>\n",
       "      <td>16.0</td>\n",
       "      <td>47</td>\n",
       "      <td>46</td>\n",
       "      <td>73.0</td>\n",
       "      <td>63.0</td>\n",
       "    </tr>\n",
       "    <tr>\n",
       "      <th>8 a 11 anos</th>\n",
       "      <td>24.971730</td>\n",
       "      <td>25.361239</td>\n",
       "      <td>29.893609</td>\n",
       "      <td>30.586636</td>\n",
       "      <td>24.0</td>\n",
       "      <td>25.0</td>\n",
       "      <td>29.0</td>\n",
       "      <td>30.0</td>\n",
       "      <td>13</td>\n",
       "      <td>12</td>\n",
       "      <td>16.0</td>\n",
       "      <td>15.0</td>\n",
       "      <td>53</td>\n",
       "      <td>44</td>\n",
       "      <td>70.0</td>\n",
       "      <td>60.0</td>\n",
       "    </tr>\n",
       "    <tr>\n",
       "      <th>Nenhuma</th>\n",
       "      <td>30.526316</td>\n",
       "      <td>32.222222</td>\n",
       "      <td>29.500000</td>\n",
       "      <td>45.500000</td>\n",
       "      <td>29.0</td>\n",
       "      <td>34.5</td>\n",
       "      <td>29.5</td>\n",
       "      <td>45.5</td>\n",
       "      <td>14</td>\n",
       "      <td>18</td>\n",
       "      <td>29.0</td>\n",
       "      <td>39.0</td>\n",
       "      <td>52</td>\n",
       "      <td>42</td>\n",
       "      <td>30.0</td>\n",
       "      <td>52.0</td>\n",
       "    </tr>\n",
       "  </tbody>\n",
       "</table>\n",
       "</div>"
      ],
      "text/plain": [
       "                                  mean                          \\\n",
       "                              IDADEMAE                           \n",
       "PIB             (99626.999, 3209761.0] (3209761.0, 20059522.0]   \n",
       "ESCMAE                                                           \n",
       "1 a 3 anos                   28.644269               28.138756   \n",
       "12 anos ou mais              29.217286               29.912793   \n",
       "4 a 7 anos                   25.042863               24.009606   \n",
       "8 a 11 anos                  24.971730               25.361239   \n",
       "Nenhuma                      30.526316               32.222222   \n",
       "\n",
       "                                                                \\\n",
       "                              IDADEPAI                           \n",
       "PIB             (99626.999, 3209761.0] (3209761.0, 20059522.0]   \n",
       "ESCMAE                                                           \n",
       "1 a 3 anos                   34.897436               32.222222   \n",
       "12 anos ou mais              32.754137               33.641026   \n",
       "4 a 7 anos                   31.437722               29.968085   \n",
       "8 a 11 anos                  29.893609               30.586636   \n",
       "Nenhuma                      29.500000               45.500000   \n",
       "\n",
       "                                median                          \\\n",
       "                              IDADEMAE                           \n",
       "PIB             (99626.999, 3209761.0] (3209761.0, 20059522.0]   \n",
       "ESCMAE                                                           \n",
       "1 a 3 anos                        28.0                    28.0   \n",
       "12 anos ou mais                   29.0                    30.0   \n",
       "4 a 7 anos                        24.0                    23.0   \n",
       "8 a 11 anos                       24.0                    25.0   \n",
       "Nenhuma                           29.0                    34.5   \n",
       "\n",
       "                                                                \\\n",
       "                              IDADEPAI                           \n",
       "PIB             (99626.999, 3209761.0] (3209761.0, 20059522.0]   \n",
       "ESCMAE                                                           \n",
       "1 a 3 anos                        36.0                    33.0   \n",
       "12 anos ou mais                   32.0                    33.0   \n",
       "4 a 7 anos                        30.0                    29.0   \n",
       "8 a 11 anos                       29.0                    30.0   \n",
       "Nenhuma                           29.5                    45.5   \n",
       "\n",
       "                                   min                          \\\n",
       "                              IDADEMAE                           \n",
       "PIB             (99626.999, 3209761.0] (3209761.0, 20059522.0]   \n",
       "ESCMAE                                                           \n",
       "1 a 3 anos                          12                      12   \n",
       "12 anos ou mais                     16                      18   \n",
       "4 a 7 anos                          11                      12   \n",
       "8 a 11 anos                         13                      12   \n",
       "Nenhuma                             14                      18   \n",
       "\n",
       "                                                                \\\n",
       "                              IDADEPAI                           \n",
       "PIB             (99626.999, 3209761.0] (3209761.0, 20059522.0]   \n",
       "ESCMAE                                                           \n",
       "1 a 3 anos                        21.0                    18.0   \n",
       "12 anos ou mais                   17.0                    18.0   \n",
       "4 a 7 anos                        16.0                    16.0   \n",
       "8 a 11 anos                       16.0                    15.0   \n",
       "Nenhuma                           29.0                    39.0   \n",
       "\n",
       "                                   max                          \\\n",
       "                              IDADEMAE                           \n",
       "PIB             (99626.999, 3209761.0] (3209761.0, 20059522.0]   \n",
       "ESCMAE                                                           \n",
       "1 a 3 anos                          44                      45   \n",
       "12 anos ou mais                     47                      47   \n",
       "4 a 7 anos                          47                      46   \n",
       "8 a 11 anos                         53                      44   \n",
       "Nenhuma                             52                      42   \n",
       "\n",
       "                                                                \n",
       "                              IDADEPAI                          \n",
       "PIB             (99626.999, 3209761.0] (3209761.0, 20059522.0]  \n",
       "ESCMAE                                                          \n",
       "1 a 3 anos                        60.0                    42.0  \n",
       "12 anos ou mais                   62.0                    65.0  \n",
       "4 a 7 anos                        73.0                    63.0  \n",
       "8 a 11 anos                       70.0                    60.0  \n",
       "Nenhuma                           30.0                    52.0  "
      ]
     },
     "execution_count": 146,
     "metadata": {},
     "output_type": "execute_result"
    }
   ],
   "source": [
    "sinasc_16.pivot_table(\n",
    "                        values = ['IDADEMAE','IDADEPAI'],\n",
    "                        index = 'ESCMAE',\n",
    "                        columns = [pib_mun],\n",
    "                        aggfunc = ['mean', 'median', 'min', 'max']\n",
    ")"
   ]
  },
  {
   "cell_type": "markdown",
   "metadata": {
    "id": "bdWGW_xtlTuI"
   },
   "source": [
    "### Analise as respostas encontradas, tire algum insight delas, conte pra gente algo encontrado nos dados."
   ]
  },
  {
   "cell_type": "markdown",
   "metadata": {
    "id": "shZvokfBlTuI"
   },
   "source": [
    "Exemplo:\n",
    "- Ah, descobri que a idade mediana das mulheres que deram a luz no ano de 2019 dos municipios com o PIB mais alto é a maior dentre todas."
   ]
  },
  {
   "cell_type": "markdown",
   "metadata": {},
   "source": [
    "### Uma primeira característica interessante é que quando a mãe tem mais anos de estudo, a idade que ela tem seu bebê é maior, em média. Além disso, nos municípios mais ricos, quanto menos anos de estudo da mulher, mas cedo ela se torna mãe, em média o que é o contrário quando a mulher vive em municípios mais ricos e tem mais anos de estudo, ou seja, ela se torna mãe mais tarde, em média.\n",
    "### O mesmo comportamento acima acontece com os homens, quanto menos anos de estudo e mais rico o município em que o homem vive, mais cedo ele se torna pai. O contrário acontece quando a mãe tem mais anos de estudo e mora em um município mais rico.\n",
    "### Podemos também perceber um comportamento parecido quando nos referimos às idades mínimas das mulheres e dos homens. Esta idade é maior nos municípios mais ricos e quando a escolaridade da mãe é mais alta.\n",
    "### Para finalizar a minha análise, quanto menos tempo a mulher estuda e ela vive em um município mais pobre, mais velho é o pai do bebê. "
   ]
  }
 ],
 "metadata": {
  "colab": {
   "provenance": []
  },
  "kernelspec": {
   "display_name": "Python [conda env:base] *",
   "language": "python",
   "name": "conda-base-py"
  },
  "language_info": {
   "codemirror_mode": {
    "name": "ipython",
    "version": 3
   },
   "file_extension": ".py",
   "mimetype": "text/x-python",
   "name": "python",
   "nbconvert_exporter": "python",
   "pygments_lexer": "ipython3",
   "version": "3.11.5"
  },
  "varInspector": {
   "cols": {
    "lenName": 16,
    "lenType": 16,
    "lenVar": 40
   },
   "kernels_config": {
    "python": {
     "delete_cmd_postfix": "",
     "delete_cmd_prefix": "del ",
     "library": "var_list.py",
     "varRefreshCmd": "print(var_dic_list())"
    },
    "r": {
     "delete_cmd_postfix": ") ",
     "delete_cmd_prefix": "rm(",
     "library": "var_list.r",
     "varRefreshCmd": "cat(var_dic_list()) "
    }
   },
   "types_to_exclude": [
    "module",
    "function",
    "builtin_function_or_method",
    "instance",
    "_Feature"
   ],
   "window_display": false
  }
 },
 "nbformat": 4,
 "nbformat_minor": 4
}
